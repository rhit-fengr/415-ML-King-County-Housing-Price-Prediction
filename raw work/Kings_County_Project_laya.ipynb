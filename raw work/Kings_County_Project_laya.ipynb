{
 "cells": [
  {
   "cell_type": "code",
   "execution_count": 1,
   "metadata": {
    "id": "YnC94m1iLZBl"
   },
   "outputs": [],
   "source": [
    "import pandas as pd \n",
    "import numpy as np \n",
    "import matplotlib.pyplot as plt\n",
    "from sklearn.model_selection import train_test_split\n",
    "from sklearn.preprocessing import scale\n",
    "from sklearn.neighbors import KNeighborsRegressor\n",
    "from sklearn.tree import DecisionTreeRegressor, export_graphviz\n",
    "from sklearn.model_selection import GridSearchCV\n",
    "import graphviz\n",
    "from sklearn.linear_model import LinearRegression\n",
    "from sklearn.preprocessing import PolynomialFeatures\n",
    "from sklearn.ensemble import RandomForestRegressor\n",
    "from sklearn.linear_model import Ridge, RidgeCV, Lasso, LassoCV"
   ]
  },
  {
   "cell_type": "code",
   "execution_count": 2,
   "metadata": {
    "colab": {
     "base_uri": "https://localhost:8080/",
     "height": 237
    },
    "id": "4u0_wQAhLlb4",
    "outputId": "038894cc-f1c9-4331-b0fe-7adcedaaa568"
   },
   "outputs": [
    {
     "data": {
      "text/html": [
       "<div>\n",
       "<style scoped>\n",
       "    .dataframe tbody tr th:only-of-type {\n",
       "        vertical-align: middle;\n",
       "    }\n",
       "\n",
       "    .dataframe tbody tr th {\n",
       "        vertical-align: top;\n",
       "    }\n",
       "\n",
       "    .dataframe thead th {\n",
       "        text-align: right;\n",
       "    }\n",
       "</style>\n",
       "<table border=\"1\" class=\"dataframe\">\n",
       "  <thead>\n",
       "    <tr style=\"text-align: right;\">\n",
       "      <th></th>\n",
       "      <th>id</th>\n",
       "      <th>date</th>\n",
       "      <th>price</th>\n",
       "      <th>bedrooms</th>\n",
       "      <th>bathrooms</th>\n",
       "      <th>sqft_living</th>\n",
       "      <th>sqft_lot</th>\n",
       "      <th>floors</th>\n",
       "      <th>waterfront</th>\n",
       "      <th>view</th>\n",
       "      <th>...</th>\n",
       "      <th>grade</th>\n",
       "      <th>sqft_above</th>\n",
       "      <th>sqft_basement</th>\n",
       "      <th>yr_built</th>\n",
       "      <th>yr_renovated</th>\n",
       "      <th>zipcode</th>\n",
       "      <th>lat</th>\n",
       "      <th>long</th>\n",
       "      <th>sqft_living15</th>\n",
       "      <th>sqft_lot15</th>\n",
       "    </tr>\n",
       "  </thead>\n",
       "  <tbody>\n",
       "    <tr>\n",
       "      <th>0</th>\n",
       "      <td>7129300520</td>\n",
       "      <td>20141013T000000</td>\n",
       "      <td>221900.0</td>\n",
       "      <td>3</td>\n",
       "      <td>1.00</td>\n",
       "      <td>1180</td>\n",
       "      <td>5650</td>\n",
       "      <td>1.0</td>\n",
       "      <td>0</td>\n",
       "      <td>0</td>\n",
       "      <td>...</td>\n",
       "      <td>7</td>\n",
       "      <td>1180</td>\n",
       "      <td>0</td>\n",
       "      <td>1955</td>\n",
       "      <td>0</td>\n",
       "      <td>98178</td>\n",
       "      <td>47.5112</td>\n",
       "      <td>-122.257</td>\n",
       "      <td>1340</td>\n",
       "      <td>5650</td>\n",
       "    </tr>\n",
       "    <tr>\n",
       "      <th>1</th>\n",
       "      <td>6414100192</td>\n",
       "      <td>20141209T000000</td>\n",
       "      <td>538000.0</td>\n",
       "      <td>3</td>\n",
       "      <td>2.25</td>\n",
       "      <td>2570</td>\n",
       "      <td>7242</td>\n",
       "      <td>2.0</td>\n",
       "      <td>0</td>\n",
       "      <td>0</td>\n",
       "      <td>...</td>\n",
       "      <td>7</td>\n",
       "      <td>2170</td>\n",
       "      <td>400</td>\n",
       "      <td>1951</td>\n",
       "      <td>1991</td>\n",
       "      <td>98125</td>\n",
       "      <td>47.7210</td>\n",
       "      <td>-122.319</td>\n",
       "      <td>1690</td>\n",
       "      <td>7639</td>\n",
       "    </tr>\n",
       "    <tr>\n",
       "      <th>2</th>\n",
       "      <td>5631500400</td>\n",
       "      <td>20150225T000000</td>\n",
       "      <td>180000.0</td>\n",
       "      <td>2</td>\n",
       "      <td>1.00</td>\n",
       "      <td>770</td>\n",
       "      <td>10000</td>\n",
       "      <td>1.0</td>\n",
       "      <td>0</td>\n",
       "      <td>0</td>\n",
       "      <td>...</td>\n",
       "      <td>6</td>\n",
       "      <td>770</td>\n",
       "      <td>0</td>\n",
       "      <td>1933</td>\n",
       "      <td>0</td>\n",
       "      <td>98028</td>\n",
       "      <td>47.7379</td>\n",
       "      <td>-122.233</td>\n",
       "      <td>2720</td>\n",
       "      <td>8062</td>\n",
       "    </tr>\n",
       "  </tbody>\n",
       "</table>\n",
       "<p>3 rows × 21 columns</p>\n",
       "</div>"
      ],
      "text/plain": [
       "           id             date     price  bedrooms  bathrooms  sqft_living  \\\n",
       "0  7129300520  20141013T000000  221900.0         3       1.00         1180   \n",
       "1  6414100192  20141209T000000  538000.0         3       2.25         2570   \n",
       "2  5631500400  20150225T000000  180000.0         2       1.00          770   \n",
       "\n",
       "   sqft_lot  floors  waterfront  view  ...  grade  sqft_above  sqft_basement  \\\n",
       "0      5650     1.0           0     0  ...      7        1180              0   \n",
       "1      7242     2.0           0     0  ...      7        2170            400   \n",
       "2     10000     1.0           0     0  ...      6         770              0   \n",
       "\n",
       "   yr_built  yr_renovated  zipcode      lat     long  sqft_living15  \\\n",
       "0      1955             0    98178  47.5112 -122.257           1340   \n",
       "1      1951          1991    98125  47.7210 -122.319           1690   \n",
       "2      1933             0    98028  47.7379 -122.233           2720   \n",
       "\n",
       "   sqft_lot15  \n",
       "0        5650  \n",
       "1        7639  \n",
       "2        8062  \n",
       "\n",
       "[3 rows x 21 columns]"
      ]
     },
     "execution_count": 2,
     "metadata": {},
     "output_type": "execute_result"
    }
   ],
   "source": [
    "df = pd.read_csv('kc_house_data.csv')\n",
    "df.head(3)"
   ]
  },
  {
   "cell_type": "code",
   "execution_count": 4,
   "metadata": {
    "id": "N52DZuNjL1ur"
   },
   "outputs": [
    {
     "ename": "KeyError",
     "evalue": "\"['id'] not found in axis\"",
     "output_type": "error",
     "traceback": [
      "\u001b[1;31m---------------------------------------------------------------------------\u001b[0m",
      "\u001b[1;31mKeyError\u001b[0m                                  Traceback (most recent call last)",
      "\u001b[1;32m~\\AppData\\Local\\Temp/ipykernel_2600/745475921.py\u001b[0m in \u001b[0;36m<module>\u001b[1;34m\u001b[0m\n\u001b[0;32m      1\u001b[0m \u001b[1;31m# drop id -- irrelevant feature\u001b[0m\u001b[1;33m\u001b[0m\u001b[1;33m\u001b[0m\u001b[0m\n\u001b[1;32m----> 2\u001b[1;33m \u001b[0mdf\u001b[0m \u001b[1;33m=\u001b[0m \u001b[0mdf\u001b[0m\u001b[1;33m.\u001b[0m\u001b[0mdrop\u001b[0m\u001b[1;33m(\u001b[0m\u001b[1;34m'id'\u001b[0m\u001b[1;33m,\u001b[0m\u001b[0maxis\u001b[0m\u001b[1;33m=\u001b[0m\u001b[1;36m1\u001b[0m\u001b[1;33m)\u001b[0m\u001b[1;33m\u001b[0m\u001b[1;33m\u001b[0m\u001b[0m\n\u001b[0m",
      "\u001b[1;32m~\\anaconda3\\lib\\site-packages\\pandas\\util\\_decorators.py\u001b[0m in \u001b[0;36mwrapper\u001b[1;34m(*args, **kwargs)\u001b[0m\n\u001b[0;32m    309\u001b[0m                     \u001b[0mstacklevel\u001b[0m\u001b[1;33m=\u001b[0m\u001b[0mstacklevel\u001b[0m\u001b[1;33m,\u001b[0m\u001b[1;33m\u001b[0m\u001b[1;33m\u001b[0m\u001b[0m\n\u001b[0;32m    310\u001b[0m                 )\n\u001b[1;32m--> 311\u001b[1;33m             \u001b[1;32mreturn\u001b[0m \u001b[0mfunc\u001b[0m\u001b[1;33m(\u001b[0m\u001b[1;33m*\u001b[0m\u001b[0margs\u001b[0m\u001b[1;33m,\u001b[0m \u001b[1;33m**\u001b[0m\u001b[0mkwargs\u001b[0m\u001b[1;33m)\u001b[0m\u001b[1;33m\u001b[0m\u001b[1;33m\u001b[0m\u001b[0m\n\u001b[0m\u001b[0;32m    312\u001b[0m \u001b[1;33m\u001b[0m\u001b[0m\n\u001b[0;32m    313\u001b[0m         \u001b[1;32mreturn\u001b[0m \u001b[0mwrapper\u001b[0m\u001b[1;33m\u001b[0m\u001b[1;33m\u001b[0m\u001b[0m\n",
      "\u001b[1;32m~\\anaconda3\\lib\\site-packages\\pandas\\core\\frame.py\u001b[0m in \u001b[0;36mdrop\u001b[1;34m(self, labels, axis, index, columns, level, inplace, errors)\u001b[0m\n\u001b[0;32m   4904\u001b[0m                 \u001b[0mweight\u001b[0m  \u001b[1;36m1.0\u001b[0m     \u001b[1;36m0.8\u001b[0m\u001b[1;33m\u001b[0m\u001b[1;33m\u001b[0m\u001b[0m\n\u001b[0;32m   4905\u001b[0m         \"\"\"\n\u001b[1;32m-> 4906\u001b[1;33m         return super().drop(\n\u001b[0m\u001b[0;32m   4907\u001b[0m             \u001b[0mlabels\u001b[0m\u001b[1;33m=\u001b[0m\u001b[0mlabels\u001b[0m\u001b[1;33m,\u001b[0m\u001b[1;33m\u001b[0m\u001b[1;33m\u001b[0m\u001b[0m\n\u001b[0;32m   4908\u001b[0m             \u001b[0maxis\u001b[0m\u001b[1;33m=\u001b[0m\u001b[0maxis\u001b[0m\u001b[1;33m,\u001b[0m\u001b[1;33m\u001b[0m\u001b[1;33m\u001b[0m\u001b[0m\n",
      "\u001b[1;32m~\\anaconda3\\lib\\site-packages\\pandas\\core\\generic.py\u001b[0m in \u001b[0;36mdrop\u001b[1;34m(self, labels, axis, index, columns, level, inplace, errors)\u001b[0m\n\u001b[0;32m   4148\u001b[0m         \u001b[1;32mfor\u001b[0m \u001b[0maxis\u001b[0m\u001b[1;33m,\u001b[0m \u001b[0mlabels\u001b[0m \u001b[1;32min\u001b[0m \u001b[0maxes\u001b[0m\u001b[1;33m.\u001b[0m\u001b[0mitems\u001b[0m\u001b[1;33m(\u001b[0m\u001b[1;33m)\u001b[0m\u001b[1;33m:\u001b[0m\u001b[1;33m\u001b[0m\u001b[1;33m\u001b[0m\u001b[0m\n\u001b[0;32m   4149\u001b[0m             \u001b[1;32mif\u001b[0m \u001b[0mlabels\u001b[0m \u001b[1;32mis\u001b[0m \u001b[1;32mnot\u001b[0m \u001b[1;32mNone\u001b[0m\u001b[1;33m:\u001b[0m\u001b[1;33m\u001b[0m\u001b[1;33m\u001b[0m\u001b[0m\n\u001b[1;32m-> 4150\u001b[1;33m                 \u001b[0mobj\u001b[0m \u001b[1;33m=\u001b[0m \u001b[0mobj\u001b[0m\u001b[1;33m.\u001b[0m\u001b[0m_drop_axis\u001b[0m\u001b[1;33m(\u001b[0m\u001b[0mlabels\u001b[0m\u001b[1;33m,\u001b[0m \u001b[0maxis\u001b[0m\u001b[1;33m,\u001b[0m \u001b[0mlevel\u001b[0m\u001b[1;33m=\u001b[0m\u001b[0mlevel\u001b[0m\u001b[1;33m,\u001b[0m \u001b[0merrors\u001b[0m\u001b[1;33m=\u001b[0m\u001b[0merrors\u001b[0m\u001b[1;33m)\u001b[0m\u001b[1;33m\u001b[0m\u001b[1;33m\u001b[0m\u001b[0m\n\u001b[0m\u001b[0;32m   4151\u001b[0m \u001b[1;33m\u001b[0m\u001b[0m\n\u001b[0;32m   4152\u001b[0m         \u001b[1;32mif\u001b[0m \u001b[0minplace\u001b[0m\u001b[1;33m:\u001b[0m\u001b[1;33m\u001b[0m\u001b[1;33m\u001b[0m\u001b[0m\n",
      "\u001b[1;32m~\\anaconda3\\lib\\site-packages\\pandas\\core\\generic.py\u001b[0m in \u001b[0;36m_drop_axis\u001b[1;34m(self, labels, axis, level, errors)\u001b[0m\n\u001b[0;32m   4183\u001b[0m                 \u001b[0mnew_axis\u001b[0m \u001b[1;33m=\u001b[0m \u001b[0maxis\u001b[0m\u001b[1;33m.\u001b[0m\u001b[0mdrop\u001b[0m\u001b[1;33m(\u001b[0m\u001b[0mlabels\u001b[0m\u001b[1;33m,\u001b[0m \u001b[0mlevel\u001b[0m\u001b[1;33m=\u001b[0m\u001b[0mlevel\u001b[0m\u001b[1;33m,\u001b[0m \u001b[0merrors\u001b[0m\u001b[1;33m=\u001b[0m\u001b[0merrors\u001b[0m\u001b[1;33m)\u001b[0m\u001b[1;33m\u001b[0m\u001b[1;33m\u001b[0m\u001b[0m\n\u001b[0;32m   4184\u001b[0m             \u001b[1;32melse\u001b[0m\u001b[1;33m:\u001b[0m\u001b[1;33m\u001b[0m\u001b[1;33m\u001b[0m\u001b[0m\n\u001b[1;32m-> 4185\u001b[1;33m                 \u001b[0mnew_axis\u001b[0m \u001b[1;33m=\u001b[0m \u001b[0maxis\u001b[0m\u001b[1;33m.\u001b[0m\u001b[0mdrop\u001b[0m\u001b[1;33m(\u001b[0m\u001b[0mlabels\u001b[0m\u001b[1;33m,\u001b[0m \u001b[0merrors\u001b[0m\u001b[1;33m=\u001b[0m\u001b[0merrors\u001b[0m\u001b[1;33m)\u001b[0m\u001b[1;33m\u001b[0m\u001b[1;33m\u001b[0m\u001b[0m\n\u001b[0m\u001b[0;32m   4186\u001b[0m             \u001b[0mresult\u001b[0m \u001b[1;33m=\u001b[0m \u001b[0mself\u001b[0m\u001b[1;33m.\u001b[0m\u001b[0mreindex\u001b[0m\u001b[1;33m(\u001b[0m\u001b[1;33m**\u001b[0m\u001b[1;33m{\u001b[0m\u001b[0maxis_name\u001b[0m\u001b[1;33m:\u001b[0m \u001b[0mnew_axis\u001b[0m\u001b[1;33m}\u001b[0m\u001b[1;33m)\u001b[0m\u001b[1;33m\u001b[0m\u001b[1;33m\u001b[0m\u001b[0m\n\u001b[0;32m   4187\u001b[0m \u001b[1;33m\u001b[0m\u001b[0m\n",
      "\u001b[1;32m~\\anaconda3\\lib\\site-packages\\pandas\\core\\indexes\\base.py\u001b[0m in \u001b[0;36mdrop\u001b[1;34m(self, labels, errors)\u001b[0m\n\u001b[0;32m   6015\u001b[0m         \u001b[1;32mif\u001b[0m \u001b[0mmask\u001b[0m\u001b[1;33m.\u001b[0m\u001b[0many\u001b[0m\u001b[1;33m(\u001b[0m\u001b[1;33m)\u001b[0m\u001b[1;33m:\u001b[0m\u001b[1;33m\u001b[0m\u001b[1;33m\u001b[0m\u001b[0m\n\u001b[0;32m   6016\u001b[0m             \u001b[1;32mif\u001b[0m \u001b[0merrors\u001b[0m \u001b[1;33m!=\u001b[0m \u001b[1;34m\"ignore\"\u001b[0m\u001b[1;33m:\u001b[0m\u001b[1;33m\u001b[0m\u001b[1;33m\u001b[0m\u001b[0m\n\u001b[1;32m-> 6017\u001b[1;33m                 \u001b[1;32mraise\u001b[0m \u001b[0mKeyError\u001b[0m\u001b[1;33m(\u001b[0m\u001b[1;34mf\"{labels[mask]} not found in axis\"\u001b[0m\u001b[1;33m)\u001b[0m\u001b[1;33m\u001b[0m\u001b[1;33m\u001b[0m\u001b[0m\n\u001b[0m\u001b[0;32m   6018\u001b[0m             \u001b[0mindexer\u001b[0m \u001b[1;33m=\u001b[0m \u001b[0mindexer\u001b[0m\u001b[1;33m[\u001b[0m\u001b[1;33m~\u001b[0m\u001b[0mmask\u001b[0m\u001b[1;33m]\u001b[0m\u001b[1;33m\u001b[0m\u001b[1;33m\u001b[0m\u001b[0m\n\u001b[0;32m   6019\u001b[0m         \u001b[1;32mreturn\u001b[0m \u001b[0mself\u001b[0m\u001b[1;33m.\u001b[0m\u001b[0mdelete\u001b[0m\u001b[1;33m(\u001b[0m\u001b[0mindexer\u001b[0m\u001b[1;33m)\u001b[0m\u001b[1;33m\u001b[0m\u001b[1;33m\u001b[0m\u001b[0m\n",
      "\u001b[1;31mKeyError\u001b[0m: \"['id'] not found in axis\""
     ]
    }
   ],
   "source": [
    "# drop id -- irrelevant feature\n",
    "df = df.drop('id',axis=1)"
   ]
  },
  {
   "cell_type": "code",
   "execution_count": 5,
   "metadata": {
    "colab": {
     "base_uri": "https://localhost:8080/",
     "height": 921
    },
    "id": "w0jDjMXBTrY-",
    "outputId": "70c11141-7632-4bc0-aa21-7443ba9e60a1"
   },
   "outputs": [
    {
     "name": "stderr",
     "output_type": "stream",
     "text": [
      "C:\\Users\\mehraa\\AppData\\Local\\Temp/ipykernel_2600/3978131604.py:6: SettingWithCopyWarning: \n",
      "A value is trying to be set on a copy of a slice from a DataFrame\n",
      "\n",
      "See the caveats in the documentation: https://pandas.pydata.org/pandas-docs/stable/user_guide/indexing.html#returning-a-view-versus-a-copy\n",
      "  df.date[i] = datetime_object\n"
     ]
    },
    {
     "data": {
      "text/html": [
       "<div>\n",
       "<style scoped>\n",
       "    .dataframe tbody tr th:only-of-type {\n",
       "        vertical-align: middle;\n",
       "    }\n",
       "\n",
       "    .dataframe tbody tr th {\n",
       "        vertical-align: top;\n",
       "    }\n",
       "\n",
       "    .dataframe thead th {\n",
       "        text-align: right;\n",
       "    }\n",
       "</style>\n",
       "<table border=\"1\" class=\"dataframe\">\n",
       "  <thead>\n",
       "    <tr style=\"text-align: right;\">\n",
       "      <th></th>\n",
       "      <th>date</th>\n",
       "      <th>price</th>\n",
       "      <th>bedrooms</th>\n",
       "      <th>bathrooms</th>\n",
       "      <th>sqft_living</th>\n",
       "      <th>sqft_lot</th>\n",
       "      <th>floors</th>\n",
       "      <th>waterfront</th>\n",
       "      <th>view</th>\n",
       "      <th>condition</th>\n",
       "      <th>grade</th>\n",
       "      <th>sqft_above</th>\n",
       "      <th>sqft_basement</th>\n",
       "      <th>yr_built</th>\n",
       "      <th>yr_renovated</th>\n",
       "      <th>zipcode</th>\n",
       "      <th>lat</th>\n",
       "      <th>long</th>\n",
       "      <th>sqft_living15</th>\n",
       "      <th>sqft_lot15</th>\n",
       "    </tr>\n",
       "  </thead>\n",
       "  <tbody>\n",
       "    <tr>\n",
       "      <th>0</th>\n",
       "      <td>2014-10-13 00:00:00</td>\n",
       "      <td>221900.0</td>\n",
       "      <td>3</td>\n",
       "      <td>1.00</td>\n",
       "      <td>1180</td>\n",
       "      <td>5650</td>\n",
       "      <td>1.0</td>\n",
       "      <td>0</td>\n",
       "      <td>0</td>\n",
       "      <td>3</td>\n",
       "      <td>7</td>\n",
       "      <td>1180</td>\n",
       "      <td>0</td>\n",
       "      <td>1955</td>\n",
       "      <td>0</td>\n",
       "      <td>98178</td>\n",
       "      <td>47.5112</td>\n",
       "      <td>-122.257</td>\n",
       "      <td>1340</td>\n",
       "      <td>5650</td>\n",
       "    </tr>\n",
       "    <tr>\n",
       "      <th>1</th>\n",
       "      <td>2014-12-09 00:00:00</td>\n",
       "      <td>538000.0</td>\n",
       "      <td>3</td>\n",
       "      <td>2.25</td>\n",
       "      <td>2570</td>\n",
       "      <td>7242</td>\n",
       "      <td>2.0</td>\n",
       "      <td>0</td>\n",
       "      <td>0</td>\n",
       "      <td>3</td>\n",
       "      <td>7</td>\n",
       "      <td>2170</td>\n",
       "      <td>400</td>\n",
       "      <td>1951</td>\n",
       "      <td>1991</td>\n",
       "      <td>98125</td>\n",
       "      <td>47.7210</td>\n",
       "      <td>-122.319</td>\n",
       "      <td>1690</td>\n",
       "      <td>7639</td>\n",
       "    </tr>\n",
       "    <tr>\n",
       "      <th>2</th>\n",
       "      <td>2015-02-25 00:00:00</td>\n",
       "      <td>180000.0</td>\n",
       "      <td>2</td>\n",
       "      <td>1.00</td>\n",
       "      <td>770</td>\n",
       "      <td>10000</td>\n",
       "      <td>1.0</td>\n",
       "      <td>0</td>\n",
       "      <td>0</td>\n",
       "      <td>3</td>\n",
       "      <td>6</td>\n",
       "      <td>770</td>\n",
       "      <td>0</td>\n",
       "      <td>1933</td>\n",
       "      <td>0</td>\n",
       "      <td>98028</td>\n",
       "      <td>47.7379</td>\n",
       "      <td>-122.233</td>\n",
       "      <td>2720</td>\n",
       "      <td>8062</td>\n",
       "    </tr>\n",
       "    <tr>\n",
       "      <th>3</th>\n",
       "      <td>2014-12-09 00:00:00</td>\n",
       "      <td>604000.0</td>\n",
       "      <td>4</td>\n",
       "      <td>3.00</td>\n",
       "      <td>1960</td>\n",
       "      <td>5000</td>\n",
       "      <td>1.0</td>\n",
       "      <td>0</td>\n",
       "      <td>0</td>\n",
       "      <td>5</td>\n",
       "      <td>7</td>\n",
       "      <td>1050</td>\n",
       "      <td>910</td>\n",
       "      <td>1965</td>\n",
       "      <td>0</td>\n",
       "      <td>98136</td>\n",
       "      <td>47.5208</td>\n",
       "      <td>-122.393</td>\n",
       "      <td>1360</td>\n",
       "      <td>5000</td>\n",
       "    </tr>\n",
       "    <tr>\n",
       "      <th>4</th>\n",
       "      <td>2015-02-18 00:00:00</td>\n",
       "      <td>510000.0</td>\n",
       "      <td>3</td>\n",
       "      <td>2.00</td>\n",
       "      <td>1680</td>\n",
       "      <td>8080</td>\n",
       "      <td>1.0</td>\n",
       "      <td>0</td>\n",
       "      <td>0</td>\n",
       "      <td>3</td>\n",
       "      <td>8</td>\n",
       "      <td>1680</td>\n",
       "      <td>0</td>\n",
       "      <td>1987</td>\n",
       "      <td>0</td>\n",
       "      <td>98074</td>\n",
       "      <td>47.6168</td>\n",
       "      <td>-122.045</td>\n",
       "      <td>1800</td>\n",
       "      <td>7503</td>\n",
       "    </tr>\n",
       "    <tr>\n",
       "      <th>...</th>\n",
       "      <td>...</td>\n",
       "      <td>...</td>\n",
       "      <td>...</td>\n",
       "      <td>...</td>\n",
       "      <td>...</td>\n",
       "      <td>...</td>\n",
       "      <td>...</td>\n",
       "      <td>...</td>\n",
       "      <td>...</td>\n",
       "      <td>...</td>\n",
       "      <td>...</td>\n",
       "      <td>...</td>\n",
       "      <td>...</td>\n",
       "      <td>...</td>\n",
       "      <td>...</td>\n",
       "      <td>...</td>\n",
       "      <td>...</td>\n",
       "      <td>...</td>\n",
       "      <td>...</td>\n",
       "      <td>...</td>\n",
       "    </tr>\n",
       "    <tr>\n",
       "      <th>21608</th>\n",
       "      <td>2014-05-21 00:00:00</td>\n",
       "      <td>360000.0</td>\n",
       "      <td>3</td>\n",
       "      <td>2.50</td>\n",
       "      <td>1530</td>\n",
       "      <td>1131</td>\n",
       "      <td>3.0</td>\n",
       "      <td>0</td>\n",
       "      <td>0</td>\n",
       "      <td>3</td>\n",
       "      <td>8</td>\n",
       "      <td>1530</td>\n",
       "      <td>0</td>\n",
       "      <td>2009</td>\n",
       "      <td>0</td>\n",
       "      <td>98103</td>\n",
       "      <td>47.6993</td>\n",
       "      <td>-122.346</td>\n",
       "      <td>1530</td>\n",
       "      <td>1509</td>\n",
       "    </tr>\n",
       "    <tr>\n",
       "      <th>21609</th>\n",
       "      <td>2015-02-23 00:00:00</td>\n",
       "      <td>400000.0</td>\n",
       "      <td>4</td>\n",
       "      <td>2.50</td>\n",
       "      <td>2310</td>\n",
       "      <td>5813</td>\n",
       "      <td>2.0</td>\n",
       "      <td>0</td>\n",
       "      <td>0</td>\n",
       "      <td>3</td>\n",
       "      <td>8</td>\n",
       "      <td>2310</td>\n",
       "      <td>0</td>\n",
       "      <td>2014</td>\n",
       "      <td>0</td>\n",
       "      <td>98146</td>\n",
       "      <td>47.5107</td>\n",
       "      <td>-122.362</td>\n",
       "      <td>1830</td>\n",
       "      <td>7200</td>\n",
       "    </tr>\n",
       "    <tr>\n",
       "      <th>21610</th>\n",
       "      <td>2014-06-23 00:00:00</td>\n",
       "      <td>402101.0</td>\n",
       "      <td>2</td>\n",
       "      <td>0.75</td>\n",
       "      <td>1020</td>\n",
       "      <td>1350</td>\n",
       "      <td>2.0</td>\n",
       "      <td>0</td>\n",
       "      <td>0</td>\n",
       "      <td>3</td>\n",
       "      <td>7</td>\n",
       "      <td>1020</td>\n",
       "      <td>0</td>\n",
       "      <td>2009</td>\n",
       "      <td>0</td>\n",
       "      <td>98144</td>\n",
       "      <td>47.5944</td>\n",
       "      <td>-122.299</td>\n",
       "      <td>1020</td>\n",
       "      <td>2007</td>\n",
       "    </tr>\n",
       "    <tr>\n",
       "      <th>21611</th>\n",
       "      <td>2015-01-16 00:00:00</td>\n",
       "      <td>400000.0</td>\n",
       "      <td>3</td>\n",
       "      <td>2.50</td>\n",
       "      <td>1600</td>\n",
       "      <td>2388</td>\n",
       "      <td>2.0</td>\n",
       "      <td>0</td>\n",
       "      <td>0</td>\n",
       "      <td>3</td>\n",
       "      <td>8</td>\n",
       "      <td>1600</td>\n",
       "      <td>0</td>\n",
       "      <td>2004</td>\n",
       "      <td>0</td>\n",
       "      <td>98027</td>\n",
       "      <td>47.5345</td>\n",
       "      <td>-122.069</td>\n",
       "      <td>1410</td>\n",
       "      <td>1287</td>\n",
       "    </tr>\n",
       "    <tr>\n",
       "      <th>21612</th>\n",
       "      <td>2014-10-15 00:00:00</td>\n",
       "      <td>325000.0</td>\n",
       "      <td>2</td>\n",
       "      <td>0.75</td>\n",
       "      <td>1020</td>\n",
       "      <td>1076</td>\n",
       "      <td>2.0</td>\n",
       "      <td>0</td>\n",
       "      <td>0</td>\n",
       "      <td>3</td>\n",
       "      <td>7</td>\n",
       "      <td>1020</td>\n",
       "      <td>0</td>\n",
       "      <td>2008</td>\n",
       "      <td>0</td>\n",
       "      <td>98144</td>\n",
       "      <td>47.5941</td>\n",
       "      <td>-122.299</td>\n",
       "      <td>1020</td>\n",
       "      <td>1357</td>\n",
       "    </tr>\n",
       "  </tbody>\n",
       "</table>\n",
       "<p>21613 rows × 20 columns</p>\n",
       "</div>"
      ],
      "text/plain": [
       "                      date     price  bedrooms  bathrooms  sqft_living  \\\n",
       "0      2014-10-13 00:00:00  221900.0         3       1.00         1180   \n",
       "1      2014-12-09 00:00:00  538000.0         3       2.25         2570   \n",
       "2      2015-02-25 00:00:00  180000.0         2       1.00          770   \n",
       "3      2014-12-09 00:00:00  604000.0         4       3.00         1960   \n",
       "4      2015-02-18 00:00:00  510000.0         3       2.00         1680   \n",
       "...                    ...       ...       ...        ...          ...   \n",
       "21608  2014-05-21 00:00:00  360000.0         3       2.50         1530   \n",
       "21609  2015-02-23 00:00:00  400000.0         4       2.50         2310   \n",
       "21610  2014-06-23 00:00:00  402101.0         2       0.75         1020   \n",
       "21611  2015-01-16 00:00:00  400000.0         3       2.50         1600   \n",
       "21612  2014-10-15 00:00:00  325000.0         2       0.75         1020   \n",
       "\n",
       "       sqft_lot  floors  waterfront  view  condition  grade  sqft_above  \\\n",
       "0          5650     1.0           0     0          3      7        1180   \n",
       "1          7242     2.0           0     0          3      7        2170   \n",
       "2         10000     1.0           0     0          3      6         770   \n",
       "3          5000     1.0           0     0          5      7        1050   \n",
       "4          8080     1.0           0     0          3      8        1680   \n",
       "...         ...     ...         ...   ...        ...    ...         ...   \n",
       "21608      1131     3.0           0     0          3      8        1530   \n",
       "21609      5813     2.0           0     0          3      8        2310   \n",
       "21610      1350     2.0           0     0          3      7        1020   \n",
       "21611      2388     2.0           0     0          3      8        1600   \n",
       "21612      1076     2.0           0     0          3      7        1020   \n",
       "\n",
       "       sqft_basement  yr_built  yr_renovated  zipcode      lat     long  \\\n",
       "0                  0      1955             0    98178  47.5112 -122.257   \n",
       "1                400      1951          1991    98125  47.7210 -122.319   \n",
       "2                  0      1933             0    98028  47.7379 -122.233   \n",
       "3                910      1965             0    98136  47.5208 -122.393   \n",
       "4                  0      1987             0    98074  47.6168 -122.045   \n",
       "...              ...       ...           ...      ...      ...      ...   \n",
       "21608              0      2009             0    98103  47.6993 -122.346   \n",
       "21609              0      2014             0    98146  47.5107 -122.362   \n",
       "21610              0      2009             0    98144  47.5944 -122.299   \n",
       "21611              0      2004             0    98027  47.5345 -122.069   \n",
       "21612              0      2008             0    98144  47.5941 -122.299   \n",
       "\n",
       "       sqft_living15  sqft_lot15  \n",
       "0               1340        5650  \n",
       "1               1690        7639  \n",
       "2               2720        8062  \n",
       "3               1360        5000  \n",
       "4               1800        7503  \n",
       "...              ...         ...  \n",
       "21608           1530        1509  \n",
       "21609           1830        7200  \n",
       "21610           1020        2007  \n",
       "21611           1410        1287  \n",
       "21612           1020        1357  \n",
       "\n",
       "[21613 rows x 20 columns]"
      ]
     },
     "execution_count": 5,
     "metadata": {},
     "output_type": "execute_result"
    }
   ],
   "source": [
    "# parse date object: str -> date\n",
    "from datetime import datetime\n",
    "\n",
    "for i in range(21613):\n",
    "  datetime_object = datetime.strptime(df.date[i], '%Y%m%dT000000')\n",
    "  df.date[i] = datetime_object\n",
    "\n",
    "df"
   ]
  },
  {
   "cell_type": "code",
   "execution_count": 6,
   "metadata": {
    "colab": {
     "base_uri": "https://localhost:8080/"
    },
    "id": "ZuUl-IAUL99W",
    "outputId": "eac0154d-34a0-4f58-e116-d3c9e4e72493"
   },
   "outputs": [
    {
     "data": {
      "text/plain": [
       "date              object\n",
       "price            float64\n",
       "bedrooms           int64\n",
       "bathrooms        float64\n",
       "sqft_living        int64\n",
       "sqft_lot           int64\n",
       "floors           float64\n",
       "waterfront         int64\n",
       "view               int64\n",
       "condition          int64\n",
       "grade              int64\n",
       "sqft_above         int64\n",
       "sqft_basement      int64\n",
       "yr_built           int64\n",
       "yr_renovated       int64\n",
       "zipcode            int64\n",
       "lat              float64\n",
       "long             float64\n",
       "sqft_living15      int64\n",
       "sqft_lot15         int64\n",
       "dtype: object"
      ]
     },
     "execution_count": 6,
     "metadata": {},
     "output_type": "execute_result"
    }
   ],
   "source": [
    "df.dtypes"
   ]
  },
  {
   "cell_type": "code",
   "execution_count": 7,
   "metadata": {
    "colab": {
     "base_uri": "https://localhost:8080/"
    },
    "id": "6CeozALkMCgM",
    "outputId": "968ede20-87b9-43d5-f39d-ef7d15103a32"
   },
   "outputs": [
    {
     "data": {
      "text/plain": [
       "(21613, 20)"
      ]
     },
     "execution_count": 7,
     "metadata": {},
     "output_type": "execute_result"
    }
   ],
   "source": [
    "df.shape"
   ]
  },
  {
   "cell_type": "code",
   "execution_count": 8,
   "metadata": {
    "id": "p-Kscka7MDqw"
   },
   "outputs": [],
   "source": [
    "## method ref: https://www.kaggle.com/code/scratchpad/notebook91f4588400\n",
    "# Distribution graphs (histogram/bar graph) of column data\n",
    "def plotPerColumnDistribution(df, nGraphShown, nGraphPerRow):\n",
    "    nunique = df.nunique()\n",
    "    df = df[[col for col in df if nunique[col] > 1 and nunique[col] < 50]] # For displaying purposes, pick columns that have between 1 and 50 unique values\n",
    "    nRow, nCol = df.shape\n",
    "    columnNames = list(df)\n",
    "    nGraphRow = (nCol + nGraphPerRow - 1) / nGraphPerRow\n",
    "    plt.figure(num = None, figsize = (6 * nGraphPerRow, 8 * nGraphRow), dpi = 80, facecolor = 'w', edgecolor = 'k')\n",
    "    for i in range(min(nCol, nGraphShown)):\n",
    "        plt.subplot(nGraphRow, nGraphPerRow, i + 1)\n",
    "        columnDf = df.iloc[:, i]\n",
    "        if (not np.issubdtype(type(columnDf.iloc[0]), np.number)):\n",
    "            valueCounts = columnDf.value_counts()\n",
    "            valueCounts.plot.bar()\n",
    "        else:\n",
    "            columnDf.hist()\n",
    "        plt.ylabel('counts')\n",
    "        plt.xticks(rotation = 90)\n",
    "        plt.title(f'{columnNames[i]} (column {i})')\n",
    "    plt.tight_layout(pad = 1.0, w_pad = 1.0, h_pad = 1.0)\n",
    "    plt.show()"
   ]
  },
  {
   "cell_type": "code",
   "execution_count": 9,
   "metadata": {
    "colab": {
     "base_uri": "https://localhost:8080/",
     "height": 951
    },
    "id": "5V_fiFovMG-e",
    "outputId": "5176c178-39cd-4b26-8919-9904a46a7cba"
   },
   "outputs": [
    {
     "name": "stderr",
     "output_type": "stream",
     "text": [
      "C:\\Users\\mehraa\\AppData\\Local\\Temp/ipykernel_2600/3772161388.py:11: MatplotlibDeprecationWarning: Passing non-integers as three-element position specification is deprecated since 3.3 and will be removed two minor releases later.\n",
      "  plt.subplot(nGraphRow, nGraphPerRow, i + 1)\n"
     ]
    },
    {
     "data": {
      "image/png": "[encoded data removed]",
      "text/plain": [
       "<Figure size 1440x1920 with 7 Axes>"
      ]
     },
     "metadata": {},
     "output_type": "display_data"
    }
   ],
   "source": [
    "plotPerColumnDistribution(df,20,3)"
   ]
  },
  {
   "cell_type": "code",
   "execution_count": 10,
   "metadata": {
    "id": "p-27OWEUMKcM"
   },
   "outputs": [],
   "source": [
    "# Correlation matrix\n",
    "def plotCorrelationMatrix(df, graphWidth):\n",
    "    df = df.dropna('columns') # drop columns with NaN\n",
    "    df = df[[col for col in df if df[col].nunique() > 1]] # keep columns where there are more than 1 unique values\n",
    "    if df.shape[1] < 2:\n",
    "        print(f'No correlation plots shown: The number of non-NaN or constant columns ({df.shape[1]}) is less than 2')\n",
    "        return\n",
    "    corr = df.corr()\n",
    "    plt.figure(num=None, figsize=(graphWidth, graphWidth), dpi=80, facecolor='w', edgecolor='k')\n",
    "    corrMat = plt.matshow(corr, fignum = 1)\n",
    "    plt.xticks(range(len(corr.columns)), corr.columns, rotation=90)\n",
    "    plt.yticks(range(len(corr.columns)), corr.columns)\n",
    "    plt.gca().xaxis.tick_bottom()\n",
    "    plt.colorbar(corrMat)\n",
    "    plt.title(f'Correlation Matrix for the dataframe', fontsize=15)\n",
    "    plt.show()"
   ]
  },
  {
   "cell_type": "code",
   "execution_count": 11,
   "metadata": {
    "colab": {
     "base_uri": "https://localhost:8080/",
     "height": 572
    },
    "id": "NQ0Rozd4MPag",
    "outputId": "3647d127-abdf-4df6-c223-bf87a72a1623"
   },
   "outputs": [
    {
     "name": "stderr",
     "output_type": "stream",
     "text": [
      "C:\\Users\\mehraa\\AppData\\Local\\Temp/ipykernel_2600/1774403282.py:3: FutureWarning: In a future version of pandas all arguments of DataFrame.dropna will be keyword-only\n",
      "  df = df.dropna('columns') # drop columns with NaN\n"
     ]
    },
    {
     "data": {
      "image/png": "[encoded data removed]",
      "text/plain": [
       "<Figure size 560x560 with 2 Axes>"
      ]
     },
     "metadata": {},
     "output_type": "display_data"
    }
   ],
   "source": [
    "plotCorrelationMatrix(df, 7)"
   ]
  },
  {
   "cell_type": "code",
   "execution_count": 12,
   "metadata": {
    "id": "IEKr_O71MSIp"
   },
   "outputs": [],
   "source": [
    "# Scatter and density plots\n",
    "def plotScatterMatrix(df, plotSize, textSize):\n",
    "    df = df.select_dtypes(include =[np.number]) # keep only numerical columns\n",
    "    # Remove rows and columns that would lead to df being singular\n",
    "    df = df.dropna('columns')\n",
    "    df = df[[col for col in df if df[col].nunique() > 1]] # keep columns where there are more than 1 unique values\n",
    "    columnNames = list(df)\n",
    "    if len(columnNames) > 10: # reduce the number of columns for matrix inversion of kernel density plots\n",
    "        columnNames = columnNames[:10]\n",
    "    df = df[columnNames]\n",
    "    ax = pd.plotting.scatter_matrix(df, alpha=0.75, figsize=[plotSize, plotSize], diagonal='kde')\n",
    "    corrs = df.corr().values\n",
    "    for i, j in zip(*plt.np.triu_indices_from(ax, k = 1)):\n",
    "        ax[i, j].annotate('Corr. coef = %.3f' % corrs[i, j], (0.8, 0.2), xycoords='axes fraction', ha='center', va='center', size=textSize)\n",
    "    plt.suptitle('Scatter and Density Plot')\n",
    "    plt.show()"
   ]
  },
  {
   "cell_type": "code",
   "execution_count": 13,
   "metadata": {
    "colab": {
     "base_uri": "https://localhost:8080/",
     "height": 833
    },
    "id": "IGOQvTAuMWHc",
    "outputId": "017d5e05-f59b-4cd7-9078-03d57681a5dc"
   },
   "outputs": [
    {
     "name": "stderr",
     "output_type": "stream",
     "text": [
      "C:\\Users\\mehraa\\AppData\\Local\\Temp/ipykernel_2600/102845399.py:5: FutureWarning: In a future version of pandas all arguments of DataFrame.dropna will be keyword-only\n",
      "  df = df.dropna('columns')\n"
     ]
    },
    {
     "data": {
      "image/png": "[encoded data removed]",
      "text/plain": [
       "<Figure size 1440x1440 with 100 Axes>"
      ]
     },
     "metadata": {
      "needs_background": "light"
     },
     "output_type": "display_data"
    }
   ],
   "source": [
    "plotScatterMatrix(df, 20, 5)"
   ]
  },
  {
   "cell_type": "code",
   "execution_count": 14,
   "metadata": {
    "colab": {
     "base_uri": "https://localhost:8080/",
     "height": 265
    },
    "id": "8dn80aqbMYXT",
    "outputId": "99fd6d26-233a-4a16-af57-bff340b04bbe"
   },
   "outputs": [
    {
     "data": {
      "image/png": "[encoded data removed]",
      "text/plain": [
       "<Figure size 432x288 with 1 Axes>"
      ]
     },
     "metadata": {
      "needs_background": "light"
     },
     "output_type": "display_data"
    }
   ],
   "source": [
    "plt.plot(df.lat, df.long, 'o', color='black');"
   ]
  },
  {
   "cell_type": "code",
   "execution_count": 15,
   "metadata": {
    "id": "OC2Q_BDRXksw"
   },
   "outputs": [],
   "source": [
    "(df_train,df_test) = train_test_split(df,train_size = 0.8, test_size = 0.2, random_state = 0,shuffle = True)"
   ]
  },
  {
   "cell_type": "code",
   "execution_count": 16,
   "metadata": {
    "colab": {
     "base_uri": "https://localhost:8080/",
     "height": 488
    },
    "id": "nW1AvSr5Ytla",
    "outputId": "2962f1dc-40f8-47dc-e539-7d1e532628de"
   },
   "outputs": [
    {
     "data": {
      "text/html": [
       "<div>\n",
       "<style scoped>\n",
       "    .dataframe tbody tr th:only-of-type {\n",
       "        vertical-align: middle;\n",
       "    }\n",
       "\n",
       "    .dataframe tbody tr th {\n",
       "        vertical-align: top;\n",
       "    }\n",
       "\n",
       "    .dataframe thead th {\n",
       "        text-align: right;\n",
       "    }\n",
       "</style>\n",
       "<table border=\"1\" class=\"dataframe\">\n",
       "  <thead>\n",
       "    <tr style=\"text-align: right;\">\n",
       "      <th></th>\n",
       "      <th>bedrooms</th>\n",
       "      <th>bathrooms</th>\n",
       "      <th>sqft_living</th>\n",
       "      <th>sqft_lot</th>\n",
       "      <th>floors</th>\n",
       "      <th>waterfront</th>\n",
       "      <th>view</th>\n",
       "      <th>condition</th>\n",
       "      <th>grade</th>\n",
       "      <th>sqft_above</th>\n",
       "      <th>sqft_basement</th>\n",
       "      <th>yr_built</th>\n",
       "      <th>yr_renovated</th>\n",
       "      <th>zipcode</th>\n",
       "      <th>lat</th>\n",
       "      <th>long</th>\n",
       "      <th>sqft_living15</th>\n",
       "      <th>sqft_lot15</th>\n",
       "    </tr>\n",
       "  </thead>\n",
       "  <tbody>\n",
       "    <tr>\n",
       "      <th>5268</th>\n",
       "      <td>3</td>\n",
       "      <td>1.00</td>\n",
       "      <td>1570</td>\n",
       "      <td>5510</td>\n",
       "      <td>1.0</td>\n",
       "      <td>0</td>\n",
       "      <td>0</td>\n",
       "      <td>4</td>\n",
       "      <td>7</td>\n",
       "      <td>1070</td>\n",
       "      <td>500</td>\n",
       "      <td>1940</td>\n",
       "      <td>0</td>\n",
       "      <td>98115</td>\n",
       "      <td>47.6942</td>\n",
       "      <td>-122.319</td>\n",
       "      <td>1770</td>\n",
       "      <td>6380</td>\n",
       "    </tr>\n",
       "    <tr>\n",
       "      <th>16909</th>\n",
       "      <td>3</td>\n",
       "      <td>2.50</td>\n",
       "      <td>1780</td>\n",
       "      <td>11000</td>\n",
       "      <td>1.0</td>\n",
       "      <td>0</td>\n",
       "      <td>0</td>\n",
       "      <td>4</td>\n",
       "      <td>8</td>\n",
       "      <td>1210</td>\n",
       "      <td>570</td>\n",
       "      <td>1980</td>\n",
       "      <td>0</td>\n",
       "      <td>98006</td>\n",
       "      <td>47.5574</td>\n",
       "      <td>-122.149</td>\n",
       "      <td>2310</td>\n",
       "      <td>9700</td>\n",
       "    </tr>\n",
       "    <tr>\n",
       "      <th>16123</th>\n",
       "      <td>3</td>\n",
       "      <td>1.50</td>\n",
       "      <td>1090</td>\n",
       "      <td>9862</td>\n",
       "      <td>1.0</td>\n",
       "      <td>0</td>\n",
       "      <td>0</td>\n",
       "      <td>3</td>\n",
       "      <td>8</td>\n",
       "      <td>1090</td>\n",
       "      <td>0</td>\n",
       "      <td>1987</td>\n",
       "      <td>0</td>\n",
       "      <td>98074</td>\n",
       "      <td>47.6256</td>\n",
       "      <td>-122.036</td>\n",
       "      <td>1710</td>\n",
       "      <td>9862</td>\n",
       "    </tr>\n",
       "    <tr>\n",
       "      <th>12181</th>\n",
       "      <td>4</td>\n",
       "      <td>2.50</td>\n",
       "      <td>2210</td>\n",
       "      <td>7079</td>\n",
       "      <td>2.0</td>\n",
       "      <td>0</td>\n",
       "      <td>0</td>\n",
       "      <td>3</td>\n",
       "      <td>8</td>\n",
       "      <td>2210</td>\n",
       "      <td>0</td>\n",
       "      <td>1993</td>\n",
       "      <td>0</td>\n",
       "      <td>98031</td>\n",
       "      <td>47.4206</td>\n",
       "      <td>-122.183</td>\n",
       "      <td>1970</td>\n",
       "      <td>7000</td>\n",
       "    </tr>\n",
       "    <tr>\n",
       "      <th>12617</th>\n",
       "      <td>3</td>\n",
       "      <td>2.50</td>\n",
       "      <td>1800</td>\n",
       "      <td>4763</td>\n",
       "      <td>2.0</td>\n",
       "      <td>0</td>\n",
       "      <td>0</td>\n",
       "      <td>3</td>\n",
       "      <td>7</td>\n",
       "      <td>1240</td>\n",
       "      <td>560</td>\n",
       "      <td>1985</td>\n",
       "      <td>0</td>\n",
       "      <td>98119</td>\n",
       "      <td>47.6460</td>\n",
       "      <td>-122.362</td>\n",
       "      <td>1790</td>\n",
       "      <td>4763</td>\n",
       "    </tr>\n",
       "    <tr>\n",
       "      <th>...</th>\n",
       "      <td>...</td>\n",
       "      <td>...</td>\n",
       "      <td>...</td>\n",
       "      <td>...</td>\n",
       "      <td>...</td>\n",
       "      <td>...</td>\n",
       "      <td>...</td>\n",
       "      <td>...</td>\n",
       "      <td>...</td>\n",
       "      <td>...</td>\n",
       "      <td>...</td>\n",
       "      <td>...</td>\n",
       "      <td>...</td>\n",
       "      <td>...</td>\n",
       "      <td>...</td>\n",
       "      <td>...</td>\n",
       "      <td>...</td>\n",
       "      <td>...</td>\n",
       "    </tr>\n",
       "    <tr>\n",
       "      <th>13123</th>\n",
       "      <td>5</td>\n",
       "      <td>5.00</td>\n",
       "      <td>3960</td>\n",
       "      <td>94089</td>\n",
       "      <td>2.0</td>\n",
       "      <td>0</td>\n",
       "      <td>0</td>\n",
       "      <td>3</td>\n",
       "      <td>10</td>\n",
       "      <td>3960</td>\n",
       "      <td>0</td>\n",
       "      <td>1998</td>\n",
       "      <td>0</td>\n",
       "      <td>98038</td>\n",
       "      <td>47.3800</td>\n",
       "      <td>-122.011</td>\n",
       "      <td>2240</td>\n",
       "      <td>64468</td>\n",
       "    </tr>\n",
       "    <tr>\n",
       "      <th>19648</th>\n",
       "      <td>2</td>\n",
       "      <td>2.50</td>\n",
       "      <td>1400</td>\n",
       "      <td>1262</td>\n",
       "      <td>2.0</td>\n",
       "      <td>0</td>\n",
       "      <td>0</td>\n",
       "      <td>3</td>\n",
       "      <td>8</td>\n",
       "      <td>1160</td>\n",
       "      <td>240</td>\n",
       "      <td>2008</td>\n",
       "      <td>0</td>\n",
       "      <td>98106</td>\n",
       "      <td>47.5342</td>\n",
       "      <td>-122.349</td>\n",
       "      <td>1060</td>\n",
       "      <td>1524</td>\n",
       "    </tr>\n",
       "    <tr>\n",
       "      <th>9845</th>\n",
       "      <td>3</td>\n",
       "      <td>2.25</td>\n",
       "      <td>2360</td>\n",
       "      <td>14950</td>\n",
       "      <td>1.0</td>\n",
       "      <td>0</td>\n",
       "      <td>0</td>\n",
       "      <td>4</td>\n",
       "      <td>9</td>\n",
       "      <td>2360</td>\n",
       "      <td>0</td>\n",
       "      <td>1978</td>\n",
       "      <td>0</td>\n",
       "      <td>98042</td>\n",
       "      <td>47.3856</td>\n",
       "      <td>-122.158</td>\n",
       "      <td>2720</td>\n",
       "      <td>14388</td>\n",
       "    </tr>\n",
       "    <tr>\n",
       "      <th>10799</th>\n",
       "      <td>4</td>\n",
       "      <td>2.00</td>\n",
       "      <td>2370</td>\n",
       "      <td>76665</td>\n",
       "      <td>2.0</td>\n",
       "      <td>0</td>\n",
       "      <td>0</td>\n",
       "      <td>4</td>\n",
       "      <td>8</td>\n",
       "      <td>2370</td>\n",
       "      <td>0</td>\n",
       "      <td>1978</td>\n",
       "      <td>0</td>\n",
       "      <td>98001</td>\n",
       "      <td>47.2831</td>\n",
       "      <td>-122.279</td>\n",
       "      <td>2110</td>\n",
       "      <td>19334</td>\n",
       "    </tr>\n",
       "    <tr>\n",
       "      <th>2732</th>\n",
       "      <td>4</td>\n",
       "      <td>2.25</td>\n",
       "      <td>2380</td>\n",
       "      <td>16236</td>\n",
       "      <td>1.0</td>\n",
       "      <td>0</td>\n",
       "      <td>0</td>\n",
       "      <td>3</td>\n",
       "      <td>7</td>\n",
       "      <td>1540</td>\n",
       "      <td>840</td>\n",
       "      <td>1961</td>\n",
       "      <td>0</td>\n",
       "      <td>98008</td>\n",
       "      <td>47.6126</td>\n",
       "      <td>-122.120</td>\n",
       "      <td>2230</td>\n",
       "      <td>8925</td>\n",
       "    </tr>\n",
       "  </tbody>\n",
       "</table>\n",
       "<p>17290 rows × 18 columns</p>\n",
       "</div>"
      ],
      "text/plain": [
       "       bedrooms  bathrooms  sqft_living  sqft_lot  floors  waterfront  view  \\\n",
       "5268          3       1.00         1570      5510     1.0           0     0   \n",
       "16909         3       2.50         1780     11000     1.0           0     0   \n",
       "16123         3       1.50         1090      9862     1.0           0     0   \n",
       "12181         4       2.50         2210      7079     2.0           0     0   \n",
       "12617         3       2.50         1800      4763     2.0           0     0   \n",
       "...         ...        ...          ...       ...     ...         ...   ...   \n",
       "13123         5       5.00         3960     94089     2.0           0     0   \n",
       "19648         2       2.50         1400      1262     2.0           0     0   \n",
       "9845          3       2.25         2360     14950     1.0           0     0   \n",
       "10799         4       2.00         2370     76665     2.0           0     0   \n",
       "2732          4       2.25         2380     16236     1.0           0     0   \n",
       "\n",
       "       condition  grade  sqft_above  sqft_basement  yr_built  yr_renovated  \\\n",
       "5268           4      7        1070            500      1940             0   \n",
       "16909          4      8        1210            570      1980             0   \n",
       "16123          3      8        1090              0      1987             0   \n",
       "12181          3      8        2210              0      1993             0   \n",
       "12617          3      7        1240            560      1985             0   \n",
       "...          ...    ...         ...            ...       ...           ...   \n",
       "13123          3     10        3960              0      1998             0   \n",
       "19648          3      8        1160            240      2008             0   \n",
       "9845           4      9        2360              0      1978             0   \n",
       "10799          4      8        2370              0      1978             0   \n",
       "2732           3      7        1540            840      1961             0   \n",
       "\n",
       "       zipcode      lat     long  sqft_living15  sqft_lot15  \n",
       "5268     98115  47.6942 -122.319           1770        6380  \n",
       "16909    98006  47.5574 -122.149           2310        9700  \n",
       "16123    98074  47.6256 -122.036           1710        9862  \n",
       "12181    98031  47.4206 -122.183           1970        7000  \n",
       "12617    98119  47.6460 -122.362           1790        4763  \n",
       "...        ...      ...      ...            ...         ...  \n",
       "13123    98038  47.3800 -122.011           2240       64468  \n",
       "19648    98106  47.5342 -122.349           1060        1524  \n",
       "9845     98042  47.3856 -122.158           2720       14388  \n",
       "10799    98001  47.2831 -122.279           2110       19334  \n",
       "2732     98008  47.6126 -122.120           2230        8925  \n",
       "\n",
       "[17290 rows x 18 columns]"
      ]
     },
     "execution_count": 16,
     "metadata": {},
     "output_type": "execute_result"
    }
   ],
   "source": [
    "X_train = df_train.iloc[:,2:]\n",
    "X_test = df_test.iloc[:,2:]\n",
    "y_train = df_train.iloc[:,1]\n",
    "y_test = df_test.iloc[:,1]\n",
    "X_train"
   ]
  },
  {
   "cell_type": "code",
   "execution_count": 17,
   "metadata": {
    "id": "CFktf5Mgu4AC"
   },
   "outputs": [],
   "source": [
    "X = df_train.drop(['price','date'],axis=1)\n",
    "y = df_train.price"
   ]
  },
  {
   "cell_type": "code",
   "execution_count": 18,
   "metadata": {
    "colab": {
     "base_uri": "https://localhost:8080/"
    },
    "id": "BcrQB8GFDx7B",
    "outputId": "2594748a-53b9-4e36-e1af-a2237974f90d"
   },
   "outputs": [
    {
     "data": {
      "text/plain": [
       "5268    -0.129\n",
       "16909    0.247\n",
       "16123   -0.430\n",
       "12181   -0.430\n",
       "12617    0.341\n",
       "         ...  \n",
       "13123    1.710\n",
       "19648   -0.654\n",
       "9845    -0.300\n",
       "10799   -0.354\n",
       "2732     0.421\n",
       "Name: price, Length: 17290, dtype: float64"
      ]
     },
     "execution_count": 18,
     "metadata": {},
     "output_type": "execute_result"
    }
   ],
   "source": [
    "#SimpleBias Regressor for Baseline\n",
    "def MAE(y,yh):\n",
    "    return np.abs(y-yh).mean()\n",
    "\n",
    "def MSE(y,yh):\n",
    "    return np.abs((y-yh)**2).mean()\n",
    "    \n",
    "y.value_counts() \n",
    "ys = ((y - y.mean())/y.std()).round(3)\n",
    "ys"
   ]
  },
  {
   "cell_type": "code",
   "execution_count": 19,
   "metadata": {
    "id": "njUs-2_sEovC"
   },
   "outputs": [],
   "source": [
    "def SimpleBiasRegressor(b,n):\n",
    "    yh = b*np.ones(n)\n",
    "    return yh"
   ]
  },
  {
   "cell_type": "code",
   "execution_count": 20,
   "metadata": {
    "colab": {
     "base_uri": "https://localhost:8080/"
    },
    "id": "RShI1Y2iFK-1",
    "outputId": "37c5a0e5-15d6-4c9b-b130-39e487a6fdab"
   },
   "outputs": [
    {
     "data": {
      "text/plain": [
       "0.9999610059475873"
      ]
     },
     "execution_count": 20,
     "metadata": {},
     "output_type": "execute_result"
    }
   ],
   "source": [
    "b = (np.mean(ys.round(3)))\n",
    "yh = SimpleBiasRegressor(b,len(ys))\n",
    "MSE(ys,yh)"
   ]
  },
  {
   "cell_type": "code",
   "execution_count": 21,
   "metadata": {
    "id": "myPe_g1UE3KH"
   },
   "outputs": [],
   "source": [
    "from sklearn.metrics import r2_score\n",
    "B = np.linspace(ys.min(),ys.max(),10001)\n",
    "mae = []\n",
    "mse = []\n",
    "R2 = []\n",
    "Error = []\n",
    "for b in B:\n",
    "    yh = SimpleBiasRegressor(b,len(ys))\n",
    "    mae.append(MAE(ys,yh))\n",
    "    mse.append(MSE(ys,yh))\n",
    "    R2.append(r2_score(ys,yh))\n",
    "    Error.append(1-r2_score(ys,yh))"
   ]
  },
  {
   "cell_type": "code",
   "execution_count": 78,
   "metadata": {
    "colab": {
     "base_uri": "https://localhost:8080/",
     "height": 296
    },
    "id": "jAo3bXF9pIhL",
    "outputId": "d92aae00-9777-4844-b3a3-7060f4d8394d"
   },
   "outputs": [
    {
     "data": {
      "text/plain": [
       "<AxesSubplot:xlabel='b'>"
      ]
     },
     "execution_count": 78,
     "metadata": {},
     "output_type": "execute_result"
    },
    {
     "data": {
      "image/png": "[encoded data removed]",
      "text/plain": [
       "<Figure size 432x288 with 1 Axes>"
      ]
     },
     "metadata": {
      "needs_background": "light"
     },
     "output_type": "display_data"
    }
   ],
   "source": [
    "results = pd.DataFrame()\n",
    "results['b'] = B\n",
    "results['MAE'] = mae\n",
    "results['MSE'] = mse\n",
    "results['R2'] = R2\n",
    "results['Error'] = Error\n",
    "plot1 = results.plot.line(x = 'b', y = 'MAE')\n",
    "results.plot.line(x='b', y='MSE', ax = plot1)"
   ]
  },
  {
   "cell_type": "code",
   "execution_count": 23,
   "metadata": {
    "colab": {
     "base_uri": "https://localhost:8080/",
     "height": 279
    },
    "id": "w7DYuOCQhQvR",
    "outputId": "c81cdabc-908e-4282-bb83-8cfa6c1b38ca"
   },
   "outputs": [
    {
     "data": {
      "image/png": "[encoded data removed]",
      "text/plain": [
       "<Figure size 432x288 with 1 Axes>"
      ]
     },
     "metadata": {
      "needs_background": "light"
     },
     "output_type": "display_data"
    }
   ],
   "source": [
    "plot2 = results.plot.line(x = 'b', y = 'R2')"
   ]
  },
  {
   "cell_type": "code",
   "execution_count": 24,
   "metadata": {
    "colab": {
     "base_uri": "https://localhost:8080/",
     "height": 279
    },
    "id": "USaCcqaSiKzp",
    "outputId": "ec35f2de-718c-4b21-ea84-068387d8c461"
   },
   "outputs": [
    {
     "data": {
      "image/png": "[encoded data removed]",
      "text/plain": [
       "<Figure size 432x288 with 1 Axes>"
      ]
     },
     "metadata": {
      "needs_background": "light"
     },
     "output_type": "display_data"
    }
   ],
   "source": [
    "plot3 = results.plot.line(x = 'b', y = 'Error')"
   ]
  },
  {
   "cell_type": "code",
   "execution_count": 25,
   "metadata": {
    "colab": {
     "base_uri": "https://localhost:8080/",
     "height": 424
    },
    "id": "JMmc32uOjWJ8",
    "outputId": "0015f091-d6a8-4660-831c-fe1a398f5d57"
   },
   "outputs": [
    {
     "data": {
      "text/html": [
       "<div>\n",
       "<style scoped>\n",
       "    .dataframe tbody tr th:only-of-type {\n",
       "        vertical-align: middle;\n",
       "    }\n",
       "\n",
       "    .dataframe tbody tr th {\n",
       "        vertical-align: top;\n",
       "    }\n",
       "\n",
       "    .dataframe thead th {\n",
       "        text-align: right;\n",
       "    }\n",
       "</style>\n",
       "<table border=\"1\" class=\"dataframe\">\n",
       "  <thead>\n",
       "    <tr style=\"text-align: right;\">\n",
       "      <th></th>\n",
       "      <th>b</th>\n",
       "      <th>MAE</th>\n",
       "      <th>MSE</th>\n",
       "      <th>R2</th>\n",
       "      <th>Error</th>\n",
       "    </tr>\n",
       "  </thead>\n",
       "  <tbody>\n",
       "    <tr>\n",
       "      <th>0</th>\n",
       "      <td>-1.255000</td>\n",
       "      <td>1.254992</td>\n",
       "      <td>2.574965</td>\n",
       "      <td>-1.575066</td>\n",
       "      <td>2.575066</td>\n",
       "    </tr>\n",
       "    <tr>\n",
       "      <th>1</th>\n",
       "      <td>-1.252954</td>\n",
       "      <td>1.252946</td>\n",
       "      <td>2.569834</td>\n",
       "      <td>-1.569934</td>\n",
       "      <td>2.569934</td>\n",
       "    </tr>\n",
       "    <tr>\n",
       "      <th>2</th>\n",
       "      <td>-1.250908</td>\n",
       "      <td>1.250900</td>\n",
       "      <td>2.564711</td>\n",
       "      <td>-1.564811</td>\n",
       "      <td>2.564811</td>\n",
       "    </tr>\n",
       "    <tr>\n",
       "      <th>3</th>\n",
       "      <td>-1.248862</td>\n",
       "      <td>1.248854</td>\n",
       "      <td>2.559597</td>\n",
       "      <td>-1.559697</td>\n",
       "      <td>2.559697</td>\n",
       "    </tr>\n",
       "    <tr>\n",
       "      <th>4</th>\n",
       "      <td>-1.246816</td>\n",
       "      <td>1.246809</td>\n",
       "      <td>2.554491</td>\n",
       "      <td>-1.554590</td>\n",
       "      <td>2.554590</td>\n",
       "    </tr>\n",
       "    <tr>\n",
       "      <th>...</th>\n",
       "      <td>...</td>\n",
       "      <td>...</td>\n",
       "      <td>...</td>\n",
       "      <td>...</td>\n",
       "      <td>...</td>\n",
       "    </tr>\n",
       "    <tr>\n",
       "      <th>9996</th>\n",
       "      <td>19.196816</td>\n",
       "      <td>19.196825</td>\n",
       "      <td>369.518021</td>\n",
       "      <td>-368.532430</td>\n",
       "      <td>369.532430</td>\n",
       "    </tr>\n",
       "    <tr>\n",
       "      <th>9997</th>\n",
       "      <td>19.198862</td>\n",
       "      <td>19.198871</td>\n",
       "      <td>369.596578</td>\n",
       "      <td>-368.610991</td>\n",
       "      <td>369.610991</td>\n",
       "    </tr>\n",
       "    <tr>\n",
       "      <th>9998</th>\n",
       "      <td>19.200908</td>\n",
       "      <td>19.200917</td>\n",
       "      <td>369.675144</td>\n",
       "      <td>-368.689560</td>\n",
       "      <td>369.689560</td>\n",
       "    </tr>\n",
       "    <tr>\n",
       "      <th>9999</th>\n",
       "      <td>19.202954</td>\n",
       "      <td>19.202962</td>\n",
       "      <td>369.753719</td>\n",
       "      <td>-368.768138</td>\n",
       "      <td>369.768138</td>\n",
       "    </tr>\n",
       "    <tr>\n",
       "      <th>10000</th>\n",
       "      <td>19.205000</td>\n",
       "      <td>19.205008</td>\n",
       "      <td>369.832301</td>\n",
       "      <td>-368.846723</td>\n",
       "      <td>369.846723</td>\n",
       "    </tr>\n",
       "  </tbody>\n",
       "</table>\n",
       "<p>10001 rows × 5 columns</p>\n",
       "</div>"
      ],
      "text/plain": [
       "               b        MAE         MSE          R2       Error\n",
       "0      -1.255000   1.254992    2.574965   -1.575066    2.575066\n",
       "1      -1.252954   1.252946    2.569834   -1.569934    2.569934\n",
       "2      -1.250908   1.250900    2.564711   -1.564811    2.564811\n",
       "3      -1.248862   1.248854    2.559597   -1.559697    2.559697\n",
       "4      -1.246816   1.246809    2.554491   -1.554590    2.554590\n",
       "...          ...        ...         ...         ...         ...\n",
       "9996   19.196816  19.196825  369.518021 -368.532430  369.532430\n",
       "9997   19.198862  19.198871  369.596578 -368.610991  369.610991\n",
       "9998   19.200908  19.200917  369.675144 -368.689560  369.689560\n",
       "9999   19.202954  19.202962  369.753719 -368.768138  369.768138\n",
       "10000  19.205000  19.205008  369.832301 -368.846723  369.846723\n",
       "\n",
       "[10001 rows x 5 columns]"
      ]
     },
     "execution_count": 25,
     "metadata": {},
     "output_type": "execute_result"
    }
   ],
   "source": [
    "results"
   ]
  },
  {
   "cell_type": "code",
   "execution_count": 26,
   "metadata": {
    "id": "HhtXIGfPu4AD"
   },
   "outputs": [],
   "source": [
    "# decision tree - baseline regressor\n",
    "grid = {'max_depth': np.arange(1,10)}\n",
    "\n",
    "tree0 = DecisionTreeRegressor(max_depth=5)"
   ]
  },
  {
   "cell_type": "code",
   "execution_count": 27,
   "metadata": {
    "colab": {
     "base_uri": "https://localhost:8080/"
    },
    "id": "uS2Kn4fMu4AD",
    "outputId": "cc29d9d2-cd6c-4cbf-c7fa-c4402d1ebc2f"
   },
   "outputs": [
    {
     "data": {
      "text/plain": [
       "DecisionTreeRegressor(max_depth=5)"
      ]
     },
     "execution_count": 27,
     "metadata": {},
     "output_type": "execute_result"
    }
   ],
   "source": [
    "tree0.fit(X,y)"
   ]
  },
  {
   "cell_type": "code",
   "execution_count": 28,
   "metadata": {
    "colab": {
     "base_uri": "https://localhost:8080/"
    },
    "id": "sH-BTSiqu4AD",
    "outputId": "24e7536e-e38e-4c53-bc3a-cf7eab726d88"
   },
   "outputs": [
    {
     "name": "stdout",
     "output_type": "stream",
     "text": [
      "Baseline train error rate 1-old:  0.24155811954203954\n"
     ]
    }
   ],
   "source": [
    "# Baseline error rate - before outlier removal\n",
    "print('Baseline train error rate 1-old: ', 1-tree0.score(X,y))"
   ]
  },
  {
   "cell_type": "code",
   "execution_count": 29,
   "metadata": {
    "colab": {
     "base_uri": "https://localhost:8080/"
    },
    "id": "TIEc-d8b3spd",
    "outputId": "c3d20964-e775-4cc0-ca3a-c5b118eb0697"
   },
   "outputs": [
    {
     "name": "stdout",
     "output_type": "stream",
     "text": [
      "Baseline test error rate 1-old:  0.31195225663944637\n"
     ]
    }
   ],
   "source": [
    "# Baseline error rate - before outlier removal\n",
    "print('Baseline test error rate 1-old: ', 1-tree0.score(X_test,y_test))"
   ]
  },
  {
   "cell_type": "code",
   "execution_count": 29,
   "metadata": {
    "id": "zgD94T5Xu4AD"
   },
   "outputs": [],
   "source": [
    "# simple linear regressor - baseline regressor"
   ]
  },
  {
   "cell_type": "code",
   "execution_count": 30,
   "metadata": {
    "colab": {
     "base_uri": "https://localhost:8080/"
    },
    "id": "xM-2O7G8u4AD",
    "outputId": "77fbc603-667e-4222-a2c8-57ca3536ce78"
   },
   "outputs": [
    {
     "data": {
      "text/plain": [
       "LinearRegression()"
      ]
     },
     "execution_count": 30,
     "metadata": {},
     "output_type": "execute_result"
    }
   ],
   "source": [
    "lr = LinearRegression()\n",
    "lr.fit(X,y)"
   ]
  },
  {
   "cell_type": "code",
   "execution_count": 31,
   "metadata": {
    "colab": {
     "base_uri": "https://localhost:8080/"
    },
    "id": "k1gu-Goru4AD",
    "outputId": "fa1e2724-90b9-408e-90ee-43d93ee1cdf8"
   },
   "outputs": [
    {
     "name": "stdout",
     "output_type": "stream",
     "text": [
      "Baseline train error rate 2-old:  0.2994633309459095\n"
     ]
    }
   ],
   "source": [
    "# Baseline error rate\n",
    "print('Baseline train error rate 2-old: ', 1-lr.score(X,y))"
   ]
  },
  {
   "cell_type": "code",
   "execution_count": 32,
   "metadata": {
    "colab": {
     "base_uri": "https://localhost:8080/"
    },
    "id": "yNE0dAyK31uw",
    "outputId": "eb0b276e-03e4-42cf-cf55-ce2b0ce494ad"
   },
   "outputs": [
    {
     "name": "stdout",
     "output_type": "stream",
     "text": [
      "Baseline test error rate 2-old:  0.30504632844533586\n"
     ]
    }
   ],
   "source": [
    "# Baseline error rate\n",
    "print('Baseline test error rate 2-old: ', 1-lr.score(X_test,y_test))"
   ]
  },
  {
   "cell_type": "code",
   "execution_count": 33,
   "metadata": {
    "colab": {
     "base_uri": "https://localhost:8080/",
     "height": 312
    },
    "id": "jD1hKedfPR4y",
    "outputId": "f1ecea19-7714-482d-a85a-9ed4d0c12822"
   },
   "outputs": [
    {
     "data": {
      "text/html": [
       "<div>\n",
       "<style scoped>\n",
       "    .dataframe tbody tr th:only-of-type {\n",
       "        vertical-align: middle;\n",
       "    }\n",
       "\n",
       "    .dataframe tbody tr th {\n",
       "        vertical-align: top;\n",
       "    }\n",
       "\n",
       "    .dataframe thead th {\n",
       "        text-align: right;\n",
       "    }\n",
       "</style>\n",
       "<table border=\"1\" class=\"dataframe\">\n",
       "  <thead>\n",
       "    <tr style=\"text-align: right;\">\n",
       "      <th></th>\n",
       "      <th>date</th>\n",
       "      <th>price</th>\n",
       "      <th>bedrooms</th>\n",
       "      <th>bathrooms</th>\n",
       "      <th>sqft_living</th>\n",
       "      <th>sqft_lot</th>\n",
       "      <th>floors</th>\n",
       "      <th>waterfront</th>\n",
       "      <th>view</th>\n",
       "      <th>condition</th>\n",
       "      <th>grade</th>\n",
       "      <th>sqft_above</th>\n",
       "      <th>sqft_basement</th>\n",
       "      <th>yr_built</th>\n",
       "      <th>yr_renovated</th>\n",
       "      <th>zipcode</th>\n",
       "      <th>lat</th>\n",
       "      <th>long</th>\n",
       "      <th>sqft_living15</th>\n",
       "      <th>sqft_lot15</th>\n",
       "    </tr>\n",
       "  </thead>\n",
       "  <tbody>\n",
       "    <tr>\n",
       "      <th>0</th>\n",
       "      <td>2014-10-13 00:00:00</td>\n",
       "      <td>221900.0</td>\n",
       "      <td>3</td>\n",
       "      <td>1.00</td>\n",
       "      <td>1180</td>\n",
       "      <td>5650</td>\n",
       "      <td>1.0</td>\n",
       "      <td>0</td>\n",
       "      <td>0</td>\n",
       "      <td>3</td>\n",
       "      <td>7</td>\n",
       "      <td>1180</td>\n",
       "      <td>0</td>\n",
       "      <td>1955</td>\n",
       "      <td>0</td>\n",
       "      <td>98178</td>\n",
       "      <td>47.5112</td>\n",
       "      <td>-122.257</td>\n",
       "      <td>1340</td>\n",
       "      <td>5650</td>\n",
       "    </tr>\n",
       "    <tr>\n",
       "      <th>1</th>\n",
       "      <td>2014-12-09 00:00:00</td>\n",
       "      <td>538000.0</td>\n",
       "      <td>3</td>\n",
       "      <td>2.25</td>\n",
       "      <td>2570</td>\n",
       "      <td>7242</td>\n",
       "      <td>2.0</td>\n",
       "      <td>0</td>\n",
       "      <td>0</td>\n",
       "      <td>3</td>\n",
       "      <td>7</td>\n",
       "      <td>2170</td>\n",
       "      <td>400</td>\n",
       "      <td>1951</td>\n",
       "      <td>1991</td>\n",
       "      <td>98125</td>\n",
       "      <td>47.7210</td>\n",
       "      <td>-122.319</td>\n",
       "      <td>1690</td>\n",
       "      <td>7639</td>\n",
       "    </tr>\n",
       "    <tr>\n",
       "      <th>2</th>\n",
       "      <td>2015-02-25 00:00:00</td>\n",
       "      <td>180000.0</td>\n",
       "      <td>2</td>\n",
       "      <td>1.00</td>\n",
       "      <td>770</td>\n",
       "      <td>10000</td>\n",
       "      <td>1.0</td>\n",
       "      <td>0</td>\n",
       "      <td>0</td>\n",
       "      <td>3</td>\n",
       "      <td>6</td>\n",
       "      <td>770</td>\n",
       "      <td>0</td>\n",
       "      <td>1933</td>\n",
       "      <td>0</td>\n",
       "      <td>98028</td>\n",
       "      <td>47.7379</td>\n",
       "      <td>-122.233</td>\n",
       "      <td>2720</td>\n",
       "      <td>8062</td>\n",
       "    </tr>\n",
       "  </tbody>\n",
       "</table>\n",
       "</div>"
      ],
      "text/plain": [
       "                  date     price  bedrooms  bathrooms  sqft_living  sqft_lot  \\\n",
       "0  2014-10-13 00:00:00  221900.0         3       1.00         1180      5650   \n",
       "1  2014-12-09 00:00:00  538000.0         3       2.25         2570      7242   \n",
       "2  2015-02-25 00:00:00  180000.0         2       1.00          770     10000   \n",
       "\n",
       "   floors  waterfront  view  condition  grade  sqft_above  sqft_basement  \\\n",
       "0     1.0           0     0          3      7        1180              0   \n",
       "1     2.0           0     0          3      7        2170            400   \n",
       "2     1.0           0     0          3      6         770              0   \n",
       "\n",
       "   yr_built  yr_renovated  zipcode      lat     long  sqft_living15  \\\n",
       "0      1955             0    98178  47.5112 -122.257           1340   \n",
       "1      1951          1991    98125  47.7210 -122.319           1690   \n",
       "2      1933             0    98028  47.7379 -122.233           2720   \n",
       "\n",
       "   sqft_lot15  \n",
       "0        5650  \n",
       "1        7639  \n",
       "2        8062  "
      ]
     },
     "execution_count": 33,
     "metadata": {},
     "output_type": "execute_result"
    }
   ],
   "source": [
    "df.head(3)"
   ]
  },
  {
   "cell_type": "code",
   "execution_count": 34,
   "metadata": {
    "id": "W3NVTg6oSPNd"
   },
   "outputs": [],
   "source": [
    "dot_data = export_graphviz(tree0,out_file=None,feature_names=X.columns,class_names=['pos','neg'],\n",
    "                                proportion=True,impurity=False,filled=True, rounded=True)"
   ]
  },
  {
   "cell_type": "code",
   "execution_count": 35,
   "metadata": {
    "colab": {
     "base_uri": "https://localhost:8080/",
     "height": 696
    },
    "id": "MEdzmMVBTsud",
    "outputId": "592b9518-975e-4a1b-92b3-505c5e39e6eb"
   },
   "outputs": [
    {
     "data": {
      "image/svg+xml": [
       "<?xml version=\"1.0\" encoding=\"UTF-8\" standalone=\"no\"?>\r\n",
       "<!DOCTYPE svg PUBLIC \"-//W3C//DTD SVG 1.1//EN\"\r\n",
       " \"http://www.w3.org/Graphics/SVG/1.1/DTD/svg11.dtd\">\r\n",
       "<!-- Generated by graphviz version 2.38.0 (20140413.2041)\r\n",
       " -->\r\n",
       "<!-- Title: Tree Pages: 1 -->\r\n",
       "<svg width=\"5172pt\" height=\"491pt\"\r\n",
       " viewBox=\"0.00 0.00 5172.00 491.00\" xmlns=\"http://www.w3.org/2000/svg\" xmlns:xlink=\"http://www.w3.org/1999/xlink\">\r\n",
       "<g id=\"graph0\" class=\"graph\" transform=\"scale(1 1) rotate(0) translate(4 487)\">\r\n",
       "<title>Tree</title>\r\n",
       "<polygon fill=\"white\" stroke=\"none\" points=\"-4,4 -4,-487 5168,-487 5168,4 -4,4\"/>\r\n",
       "<!-- 0 -->\r\n",
       "<g id=\"node1\" class=\"node\"><title>0</title>\r\n",
       "<path fill=\"#fef9f6\" stroke=\"black\" d=\"M2713,-483C2713,-483 2594,-483 2594,-483 2588,-483 2582,-477 2582,-471 2582,-471 2582,-442 2582,-442 2582,-436 2588,-430 2594,-430 2594,-430 2713,-430 2713,-430 2719,-430 2725,-436 2725,-442 2725,-442 2725,-471 2725,-471 2725,-477 2719,-483 2713,-483\"/>\r\n",
       "<text text-anchor=\"middle\" x=\"2653.5\" y=\"-467.8\" font-family=\"Helvetica,sans-Serif\" font-size=\"14.00\">grade &lt;= 8.5</text>\r\n",
       "<text text-anchor=\"middle\" x=\"2653.5\" y=\"-452.8\" font-family=\"Helvetica,sans-Serif\" font-size=\"14.00\">samples = 100.0%</text>\r\n",
       "<text text-anchor=\"middle\" x=\"2653.5\" y=\"-437.8\" font-family=\"Helvetica,sans-Serif\" font-size=\"14.00\">value = 542893.104</text>\r\n",
       "</g>\r\n",
       "<!-- 1 -->\r\n",
       "<g id=\"node2\" class=\"node\"><title>1</title>\r\n",
       "<path fill=\"#fefbf9\" stroke=\"black\" d=\"M2005,-394C2005,-394 1886,-394 1886,-394 1880,-394 1874,-388 1874,-382 1874,-382 1874,-353 1874,-353 1874,-347 1880,-341 1886,-341 1886,-341 2005,-341 2005,-341 2011,-341 2017,-347 2017,-353 2017,-353 2017,-382 2017,-382 2017,-388 2011,-394 2005,-394\"/>\r\n",
       "<text text-anchor=\"middle\" x=\"1945.5\" y=\"-378.8\" font-family=\"Helvetica,sans-Serif\" font-size=\"14.00\">lat &lt;= 47.533</text>\r\n",
       "<text text-anchor=\"middle\" x=\"1945.5\" y=\"-363.8\" font-family=\"Helvetica,sans-Serif\" font-size=\"14.00\">samples = 80.4%</text>\r\n",
       "<text text-anchor=\"middle\" x=\"1945.5\" y=\"-348.8\" font-family=\"Helvetica,sans-Serif\" font-size=\"14.00\">value = 439557.164</text>\r\n",
       "</g>\r\n",
       "<!-- 0&#45;&gt;1 -->\r\n",
       "<g id=\"edge1\" class=\"edge\"><title>0&#45;&gt;1</title>\r\n",
       "<path fill=\"none\" stroke=\"black\" d=\"M2581.72,-446.679C2449.25,-430.401 2167.15,-395.737 2027.43,-378.567\"/>\r\n",
       "<polygon fill=\"black\" stroke=\"black\" points=\"2027.56,-375.058 2017.21,-377.312 2026.71,-382.005 2027.56,-375.058\"/>\r\n",
       "<text text-anchor=\"middle\" x=\"2032.6\" y=\"-393.313\" font-family=\"Helvetica,sans-Serif\" font-size=\"14.00\">True</text>\r\n",
       "</g>\r\n",
       "<!-- 32 -->\r\n",
       "<g id=\"node33\" class=\"node\"><title>32</title>\r\n",
       "<path fill=\"#fcf2ea\" stroke=\"black\" d=\"M3265,-394C3265,-394 3140,-394 3140,-394 3134,-394 3128,-388 3128,-382 3128,-382 3128,-353 3128,-353 3128,-347 3134,-341 3140,-341 3140,-341 3265,-341 3265,-341 3271,-341 3277,-347 3277,-353 3277,-353 3277,-382 3277,-382 3277,-388 3271,-394 3265,-394\"/>\r\n",
       "<text text-anchor=\"middle\" x=\"3202.5\" y=\"-378.8\" font-family=\"Helvetica,sans-Serif\" font-size=\"14.00\">sqft_living &lt;= 4185.0</text>\r\n",
       "<text text-anchor=\"middle\" x=\"3202.5\" y=\"-363.8\" font-family=\"Helvetica,sans-Serif\" font-size=\"14.00\">samples = 19.6%</text>\r\n",
       "<text text-anchor=\"middle\" x=\"3202.5\" y=\"-348.8\" font-family=\"Helvetica,sans-Serif\" font-size=\"14.00\">value = 965514.891</text>\r\n",
       "</g>\r\n",
       "<!-- 0&#45;&gt;32 -->\r\n",
       "<g id=\"edge32\" class=\"edge\"><title>0&#45;&gt;32</title>\r\n",
       "<path fill=\"none\" stroke=\"black\" d=\"M2725.27,-444.126C2826.21,-428.13 3009.79,-399.038 3117.46,-381.977\"/>\r\n",
       "<polygon fill=\"black\" stroke=\"black\" points=\"3118.3,-385.386 3127.63,-380.364 3117.21,-378.473 3118.3,-385.386\"/>\r\n",
       "<text text-anchor=\"middle\" x=\"3112.94\" y=\"-396.891\" font-family=\"Helvetica,sans-Serif\" font-size=\"14.00\">False</text>\r\n",
       "</g>\r\n",
       "<!-- 2 -->\r\n",
       "<g id=\"node3\" class=\"node\"><title>2</title>\r\n",
       "<path fill=\"#fffefd\" stroke=\"black\" d=\"M1012,-305C1012,-305 887,-305 887,-305 881,-305 875,-299 875,-293 875,-293 875,-264 875,-264 875,-258 881,-252 887,-252 887,-252 1012,-252 1012,-252 1018,-252 1024,-258 1024,-264 1024,-264 1024,-293 1024,-293 1024,-299 1018,-305 1012,-305\"/>\r\n",
       "<text text-anchor=\"middle\" x=\"949.5\" y=\"-289.8\" font-family=\"Helvetica,sans-Serif\" font-size=\"14.00\">sqft_living &lt;= 1933.0</text>\r\n",
       "<text text-anchor=\"middle\" x=\"949.5\" y=\"-274.8\" font-family=\"Helvetica,sans-Serif\" font-size=\"14.00\">samples = 32.9%</text>\r\n",
       "<text text-anchor=\"middle\" x=\"949.5\" y=\"-259.8\" font-family=\"Helvetica,sans-Serif\" font-size=\"14.00\">value = 314298.263</text>\r\n",
       "</g>\r\n",
       "<!-- 1&#45;&gt;2 -->\r\n",
       "<g id=\"edge2\" class=\"edge\"><title>1&#45;&gt;2</title>\r\n",
       "<path fill=\"none\" stroke=\"black\" d=\"M1873.87,-360.243C1694.54,-344.578 1226.85,-303.726 1034.26,-286.903\"/>\r\n",
       "<polygon fill=\"black\" stroke=\"black\" points=\"1034.45,-283.407 1024.19,-286.024 1033.84,-290.381 1034.45,-283.407\"/>\r\n",
       "</g>\r\n",
       "<!-- 17 -->\r\n",
       "<g id=\"node18\" class=\"node\"><title>17</title>\r\n",
       "<path fill=\"#fefaf7\" stroke=\"black\" d=\"M2008,-305C2008,-305 1883,-305 1883,-305 1877,-305 1871,-299 1871,-293 1871,-293 1871,-264 1871,-264 1871,-258 1877,-252 1883,-252 1883,-252 2008,-252 2008,-252 2014,-252 2020,-258 2020,-264 2020,-264 2020,-293 2020,-293 2020,-299 2014,-305 2008,-305\"/>\r\n",
       "<text text-anchor=\"middle\" x=\"1945.5\" y=\"-289.8\" font-family=\"Helvetica,sans-Serif\" font-size=\"14.00\">sqft_living &lt;= 2035.0</text>\r\n",
       "<text text-anchor=\"middle\" x=\"1945.5\" y=\"-274.8\" font-family=\"Helvetica,sans-Serif\" font-size=\"14.00\">samples = 47.4%</text>\r\n",
       "<text text-anchor=\"middle\" x=\"1945.5\" y=\"-259.8\" font-family=\"Helvetica,sans-Serif\" font-size=\"14.00\">value = 526572.221</text>\r\n",
       "</g>\r\n",
       "<!-- 1&#45;&gt;17 -->\r\n",
       "<g id=\"edge17\" class=\"edge\"><title>1&#45;&gt;17</title>\r\n",
       "<path fill=\"none\" stroke=\"black\" d=\"M1945.5,-340.868C1945.5,-332.886 1945.5,-323.932 1945.5,-315.384\"/>\r\n",
       "<polygon fill=\"black\" stroke=\"black\" points=\"1949,-315.25 1945.5,-305.25 1942,-315.25 1949,-315.25\"/>\r\n",
       "</g>\r\n",
       "<!-- 3 -->\r\n",
       "<g id=\"node4\" class=\"node\"><title>3</title>\r\n",
       "<path fill=\"#fffefe\" stroke=\"black\" d=\"M529,-216C529,-216 404,-216 404,-216 398,-216 392,-210 392,-204 392,-204 392,-175 392,-175 392,-169 398,-163 404,-163 404,-163 529,-163 529,-163 535,-163 541,-169 541,-175 541,-175 541,-204 541,-204 541,-210 535,-216 529,-216\"/>\r\n",
       "<text text-anchor=\"middle\" x=\"466.5\" y=\"-200.8\" font-family=\"Helvetica,sans-Serif\" font-size=\"14.00\">sqft_living &lt;= 1442.0</text>\r\n",
       "<text text-anchor=\"middle\" x=\"466.5\" y=\"-185.8\" font-family=\"Helvetica,sans-Serif\" font-size=\"14.00\">samples = 20.5%</text>\r\n",
       "<text text-anchor=\"middle\" x=\"466.5\" y=\"-170.8\" font-family=\"Helvetica,sans-Serif\" font-size=\"14.00\">value = 267461.208</text>\r\n",
       "</g>\r\n",
       "<!-- 2&#45;&gt;3 -->\r\n",
       "<g id=\"edge3\" class=\"edge\"><title>2&#45;&gt;3</title>\r\n",
       "<path fill=\"none\" stroke=\"black\" d=\"M874.826,-264.049C787.41,-248.304 642.966,-222.286 551.376,-205.788\"/>\r\n",
       "<polygon fill=\"black\" stroke=\"black\" points=\"551.767,-202.302 541.305,-203.974 550.526,-209.192 551.767,-202.302\"/>\r\n",
       "</g>\r\n",
       "<!-- 10 -->\r\n",
       "<g id=\"node11\" class=\"node\"><title>10</title>\r\n",
       "<path fill=\"#fefcfb\" stroke=\"black\" d=\"M1009,-216C1009,-216 890,-216 890,-216 884,-216 878,-210 878,-204 878,-204 878,-175 878,-175 878,-169 884,-163 890,-163 890,-163 1009,-163 1009,-163 1015,-163 1021,-169 1021,-175 1021,-175 1021,-204 1021,-204 1021,-210 1015,-216 1009,-216\"/>\r\n",
       "<text text-anchor=\"middle\" x=\"949.5\" y=\"-200.8\" font-family=\"Helvetica,sans-Serif\" font-size=\"14.00\">view &lt;= 2.5</text>\r\n",
       "<text text-anchor=\"middle\" x=\"949.5\" y=\"-185.8\" font-family=\"Helvetica,sans-Serif\" font-size=\"14.00\">samples = 12.5%</text>\r\n",
       "<text text-anchor=\"middle\" x=\"949.5\" y=\"-170.8\" font-family=\"Helvetica,sans-Serif\" font-size=\"14.00\">value = 391294.556</text>\r\n",
       "</g>\r\n",
       "<!-- 2&#45;&gt;10 -->\r\n",
       "<g id=\"edge10\" class=\"edge\"><title>2&#45;&gt;10</title>\r\n",
       "<path fill=\"none\" stroke=\"black\" d=\"M949.5,-251.868C949.5,-243.886 949.5,-234.932 949.5,-226.384\"/>\r\n",
       "<polygon fill=\"black\" stroke=\"black\" points=\"953,-226.25 949.5,-216.25 946,-226.25 953,-226.25\"/>\r\n",
       "</g>\r\n",
       "<!-- 4 -->\r\n",
       "<g id=\"node5\" class=\"node\"><title>4</title>\r\n",
       "<path fill=\"#ffffff\" stroke=\"black\" d=\"M284,-127C284,-127 165,-127 165,-127 159,-127 153,-121 153,-115 153,-115 153,-86 153,-86 153,-80 159,-74 165,-74 165,-74 284,-74 284,-74 290,-74 296,-80 296,-86 296,-86 296,-115 296,-115 296,-121 290,-127 284,-127\"/>\r\n",
       "<text text-anchor=\"middle\" x=\"224.5\" y=\"-111.8\" font-family=\"Helvetica,sans-Serif\" font-size=\"14.00\">long &lt;= &#45;122.376</text>\r\n",
       "<text text-anchor=\"middle\" x=\"224.5\" y=\"-96.8\" font-family=\"Helvetica,sans-Serif\" font-size=\"14.00\">samples = 10.7%</text>\r\n",
       "<text text-anchor=\"middle\" x=\"224.5\" y=\"-81.8\" font-family=\"Helvetica,sans-Serif\" font-size=\"14.00\">value = 240974.456</text>\r\n",
       "</g>\r\n",
       "<!-- 3&#45;&gt;4 -->\r\n",
       "<g id=\"edge4\" class=\"edge\"><title>3&#45;&gt;4</title>\r\n",
       "<path fill=\"none\" stroke=\"black\" d=\"M395.527,-162.985C367.209,-152.804 334.453,-141.029 305.234,-130.524\"/>\r\n",
       "<polygon fill=\"black\" stroke=\"black\" points=\"306.066,-127.104 295.472,-127.015 303.698,-133.691 306.066,-127.104\"/>\r\n",
       "</g>\r\n",
       "<!-- 7 -->\r\n",
       "<g id=\"node8\" class=\"node\"><title>7</title>\r\n",
       "<path fill=\"#fffefd\" stroke=\"black\" d=\"M526,-127C526,-127 407,-127 407,-127 401,-127 395,-121 395,-115 395,-115 395,-86 395,-86 395,-80 401,-74 407,-74 407,-74 526,-74 526,-74 532,-74 538,-80 538,-86 538,-86 538,-115 538,-115 538,-121 532,-127 526,-127\"/>\r\n",
       "<text text-anchor=\"middle\" x=\"466.5\" y=\"-111.8\" font-family=\"Helvetica,sans-Serif\" font-size=\"14.00\">lat &lt;= 47.413</text>\r\n",
       "<text text-anchor=\"middle\" x=\"466.5\" y=\"-96.8\" font-family=\"Helvetica,sans-Serif\" font-size=\"14.00\">samples = 9.8%</text>\r\n",
       "<text text-anchor=\"middle\" x=\"466.5\" y=\"-81.8\" font-family=\"Helvetica,sans-Serif\" font-size=\"14.00\">value = 296405.654</text>\r\n",
       "</g>\r\n",
       "<!-- 3&#45;&gt;7 -->\r\n",
       "<g id=\"edge7\" class=\"edge\"><title>3&#45;&gt;7</title>\r\n",
       "<path fill=\"none\" stroke=\"black\" d=\"M466.5,-162.868C466.5,-154.886 466.5,-145.932 466.5,-137.384\"/>\r\n",
       "<polygon fill=\"black\" stroke=\"black\" points=\"470,-137.25 466.5,-127.25 463,-137.25 470,-137.25\"/>\r\n",
       "</g>\r\n",
       "<!-- 5 -->\r\n",
       "<g id=\"node6\" class=\"node\"><title>5</title>\r\n",
       "<path fill=\"#fffdfc\" stroke=\"black\" d=\"M123,-38C123,-38 12,-38 12,-38 6,-38 0,-32 0,-26 0,-26 0,-12 0,-12 0,-6 6,-0 12,-0 12,-0 123,-0 123,-0 129,-0 135,-6 135,-12 135,-12 135,-26 135,-26 135,-32 129,-38 123,-38\"/>\r\n",
       "<text text-anchor=\"middle\" x=\"67.5\" y=\"-22.8\" font-family=\"Helvetica,sans-Serif\" font-size=\"14.00\">samples = 0.6%</text>\r\n",
       "<text text-anchor=\"middle\" x=\"67.5\" y=\"-7.8\" font-family=\"Helvetica,sans-Serif\" font-size=\"14.00\">value = 350282.05</text>\r\n",
       "</g>\r\n",
       "<!-- 4&#45;&gt;5 -->\r\n",
       "<g id=\"edge5\" class=\"edge\"><title>4&#45;&gt;5</title>\r\n",
       "<path fill=\"none\" stroke=\"black\" d=\"M173.96,-73.9081C154.239,-63.922 131.81,-52.5646 112.641,-42.8581\"/>\r\n",
       "<polygon fill=\"black\" stroke=\"black\" points=\"114.022,-39.634 103.519,-38.2389 110.859,-45.879 114.022,-39.634\"/>\r\n",
       "</g>\r\n",
       "<!-- 6 -->\r\n",
       "<g id=\"node7\" class=\"node\"><title>6</title>\r\n",
       "<path fill=\"#ffffff\" stroke=\"black\" d=\"M284,-38C284,-38 165,-38 165,-38 159,-38 153,-32 153,-26 153,-26 153,-12 153,-12 153,-6 159,-0 165,-0 165,-0 284,-0 284,-0 290,-0 296,-6 296,-12 296,-12 296,-26 296,-26 296,-32 290,-38 284,-38\"/>\r\n",
       "<text text-anchor=\"middle\" x=\"224.5\" y=\"-22.8\" font-family=\"Helvetica,sans-Serif\" font-size=\"14.00\">samples = 10.1%</text>\r\n",
       "<text text-anchor=\"middle\" x=\"224.5\" y=\"-7.8\" font-family=\"Helvetica,sans-Serif\" font-size=\"14.00\">value = 234724.737</text>\r\n",
       "</g>\r\n",
       "<!-- 4&#45;&gt;6 -->\r\n",
       "<g id=\"edge6\" class=\"edge\"><title>4&#45;&gt;6</title>\r\n",
       "<path fill=\"none\" stroke=\"black\" d=\"M224.5,-73.9081C224.5,-65.7377 224.5,-56.6492 224.5,-48.2981\"/>\r\n",
       "<polygon fill=\"black\" stroke=\"black\" points=\"228,-48.2389 224.5,-38.2389 221,-48.2389 228,-48.2389\"/>\r\n",
       "</g>\r\n",
       "<!-- 8 -->\r\n",
       "<g id=\"node9\" class=\"node\"><title>8</title>\r\n",
       "<path fill=\"#fffefe\" stroke=\"black\" d=\"M445,-38C445,-38 326,-38 326,-38 320,-38 314,-32 314,-26 314,-26 314,-12 314,-12 314,-6 320,-0 326,-0 326,-0 445,-0 445,-0 451,-0 457,-6 457,-12 457,-12 457,-26 457,-26 457,-32 451,-38 445,-38\"/>\r\n",
       "<text text-anchor=\"middle\" x=\"385.5\" y=\"-22.8\" font-family=\"Helvetica,sans-Serif\" font-size=\"14.00\">samples = 5.4%</text>\r\n",
       "<text text-anchor=\"middle\" x=\"385.5\" y=\"-7.8\" font-family=\"Helvetica,sans-Serif\" font-size=\"14.00\">value = 271004.808</text>\r\n",
       "</g>\r\n",
       "<!-- 7&#45;&gt;8 -->\r\n",
       "<g id=\"edge8\" class=\"edge\"><title>7&#45;&gt;8</title>\r\n",
       "<path fill=\"none\" stroke=\"black\" d=\"M440.425,-73.9081C431.083,-64.739 420.563,-54.4139 411.249,-45.2721\"/>\r\n",
       "<polygon fill=\"black\" stroke=\"black\" points=\"413.672,-42.7457 404.083,-38.2389 408.768,-47.7415 413.672,-42.7457\"/>\r\n",
       "</g>\r\n",
       "<!-- 9 -->\r\n",
       "<g id=\"node10\" class=\"node\"><title>9</title>\r\n",
       "<path fill=\"#fffdfc\" stroke=\"black\" d=\"M606,-38C606,-38 487,-38 487,-38 481,-38 475,-32 475,-26 475,-26 475,-12 475,-12 475,-6 481,-0 487,-0 487,-0 606,-0 606,-0 612,-0 618,-6 618,-12 618,-12 618,-26 618,-26 618,-32 612,-38 606,-38\"/>\r\n",
       "<text text-anchor=\"middle\" x=\"546.5\" y=\"-22.8\" font-family=\"Helvetica,sans-Serif\" font-size=\"14.00\">samples = 4.4%</text>\r\n",
       "<text text-anchor=\"middle\" x=\"546.5\" y=\"-7.8\" font-family=\"Helvetica,sans-Serif\" font-size=\"14.00\">value = 327929.619</text>\r\n",
       "</g>\r\n",
       "<!-- 7&#45;&gt;9 -->\r\n",
       "<g id=\"edge9\" class=\"edge\"><title>7&#45;&gt;9</title>\r\n",
       "<path fill=\"none\" stroke=\"black\" d=\"M492.253,-73.9081C501.388,-64.8298 511.664,-54.6182 520.795,-45.544\"/>\r\n",
       "<polygon fill=\"black\" stroke=\"black\" points=\"523.52,-47.7704 528.146,-38.2389 518.586,-42.8052 523.52,-47.7704\"/>\r\n",
       "</g>\r\n",
       "<!-- 11 -->\r\n",
       "<g id=\"node12\" class=\"node\"><title>11</title>\r\n",
       "<path fill=\"#fefcfb\" stroke=\"black\" d=\"M920,-127C920,-127 809,-127 809,-127 803,-127 797,-121 797,-115 797,-115 797,-86 797,-86 797,-80 803,-74 809,-74 809,-74 920,-74 920,-74 926,-74 932,-80 932,-86 932,-86 932,-115 932,-115 932,-121 926,-127 920,-127\"/>\r\n",
       "<text text-anchor=\"middle\" x=\"864.5\" y=\"-111.8\" font-family=\"Helvetica,sans-Serif\" font-size=\"14.00\">lat &lt;= 47.427</text>\r\n",
       "<text text-anchor=\"middle\" x=\"864.5\" y=\"-96.8\" font-family=\"Helvetica,sans-Serif\" font-size=\"14.00\">samples = 11.9%</text>\r\n",
       "<text text-anchor=\"middle\" x=\"864.5\" y=\"-81.8\" font-family=\"Helvetica,sans-Serif\" font-size=\"14.00\">value = 380809.08</text>\r\n",
       "</g>\r\n",
       "<!-- 10&#45;&gt;11 -->\r\n",
       "<g id=\"edge11\" class=\"edge\"><title>10&#45;&gt;11</title>\r\n",
       "<path fill=\"none\" stroke=\"black\" d=\"M924.457,-162.868C915.801,-154.008 905.977,-143.953 896.821,-134.582\"/>\r\n",
       "<polygon fill=\"black\" stroke=\"black\" points=\"899.15,-131.957 889.658,-127.25 894.143,-136.849 899.15,-131.957\"/>\r\n",
       "</g>\r\n",
       "<!-- 14 -->\r\n",
       "<g id=\"node15\" class=\"node\"><title>14</title>\r\n",
       "<path fill=\"#fef8f4\" stroke=\"black\" d=\"M1104.5,-127C1104.5,-127 962.5,-127 962.5,-127 956.5,-127 950.5,-121 950.5,-115 950.5,-115 950.5,-86 950.5,-86 950.5,-80 956.5,-74 962.5,-74 962.5,-74 1104.5,-74 1104.5,-74 1110.5,-74 1116.5,-80 1116.5,-86 1116.5,-86 1116.5,-115 1116.5,-115 1116.5,-121 1110.5,-127 1104.5,-127\"/>\r\n",
       "<text text-anchor=\"middle\" x=\"1033.5\" y=\"-111.8\" font-family=\"Helvetica,sans-Serif\" font-size=\"14.00\">sqft_living15 &lt;= 3500.0</text>\r\n",
       "<text text-anchor=\"middle\" x=\"1033.5\" y=\"-96.8\" font-family=\"Helvetica,sans-Serif\" font-size=\"14.00\">samples = 0.5%</text>\r\n",
       "<text text-anchor=\"middle\" x=\"1033.5\" y=\"-81.8\" font-family=\"Helvetica,sans-Serif\" font-size=\"14.00\">value = 631761.467</text>\r\n",
       "</g>\r\n",
       "<!-- 10&#45;&gt;14 -->\r\n",
       "<g id=\"edge14\" class=\"edge\"><title>10&#45;&gt;14</title>\r\n",
       "<path fill=\"none\" stroke=\"black\" d=\"M974.248,-162.868C982.802,-154.008 992.511,-143.953 1001.56,-134.582\"/>\r\n",
       "<polygon fill=\"black\" stroke=\"black\" points=\"1004.21,-136.875 1008.64,-127.25 999.174,-132.013 1004.21,-136.875\"/>\r\n",
       "</g>\r\n",
       "<!-- 12 -->\r\n",
       "<g id=\"node13\" class=\"node\"><title>12</title>\r\n",
       "<path fill=\"#fffdfc\" stroke=\"black\" d=\"M767,-38C767,-38 648,-38 648,-38 642,-38 636,-32 636,-26 636,-26 636,-12 636,-12 636,-6 642,-0 648,-0 648,-0 767,-0 767,-0 773,-0 779,-6 779,-12 779,-12 779,-26 779,-26 779,-32 773,-38 767,-38\"/>\r\n",
       "<text text-anchor=\"middle\" x=\"707.5\" y=\"-22.8\" font-family=\"Helvetica,sans-Serif\" font-size=\"14.00\">samples = 6.5%</text>\r\n",
       "<text text-anchor=\"middle\" x=\"707.5\" y=\"-7.8\" font-family=\"Helvetica,sans-Serif\" font-size=\"14.00\">value = 340321.948</text>\r\n",
       "</g>\r\n",
       "<!-- 11&#45;&gt;12 -->\r\n",
       "<g id=\"edge12\" class=\"edge\"><title>11&#45;&gt;12</title>\r\n",
       "<path fill=\"none\" stroke=\"black\" d=\"M813.96,-73.9081C794.239,-63.922 771.81,-52.5646 752.641,-42.8581\"/>\r\n",
       "<polygon fill=\"black\" stroke=\"black\" points=\"754.022,-39.634 743.519,-38.2389 750.859,-45.879 754.022,-39.634\"/>\r\n",
       "</g>\r\n",
       "<!-- 13 -->\r\n",
       "<g id=\"node14\" class=\"node\"><title>13</title>\r\n",
       "<path fill=\"#fefcfa\" stroke=\"black\" d=\"M928,-38C928,-38 809,-38 809,-38 803,-38 797,-32 797,-26 797,-26 797,-12 797,-12 797,-6 803,-0 809,-0 809,-0 928,-0 928,-0 934,-0 940,-6 940,-12 940,-12 940,-26 940,-26 940,-32 934,-38 928,-38\"/>\r\n",
       "<text text-anchor=\"middle\" x=\"868.5\" y=\"-22.8\" font-family=\"Helvetica,sans-Serif\" font-size=\"14.00\">samples = 5.5%</text>\r\n",
       "<text text-anchor=\"middle\" x=\"868.5\" y=\"-7.8\" font-family=\"Helvetica,sans-Serif\" font-size=\"14.00\">value = 428471.147</text>\r\n",
       "</g>\r\n",
       "<!-- 11&#45;&gt;13 -->\r\n",
       "<g id=\"edge13\" class=\"edge\"><title>11&#45;&gt;13</title>\r\n",
       "<path fill=\"none\" stroke=\"black\" d=\"M865.788,-73.9081C866.199,-65.7377 866.656,-56.6492 867.076,-48.2981\"/>\r\n",
       "<polygon fill=\"black\" stroke=\"black\" points=\"870.575,-48.4022 867.582,-38.2389 863.584,-48.0504 870.575,-48.4022\"/>\r\n",
       "</g>\r\n",
       "<!-- 15 -->\r\n",
       "<g id=\"node16\" class=\"node\"><title>15</title>\r\n",
       "<path fill=\"#fef8f4\" stroke=\"black\" d=\"M1089,-38C1089,-38 970,-38 970,-38 964,-38 958,-32 958,-26 958,-26 958,-12 958,-12 958,-6 964,-0 970,-0 970,-0 1089,-0 1089,-0 1095,-0 1101,-6 1101,-12 1101,-12 1101,-26 1101,-26 1101,-32 1095,-38 1089,-38\"/>\r\n",
       "<text text-anchor=\"middle\" x=\"1029.5\" y=\"-22.8\" font-family=\"Helvetica,sans-Serif\" font-size=\"14.00\">samples = 0.5%</text>\r\n",
       "<text text-anchor=\"middle\" x=\"1029.5\" y=\"-7.8\" font-family=\"Helvetica,sans-Serif\" font-size=\"14.00\">value = 616837.438</text>\r\n",
       "</g>\r\n",
       "<!-- 14&#45;&gt;15 -->\r\n",
       "<g id=\"edge15\" class=\"edge\"><title>14&#45;&gt;15</title>\r\n",
       "<path fill=\"none\" stroke=\"black\" d=\"M1032.21,-73.9081C1031.8,-65.7377 1031.34,-56.6492 1030.92,-48.2981\"/>\r\n",
       "<polygon fill=\"black\" stroke=\"black\" points=\"1034.42,-48.0504 1030.42,-38.2389 1027.42,-48.4022 1034.42,-48.0504\"/>\r\n",
       "</g>\r\n",
       "<!-- 16 -->\r\n",
       "<g id=\"node17\" class=\"node\"><title>16</title>\r\n",
       "<path fill=\"#f9e0ce\" stroke=\"black\" d=\"M1242,-38C1242,-38 1131,-38 1131,-38 1125,-38 1119,-32 1119,-26 1119,-26 1119,-12 1119,-12 1119,-6 1125,-0 1131,-0 1131,-0 1242,-0 1242,-0 1248,-0 1254,-6 1254,-12 1254,-12 1254,-26 1254,-26 1254,-32 1248,-38 1242,-38\"/>\r\n",
       "<text text-anchor=\"middle\" x=\"1186.5\" y=\"-22.8\" font-family=\"Helvetica,sans-Serif\" font-size=\"14.00\">samples = 0.0%</text>\r\n",
       "<text text-anchor=\"middle\" x=\"1186.5\" y=\"-7.8\" font-family=\"Helvetica,sans-Serif\" font-size=\"14.00\">value = 1960000.0</text>\r\n",
       "</g>\r\n",
       "<!-- 14&#45;&gt;16 -->\r\n",
       "<g id=\"edge16\" class=\"edge\"><title>14&#45;&gt;16</title>\r\n",
       "<path fill=\"none\" stroke=\"black\" d=\"M1082.75,-73.9081C1101.97,-63.922 1123.83,-52.5646 1142.51,-42.8581\"/>\r\n",
       "<polygon fill=\"black\" stroke=\"black\" points=\"1144.14,-45.9555 1151.4,-38.2389 1140.91,-39.744 1144.14,-45.9555\"/>\r\n",
       "</g>\r\n",
       "<!-- 18 -->\r\n",
       "<g id=\"node19\" class=\"node\"><title>18</title>\r\n",
       "<path fill=\"#fefbf9\" stroke=\"black\" d=\"M1808,-216C1808,-216 1683,-216 1683,-216 1677,-216 1671,-210 1671,-204 1671,-204 1671,-175 1671,-175 1671,-169 1677,-163 1683,-163 1683,-163 1808,-163 1808,-163 1814,-163 1820,-169 1820,-175 1820,-175 1820,-204 1820,-204 1820,-210 1814,-216 1808,-216\"/>\r\n",
       "<text text-anchor=\"middle\" x=\"1745.5\" y=\"-200.8\" font-family=\"Helvetica,sans-Serif\" font-size=\"14.00\">sqft_living &lt;= 1455.5</text>\r\n",
       "<text text-anchor=\"middle\" x=\"1745.5\" y=\"-185.8\" font-family=\"Helvetica,sans-Serif\" font-size=\"14.00\">samples = 31.8%</text>\r\n",
       "<text text-anchor=\"middle\" x=\"1745.5\" y=\"-170.8\" font-family=\"Helvetica,sans-Serif\" font-size=\"14.00\">value = 463717.078</text>\r\n",
       "</g>\r\n",
       "<!-- 17&#45;&gt;18 -->\r\n",
       "<g id=\"edge18\" class=\"edge\"><title>17&#45;&gt;18</title>\r\n",
       "<path fill=\"none\" stroke=\"black\" d=\"M1886.84,-251.985C1863.85,-241.981 1837.31,-230.438 1813.48,-220.073\"/>\r\n",
       "<polygon fill=\"black\" stroke=\"black\" points=\"1814.72,-216.794 1804.15,-216.015 1811.93,-223.213 1814.72,-216.794\"/>\r\n",
       "</g>\r\n",
       "<!-- 25 -->\r\n",
       "<g id=\"node26\" class=\"node\"><title>25</title>\r\n",
       "<path fill=\"#fdf7f3\" stroke=\"black\" d=\"M2126,-216C2126,-216 2007,-216 2007,-216 2001,-216 1995,-210 1995,-204 1995,-204 1995,-175 1995,-175 1995,-169 2001,-163 2007,-163 2007,-163 2126,-163 2126,-163 2132,-163 2138,-169 2138,-175 2138,-175 2138,-204 2138,-204 2138,-210 2132,-216 2126,-216\"/>\r\n",
       "<text text-anchor=\"middle\" x=\"2066.5\" y=\"-200.8\" font-family=\"Helvetica,sans-Serif\" font-size=\"14.00\">waterfront &lt;= 0.5</text>\r\n",
       "<text text-anchor=\"middle\" x=\"2066.5\" y=\"-185.8\" font-family=\"Helvetica,sans-Serif\" font-size=\"14.00\">samples = 15.6%</text>\r\n",
       "<text text-anchor=\"middle\" x=\"2066.5\" y=\"-170.8\" font-family=\"Helvetica,sans-Serif\" font-size=\"14.00\">value = 654211.149</text>\r\n",
       "</g>\r\n",
       "<!-- 17&#45;&gt;25 -->\r\n",
       "<g id=\"edge25\" class=\"edge\"><title>17&#45;&gt;25</title>\r\n",
       "<path fill=\"none\" stroke=\"black\" d=\"M1981.15,-251.868C1994.08,-242.57 2008.85,-231.954 2022.42,-222.196\"/>\r\n",
       "<polygon fill=\"black\" stroke=\"black\" points=\"2024.61,-224.929 2030.69,-216.25 2020.52,-219.246 2024.61,-224.929\"/>\r\n",
       "</g>\r\n",
       "<!-- 19 -->\r\n",
       "<g id=\"node20\" class=\"node\"><title>19</title>\r\n",
       "<path fill=\"#fefcfa\" stroke=\"black\" d=\"M1564,-127C1564,-127 1445,-127 1445,-127 1439,-127 1433,-121 1433,-115 1433,-115 1433,-86 1433,-86 1433,-80 1439,-74 1445,-74 1445,-74 1564,-74 1564,-74 1570,-74 1576,-80 1576,-86 1576,-86 1576,-115 1576,-115 1576,-121 1570,-127 1564,-127\"/>\r\n",
       "<text text-anchor=\"middle\" x=\"1504.5\" y=\"-111.8\" font-family=\"Helvetica,sans-Serif\" font-size=\"14.00\">lat &lt;= 47.697</text>\r\n",
       "<text text-anchor=\"middle\" x=\"1504.5\" y=\"-96.8\" font-family=\"Helvetica,sans-Serif\" font-size=\"14.00\">samples = 15.6%</text>\r\n",
       "<text text-anchor=\"middle\" x=\"1504.5\" y=\"-81.8\" font-family=\"Helvetica,sans-Serif\" font-size=\"14.00\">value = 410629.965</text>\r\n",
       "</g>\r\n",
       "<!-- 18&#45;&gt;19 -->\r\n",
       "<g id=\"edge19\" class=\"edge\"><title>18&#45;&gt;19</title>\r\n",
       "<path fill=\"none\" stroke=\"black\" d=\"M1674.82,-162.985C1646.62,-152.804 1614,-141.029 1584.9,-130.524\"/>\r\n",
       "<polygon fill=\"black\" stroke=\"black\" points=\"1585.77,-127.118 1575.18,-127.015 1583.4,-133.702 1585.77,-127.118\"/>\r\n",
       "</g>\r\n",
       "<!-- 22 -->\r\n",
       "<g id=\"node23\" class=\"node\"><title>22</title>\r\n",
       "<path fill=\"#fefaf7\" stroke=\"black\" d=\"M1805,-127C1805,-127 1686,-127 1686,-127 1680,-127 1674,-121 1674,-115 1674,-115 1674,-86 1674,-86 1674,-80 1680,-74 1686,-74 1686,-74 1805,-74 1805,-74 1811,-74 1817,-80 1817,-86 1817,-86 1817,-115 1817,-115 1817,-121 1811,-127 1805,-127\"/>\r\n",
       "<text text-anchor=\"middle\" x=\"1745.5\" y=\"-111.8\" font-family=\"Helvetica,sans-Serif\" font-size=\"14.00\">lat &lt;= 47.696</text>\r\n",
       "<text text-anchor=\"middle\" x=\"1745.5\" y=\"-96.8\" font-family=\"Helvetica,sans-Serif\" font-size=\"14.00\">samples = 16.2%</text>\r\n",
       "<text text-anchor=\"middle\" x=\"1745.5\" y=\"-81.8\" font-family=\"Helvetica,sans-Serif\" font-size=\"14.00\">value = 514626.938</text>\r\n",
       "</g>\r\n",
       "<!-- 18&#45;&gt;22 -->\r\n",
       "<g id=\"edge22\" class=\"edge\"><title>18&#45;&gt;22</title>\r\n",
       "<path fill=\"none\" stroke=\"black\" d=\"M1745.5,-162.868C1745.5,-154.886 1745.5,-145.932 1745.5,-137.384\"/>\r\n",
       "<polygon fill=\"black\" stroke=\"black\" points=\"1749,-137.25 1745.5,-127.25 1742,-137.25 1749,-137.25\"/>\r\n",
       "</g>\r\n",
       "<!-- 20 -->\r\n",
       "<g id=\"node21\" class=\"node\"><title>20</title>\r\n",
       "<path fill=\"#fefbf9\" stroke=\"black\" d=\"M1403,-38C1403,-38 1284,-38 1284,-38 1278,-38 1272,-32 1272,-26 1272,-26 1272,-12 1272,-12 1272,-6 1278,-0 1284,-0 1284,-0 1403,-0 1403,-0 1409,-0 1415,-6 1415,-12 1415,-12 1415,-26 1415,-26 1415,-32 1409,-38 1403,-38\"/>\r\n",
       "<text text-anchor=\"middle\" x=\"1343.5\" y=\"-22.8\" font-family=\"Helvetica,sans-Serif\" font-size=\"14.00\">samples = 10.6%</text>\r\n",
       "<text text-anchor=\"middle\" x=\"1343.5\" y=\"-7.8\" font-family=\"Helvetica,sans-Serif\" font-size=\"14.00\">value = 441627.348</text>\r\n",
       "</g>\r\n",
       "<!-- 19&#45;&gt;20 -->\r\n",
       "<g id=\"edge20\" class=\"edge\"><title>19&#45;&gt;20</title>\r\n",
       "<path fill=\"none\" stroke=\"black\" d=\"M1452.67,-73.9081C1432.36,-63.8766 1409.24,-52.4613 1389.52,-42.7258\"/>\r\n",
       "<polygon fill=\"black\" stroke=\"black\" points=\"1390.95,-39.5282 1380.44,-38.2389 1387.85,-45.8047 1390.95,-39.5282\"/>\r\n",
       "</g>\r\n",
       "<!-- 21 -->\r\n",
       "<g id=\"node22\" class=\"node\"><title>21</title>\r\n",
       "<path fill=\"#fffdfc\" stroke=\"black\" d=\"M1564,-38C1564,-38 1445,-38 1445,-38 1439,-38 1433,-32 1433,-26 1433,-26 1433,-12 1433,-12 1433,-6 1439,-0 1445,-0 1445,-0 1564,-0 1564,-0 1570,-0 1576,-6 1576,-12 1576,-12 1576,-26 1576,-26 1576,-32 1570,-38 1564,-38\"/>\r\n",
       "<text text-anchor=\"middle\" x=\"1504.5\" y=\"-22.8\" font-family=\"Helvetica,sans-Serif\" font-size=\"14.00\">samples = 5.0%</text>\r\n",
       "<text text-anchor=\"middle\" x=\"1504.5\" y=\"-7.8\" font-family=\"Helvetica,sans-Serif\" font-size=\"14.00\">value = 344480.538</text>\r\n",
       "</g>\r\n",
       "<!-- 19&#45;&gt;21 -->\r\n",
       "<g id=\"edge21\" class=\"edge\"><title>19&#45;&gt;21</title>\r\n",
       "<path fill=\"none\" stroke=\"black\" d=\"M1504.5,-73.9081C1504.5,-65.7377 1504.5,-56.6492 1504.5,-48.2981\"/>\r\n",
       "<polygon fill=\"black\" stroke=\"black\" points=\"1508,-48.2389 1504.5,-38.2389 1501,-48.2389 1508,-48.2389\"/>\r\n",
       "</g>\r\n",
       "<!-- 23 -->\r\n",
       "<g id=\"node24\" class=\"node\"><title>23</title>\r\n",
       "<path fill=\"#fef9f6\" stroke=\"black\" d=\"M1725,-38C1725,-38 1606,-38 1606,-38 1600,-38 1594,-32 1594,-26 1594,-26 1594,-12 1594,-12 1594,-6 1600,-0 1606,-0 1606,-0 1725,-0 1725,-0 1731,-0 1737,-6 1737,-12 1737,-12 1737,-26 1737,-26 1737,-32 1731,-38 1725,-38\"/>\r\n",
       "<text text-anchor=\"middle\" x=\"1665.5\" y=\"-22.8\" font-family=\"Helvetica,sans-Serif\" font-size=\"14.00\">samples = 11.1%</text>\r\n",
       "<text text-anchor=\"middle\" x=\"1665.5\" y=\"-7.8\" font-family=\"Helvetica,sans-Serif\" font-size=\"14.00\">value = 552692.895</text>\r\n",
       "</g>\r\n",
       "<!-- 22&#45;&gt;23 -->\r\n",
       "<g id=\"edge23\" class=\"edge\"><title>22&#45;&gt;23</title>\r\n",
       "<path fill=\"none\" stroke=\"black\" d=\"M1719.75,-73.9081C1710.61,-64.8298 1700.34,-54.6182 1691.2,-45.544\"/>\r\n",
       "<polygon fill=\"black\" stroke=\"black\" points=\"1693.41,-42.8052 1683.85,-38.2389 1688.48,-47.7704 1693.41,-42.8052\"/>\r\n",
       "</g>\r\n",
       "<!-- 24 -->\r\n",
       "<g id=\"node25\" class=\"node\"><title>24</title>\r\n",
       "<path fill=\"#fefbf9\" stroke=\"black\" d=\"M1886,-38C1886,-38 1767,-38 1767,-38 1761,-38 1755,-32 1755,-26 1755,-26 1755,-12 1755,-12 1755,-6 1761,-0 1767,-0 1767,-0 1886,-0 1886,-0 1892,-0 1898,-6 1898,-12 1898,-12 1898,-26 1898,-26 1898,-32 1892,-38 1886,-38\"/>\r\n",
       "<text text-anchor=\"middle\" x=\"1826.5\" y=\"-22.8\" font-family=\"Helvetica,sans-Serif\" font-size=\"14.00\">samples = 5.2%</text>\r\n",
       "<text text-anchor=\"middle\" x=\"1826.5\" y=\"-7.8\" font-family=\"Helvetica,sans-Serif\" font-size=\"14.00\">value = 433166.643</text>\r\n",
       "</g>\r\n",
       "<!-- 22&#45;&gt;24 -->\r\n",
       "<g id=\"edge24\" class=\"edge\"><title>22&#45;&gt;24</title>\r\n",
       "<path fill=\"none\" stroke=\"black\" d=\"M1771.57,-73.9081C1780.92,-64.739 1791.44,-54.4139 1800.75,-45.2721\"/>\r\n",
       "<polygon fill=\"black\" stroke=\"black\" points=\"1803.23,-47.7415 1807.92,-38.2389 1798.33,-42.7457 1803.23,-47.7415\"/>\r\n",
       "</g>\r\n",
       "<!-- 26 -->\r\n",
       "<g id=\"node27\" class=\"node\"><title>26</title>\r\n",
       "<path fill=\"#fdf8f3\" stroke=\"black\" d=\"M2126,-127C2126,-127 2007,-127 2007,-127 2001,-127 1995,-121 1995,-115 1995,-115 1995,-86 1995,-86 1995,-80 2001,-74 2007,-74 2007,-74 2126,-74 2126,-74 2132,-74 2138,-80 2138,-86 2138,-86 2138,-115 2138,-115 2138,-121 2132,-127 2126,-127\"/>\r\n",
       "<text text-anchor=\"middle\" x=\"2066.5\" y=\"-111.8\" font-family=\"Helvetica,sans-Serif\" font-size=\"14.00\">lat &lt;= 47.712</text>\r\n",
       "<text text-anchor=\"middle\" x=\"2066.5\" y=\"-96.8\" font-family=\"Helvetica,sans-Serif\" font-size=\"14.00\">samples = 15.6%</text>\r\n",
       "<text text-anchor=\"middle\" x=\"2066.5\" y=\"-81.8\" font-family=\"Helvetica,sans-Serif\" font-size=\"14.00\">value = 647267.073</text>\r\n",
       "</g>\r\n",
       "<!-- 25&#45;&gt;26 -->\r\n",
       "<g id=\"edge26\" class=\"edge\"><title>25&#45;&gt;26</title>\r\n",
       "<path fill=\"none\" stroke=\"black\" d=\"M2066.5,-162.868C2066.5,-154.886 2066.5,-145.932 2066.5,-137.384\"/>\r\n",
       "<polygon fill=\"black\" stroke=\"black\" points=\"2070,-137.25 2066.5,-127.25 2063,-137.25 2070,-137.25\"/>\r\n",
       "</g>\r\n",
       "<!-- 29 -->\r\n",
       "<g id=\"node30\" class=\"node\"><title>29</title>\r\n",
       "<path fill=\"#f9e2d2\" stroke=\"black\" d=\"M2381.5,-127C2381.5,-127 2247.5,-127 2247.5,-127 2241.5,-127 2235.5,-121 2235.5,-115 2235.5,-115 2235.5,-86 2235.5,-86 2235.5,-80 2241.5,-74 2247.5,-74 2247.5,-74 2381.5,-74 2381.5,-74 2387.5,-74 2393.5,-80 2393.5,-86 2393.5,-86 2393.5,-115 2393.5,-115 2393.5,-121 2387.5,-127 2381.5,-127\"/>\r\n",
       "<text text-anchor=\"middle\" x=\"2314.5\" y=\"-111.8\" font-family=\"Helvetica,sans-Serif\" font-size=\"14.00\">sqft_lot15 &lt;= 23067.0</text>\r\n",
       "<text text-anchor=\"middle\" x=\"2314.5\" y=\"-96.8\" font-family=\"Helvetica,sans-Serif\" font-size=\"14.00\">samples = 0.1%</text>\r\n",
       "<text text-anchor=\"middle\" x=\"2314.5\" y=\"-81.8\" font-family=\"Helvetica,sans-Serif\" font-size=\"14.00\">value = 1821250.0</text>\r\n",
       "</g>\r\n",
       "<!-- 25&#45;&gt;29 -->\r\n",
       "<g id=\"edge29\" class=\"edge\"><title>25&#45;&gt;29</title>\r\n",
       "<path fill=\"none\" stroke=\"black\" d=\"M2138.23,-163.336C2167.53,-153.057 2201.6,-141.105 2231.93,-130.465\"/>\r\n",
       "<polygon fill=\"black\" stroke=\"black\" points=\"2233.36,-133.673 2241.64,-127.06 2231.04,-127.068 2233.36,-133.673\"/>\r\n",
       "</g>\r\n",
       "<!-- 27 -->\r\n",
       "<g id=\"node28\" class=\"node\"><title>27</title>\r\n",
       "<path fill=\"#fdf7f2\" stroke=\"black\" d=\"M2047,-38C2047,-38 1928,-38 1928,-38 1922,-38 1916,-32 1916,-26 1916,-26 1916,-12 1916,-12 1916,-6 1922,-0 1928,-0 1928,-0 2047,-0 2047,-0 2053,-0 2059,-6 2059,-12 2059,-12 2059,-26 2059,-26 2059,-32 2053,-38 2047,-38\"/>\r\n",
       "<text text-anchor=\"middle\" x=\"1987.5\" y=\"-22.8\" font-family=\"Helvetica,sans-Serif\" font-size=\"14.00\">samples = 11.5%</text>\r\n",
       "<text text-anchor=\"middle\" x=\"1987.5\" y=\"-7.8\" font-family=\"Helvetica,sans-Serif\" font-size=\"14.00\">value = 693275.373</text>\r\n",
       "</g>\r\n",
       "<!-- 26&#45;&gt;27 -->\r\n",
       "<g id=\"edge27\" class=\"edge\"><title>26&#45;&gt;27</title>\r\n",
       "<path fill=\"none\" stroke=\"black\" d=\"M2041.07,-73.9081C2032.05,-64.8298 2021.9,-54.6182 2012.88,-45.544\"/>\r\n",
       "<polygon fill=\"black\" stroke=\"black\" points=\"2015.16,-42.8652 2005.62,-38.2389 2010.19,-47.7993 2015.16,-42.8652\"/>\r\n",
       "</g>\r\n",
       "<!-- 28 -->\r\n",
       "<g id=\"node29\" class=\"node\"><title>28</title>\r\n",
       "<path fill=\"#fefaf7\" stroke=\"black\" d=\"M2208,-38C2208,-38 2089,-38 2089,-38 2083,-38 2077,-32 2077,-26 2077,-26 2077,-12 2077,-12 2077,-6 2083,-0 2089,-0 2089,-0 2208,-0 2208,-0 2214,-0 2220,-6 2220,-12 2220,-12 2220,-26 2220,-26 2220,-32 2214,-38 2208,-38\"/>\r\n",
       "<text text-anchor=\"middle\" x=\"2148.5\" y=\"-22.8\" font-family=\"Helvetica,sans-Serif\" font-size=\"14.00\">samples = 4.0%</text>\r\n",
       "<text text-anchor=\"middle\" x=\"2148.5\" y=\"-7.8\" font-family=\"Helvetica,sans-Serif\" font-size=\"14.00\">value = 515009.782</text>\r\n",
       "</g>\r\n",
       "<!-- 26&#45;&gt;28 -->\r\n",
       "<g id=\"edge28\" class=\"edge\"><title>26&#45;&gt;28</title>\r\n",
       "<path fill=\"none\" stroke=\"black\" d=\"M2092.9,-73.9081C2102.35,-64.739 2113,-54.4139 2122.43,-45.2721\"/>\r\n",
       "<polygon fill=\"black\" stroke=\"black\" points=\"2124.94,-47.7126 2129.69,-38.2389 2120.07,-42.6868 2124.94,-47.7126\"/>\r\n",
       "</g>\r\n",
       "<!-- 30 -->\r\n",
       "<g id=\"node31\" class=\"node\"><title>30</title>\r\n",
       "<path fill=\"#fae5d6\" stroke=\"black\" d=\"M2378.5,-38C2378.5,-38 2250.5,-38 2250.5,-38 2244.5,-38 2238.5,-32 2238.5,-26 2238.5,-26 2238.5,-12 2238.5,-12 2238.5,-6 2244.5,-0 2250.5,-0 2250.5,-0 2378.5,-0 2378.5,-0 2384.5,-0 2390.5,-6 2390.5,-12 2390.5,-12 2390.5,-26 2390.5,-26 2390.5,-32 2384.5,-38 2378.5,-38\"/>\r\n",
       "<text text-anchor=\"middle\" x=\"2314.5\" y=\"-22.8\" font-family=\"Helvetica,sans-Serif\" font-size=\"14.00\">samples = 0.1%</text>\r\n",
       "<text text-anchor=\"middle\" x=\"2314.5\" y=\"-7.8\" font-family=\"Helvetica,sans-Serif\" font-size=\"14.00\">value = 1669285.714</text>\r\n",
       "</g>\r\n",
       "<!-- 29&#45;&gt;30 -->\r\n",
       "<g id=\"edge30\" class=\"edge\"><title>29&#45;&gt;30</title>\r\n",
       "<path fill=\"none\" stroke=\"black\" d=\"M2314.5,-73.9081C2314.5,-65.7377 2314.5,-56.6492 2314.5,-48.2981\"/>\r\n",
       "<polygon fill=\"black\" stroke=\"black\" points=\"2318,-48.2389 2314.5,-38.2389 2311,-48.2389 2318,-48.2389\"/>\r\n",
       "</g>\r\n",
       "<!-- 31 -->\r\n",
       "<g id=\"node32\" class=\"node\"><title>31</title>\r\n",
       "<path fill=\"#f5cfb4\" stroke=\"black\" d=\"M2532,-38C2532,-38 2421,-38 2421,-38 2415,-38 2409,-32 2409,-26 2409,-26 2409,-12 2409,-12 2409,-6 2415,-0 2421,-0 2421,-0 2532,-0 2532,-0 2538,-0 2544,-6 2544,-12 2544,-12 2544,-26 2544,-26 2544,-32 2538,-38 2532,-38\"/>\r\n",
       "<text text-anchor=\"middle\" x=\"2476.5\" y=\"-22.8\" font-family=\"Helvetica,sans-Serif\" font-size=\"14.00\">samples = 0.0%</text>\r\n",
       "<text text-anchor=\"middle\" x=\"2476.5\" y=\"-7.8\" font-family=\"Helvetica,sans-Serif\" font-size=\"14.00\">value = 2885000.0</text>\r\n",
       "</g>\r\n",
       "<!-- 29&#45;&gt;31 -->\r\n",
       "<g id=\"edge31\" class=\"edge\"><title>29&#45;&gt;31</title>\r\n",
       "<path fill=\"none\" stroke=\"black\" d=\"M2366.65,-73.9081C2387.17,-63.8374 2410.53,-52.3721 2430.42,-42.6118\"/>\r\n",
       "<polygon fill=\"black\" stroke=\"black\" points=\"2432.15,-45.6628 2439.59,-38.1151 2429.07,-39.3787 2432.15,-45.6628\"/>\r\n",
       "</g>\r\n",
       "<!-- 33 -->\r\n",
       "<g id=\"node34\" class=\"node\"><title>33</title>\r\n",
       "<path fill=\"#fdf4ee\" stroke=\"black\" d=\"M3262,-305C3262,-305 3143,-305 3143,-305 3137,-305 3131,-299 3131,-293 3131,-293 3131,-264 3131,-264 3131,-258 3137,-252 3143,-252 3143,-252 3262,-252 3262,-252 3268,-252 3274,-258 3274,-264 3274,-264 3274,-293 3274,-293 3274,-299 3268,-305 3262,-305\"/>\r\n",
       "<text text-anchor=\"middle\" x=\"3202.5\" y=\"-289.8\" font-family=\"Helvetica,sans-Serif\" font-size=\"14.00\">lat &lt;= 47.523</text>\r\n",
       "<text text-anchor=\"middle\" x=\"3202.5\" y=\"-274.8\" font-family=\"Helvetica,sans-Serif\" font-size=\"14.00\">samples = 16.9%</text>\r\n",
       "<text text-anchor=\"middle\" x=\"3202.5\" y=\"-259.8\" font-family=\"Helvetica,sans-Serif\" font-size=\"14.00\">value = 846927.236</text>\r\n",
       "</g>\r\n",
       "<!-- 32&#45;&gt;33 -->\r\n",
       "<g id=\"edge33\" class=\"edge\"><title>32&#45;&gt;33</title>\r\n",
       "<path fill=\"none\" stroke=\"black\" d=\"M3202.5,-340.868C3202.5,-332.886 3202.5,-323.932 3202.5,-315.384\"/>\r\n",
       "<polygon fill=\"black\" stroke=\"black\" points=\"3206,-315.25 3202.5,-305.25 3199,-315.25 3206,-315.25\"/>\r\n",
       "</g>\r\n",
       "<!-- 48 -->\r\n",
       "<g id=\"node49\" class=\"node\"><title>48</title>\r\n",
       "<path fill=\"#fae5d6\" stroke=\"black\" d=\"M4266.5,-305C4266.5,-305 4138.5,-305 4138.5,-305 4132.5,-305 4126.5,-299 4126.5,-293 4126.5,-293 4126.5,-264 4126.5,-264 4126.5,-258 4132.5,-252 4138.5,-252 4138.5,-252 4266.5,-252 4266.5,-252 4272.5,-252 4278.5,-258 4278.5,-264 4278.5,-264 4278.5,-293 4278.5,-293 4278.5,-299 4272.5,-305 4266.5,-305\"/>\r\n",
       "<text text-anchor=\"middle\" x=\"4202.5\" y=\"-289.8\" font-family=\"Helvetica,sans-Serif\" font-size=\"14.00\">sqft_living &lt;= 7940.0</text>\r\n",
       "<text text-anchor=\"middle\" x=\"4202.5\" y=\"-274.8\" font-family=\"Helvetica,sans-Serif\" font-size=\"14.00\">samples = 2.8%</text>\r\n",
       "<text text-anchor=\"middle\" x=\"4202.5\" y=\"-259.8\" font-family=\"Helvetica,sans-Serif\" font-size=\"14.00\">value = 1693234.515</text>\r\n",
       "</g>\r\n",
       "<!-- 32&#45;&gt;48 -->\r\n",
       "<g id=\"edge48\" class=\"edge\"><title>32&#45;&gt;48</title>\r\n",
       "<path fill=\"none\" stroke=\"black\" d=\"M3277.25,-359.996C3459,-344.184 3923.25,-303.795 4116.28,-287.001\"/>\r\n",
       "<polygon fill=\"black\" stroke=\"black\" points=\"4116.72,-290.476 4126.38,-286.122 4116.12,-283.502 4116.72,-290.476\"/>\r\n",
       "</g>\r\n",
       "<!-- 34 -->\r\n",
       "<g id=\"node35\" class=\"node\"><title>34</title>\r\n",
       "<path fill=\"#fef9f6\" stroke=\"black\" d=\"M3094,-216C3094,-216 2975,-216 2975,-216 2969,-216 2963,-210 2963,-204 2963,-204 2963,-175 2963,-175 2963,-169 2969,-163 2975,-163 2975,-163 3094,-163 3094,-163 3100,-163 3106,-169 3106,-175 3106,-175 3106,-204 3106,-204 3106,-210 3100,-216 3094,-216\"/>\r\n",
       "<text text-anchor=\"middle\" x=\"3034.5\" y=\"-200.8\" font-family=\"Helvetica,sans-Serif\" font-size=\"14.00\">waterfront &lt;= 0.5</text>\r\n",
       "<text text-anchor=\"middle\" x=\"3034.5\" y=\"-185.8\" font-family=\"Helvetica,sans-Serif\" font-size=\"14.00\">samples = 3.8%</text>\r\n",
       "<text text-anchor=\"middle\" x=\"3034.5\" y=\"-170.8\" font-family=\"Helvetica,sans-Serif\" font-size=\"14.00\">value = 560659.888</text>\r\n",
       "</g>\r\n",
       "<!-- 33&#45;&gt;34 -->\r\n",
       "<g id=\"edge34\" class=\"edge\"><title>33&#45;&gt;34</title>\r\n",
       "<path fill=\"none\" stroke=\"black\" d=\"M3153,-251.868C3134.2,-242.132 3112.61,-230.951 3093.05,-220.822\"/>\r\n",
       "<polygon fill=\"black\" stroke=\"black\" points=\"3094.42,-217.59 3083.93,-216.099 3091.2,-223.806 3094.42,-217.59\"/>\r\n",
       "</g>\r\n",
       "<!-- 41 -->\r\n",
       "<g id=\"node42\" class=\"node\"><title>41</title>\r\n",
       "<path fill=\"#fcf2eb\" stroke=\"black\" d=\"M3429,-216C3429,-216 3304,-216 3304,-216 3298,-216 3292,-210 3292,-204 3292,-204 3292,-175 3292,-175 3292,-169 3298,-163 3304,-163 3304,-163 3429,-163 3429,-163 3435,-163 3441,-169 3441,-175 3441,-175 3441,-204 3441,-204 3441,-210 3435,-216 3429,-216\"/>\r\n",
       "<text text-anchor=\"middle\" x=\"3366.5\" y=\"-200.8\" font-family=\"Helvetica,sans-Serif\" font-size=\"14.00\">sqft_living &lt;= 3035.0</text>\r\n",
       "<text text-anchor=\"middle\" x=\"3366.5\" y=\"-185.8\" font-family=\"Helvetica,sans-Serif\" font-size=\"14.00\">samples = 13.1%</text>\r\n",
       "<text text-anchor=\"middle\" x=\"3366.5\" y=\"-170.8\" font-family=\"Helvetica,sans-Serif\" font-size=\"14.00\">value = 930163.61</text>\r\n",
       "</g>\r\n",
       "<!-- 33&#45;&gt;41 -->\r\n",
       "<g id=\"edge41\" class=\"edge\"><title>33&#45;&gt;41</title>\r\n",
       "<path fill=\"none\" stroke=\"black\" d=\"M3250.82,-251.868C3269.17,-242.132 3290.25,-230.951 3309.34,-220.822\"/>\r\n",
       "<polygon fill=\"black\" stroke=\"black\" points=\"3311.05,-223.878 3318.24,-216.099 3307.77,-217.694 3311.05,-223.878\"/>\r\n",
       "</g>\r\n",
       "<!-- 35 -->\r\n",
       "<g id=\"node36\" class=\"node\"><title>35</title>\r\n",
       "<path fill=\"#fef9f6\" stroke=\"black\" d=\"M2849,-127C2849,-127 2724,-127 2724,-127 2718,-127 2712,-121 2712,-115 2712,-115 2712,-86 2712,-86 2712,-80 2718,-74 2724,-74 2724,-74 2849,-74 2849,-74 2855,-74 2861,-80 2861,-86 2861,-86 2861,-115 2861,-115 2861,-121 2855,-127 2849,-127\"/>\r\n",
       "<text text-anchor=\"middle\" x=\"2786.5\" y=\"-111.8\" font-family=\"Helvetica,sans-Serif\" font-size=\"14.00\">sqft_living &lt;= 3173.0</text>\r\n",
       "<text text-anchor=\"middle\" x=\"2786.5\" y=\"-96.8\" font-family=\"Helvetica,sans-Serif\" font-size=\"14.00\">samples = 3.7%</text>\r\n",
       "<text text-anchor=\"middle\" x=\"2786.5\" y=\"-81.8\" font-family=\"Helvetica,sans-Serif\" font-size=\"14.00\">value = 546080.289</text>\r\n",
       "</g>\r\n",
       "<!-- 34&#45;&gt;35 -->\r\n",
       "<g id=\"edge35\" class=\"edge\"><title>34&#45;&gt;35</title>\r\n",
       "<path fill=\"none\" stroke=\"black\" d=\"M2962.77,-163.336C2933.47,-153.057 2899.4,-141.105 2869.07,-130.465\"/>\r\n",
       "<polygon fill=\"black\" stroke=\"black\" points=\"2869.96,-127.068 2859.36,-127.06 2867.64,-133.673 2869.96,-127.068\"/>\r\n",
       "</g>\r\n",
       "<!-- 38 -->\r\n",
       "<g id=\"node39\" class=\"node\"><title>38</title>\r\n",
       "<path fill=\"#fbede3\" stroke=\"black\" d=\"M3098.5,-127C3098.5,-127 2970.5,-127 2970.5,-127 2964.5,-127 2958.5,-121 2958.5,-115 2958.5,-115 2958.5,-86 2958.5,-86 2958.5,-80 2964.5,-74 2970.5,-74 2970.5,-74 3098.5,-74 3098.5,-74 3104.5,-74 3110.5,-80 3110.5,-86 3110.5,-86 3110.5,-115 3110.5,-115 3110.5,-121 3104.5,-127 3098.5,-127\"/>\r\n",
       "<text text-anchor=\"middle\" x=\"3034.5\" y=\"-111.8\" font-family=\"Helvetica,sans-Serif\" font-size=\"14.00\">sqft_living &lt;= 2115.0</text>\r\n",
       "<text text-anchor=\"middle\" x=\"3034.5\" y=\"-96.8\" font-family=\"Helvetica,sans-Serif\" font-size=\"14.00\">samples = 0.1%</text>\r\n",
       "<text text-anchor=\"middle\" x=\"3034.5\" y=\"-81.8\" font-family=\"Helvetica,sans-Serif\" font-size=\"14.00\">value = 1231321.429</text>\r\n",
       "</g>\r\n",
       "<!-- 34&#45;&gt;38 -->\r\n",
       "<g id=\"edge38\" class=\"edge\"><title>34&#45;&gt;38</title>\r\n",
       "<path fill=\"none\" stroke=\"black\" d=\"M3034.5,-162.868C3034.5,-154.886 3034.5,-145.932 3034.5,-137.384\"/>\r\n",
       "<polygon fill=\"black\" stroke=\"black\" points=\"3038,-137.25 3034.5,-127.25 3031,-137.25 3038,-137.25\"/>\r\n",
       "</g>\r\n",
       "<!-- 36 -->\r\n",
       "<g id=\"node37\" class=\"node\"><title>36</title>\r\n",
       "<path fill=\"#fefbf8\" stroke=\"black\" d=\"M2685,-38C2685,-38 2574,-38 2574,-38 2568,-38 2562,-32 2562,-26 2562,-26 2562,-12 2562,-12 2562,-6 2568,-0 2574,-0 2574,-0 2685,-0 2685,-0 2691,-0 2697,-6 2697,-12 2697,-12 2697,-26 2697,-26 2697,-32 2691,-38 2685,-38\"/>\r\n",
       "<text text-anchor=\"middle\" x=\"2629.5\" y=\"-22.8\" font-family=\"Helvetica,sans-Serif\" font-size=\"14.00\">samples = 2.4%</text>\r\n",
       "<text text-anchor=\"middle\" x=\"2629.5\" y=\"-7.8\" font-family=\"Helvetica,sans-Serif\" font-size=\"14.00\">value = 483559.48</text>\r\n",
       "</g>\r\n",
       "<!-- 35&#45;&gt;36 -->\r\n",
       "<g id=\"edge36\" class=\"edge\"><title>35&#45;&gt;36</title>\r\n",
       "<path fill=\"none\" stroke=\"black\" d=\"M2735.96,-73.9081C2716.24,-63.922 2693.81,-52.5646 2674.64,-42.8581\"/>\r\n",
       "<polygon fill=\"black\" stroke=\"black\" points=\"2676.02,-39.634 2665.52,-38.2389 2672.86,-45.879 2676.02,-39.634\"/>\r\n",
       "</g>\r\n",
       "<!-- 37 -->\r\n",
       "<g id=\"node38\" class=\"node\"><title>37</title>\r\n",
       "<path fill=\"#fdf7f3\" stroke=\"black\" d=\"M2846,-38C2846,-38 2727,-38 2727,-38 2721,-38 2715,-32 2715,-26 2715,-26 2715,-12 2715,-12 2715,-6 2721,-0 2727,-0 2727,-0 2846,-0 2846,-0 2852,-0 2858,-6 2858,-12 2858,-12 2858,-26 2858,-26 2858,-32 2852,-38 2846,-38\"/>\r\n",
       "<text text-anchor=\"middle\" x=\"2786.5\" y=\"-22.8\" font-family=\"Helvetica,sans-Serif\" font-size=\"14.00\">samples = 1.3%</text>\r\n",
       "<text text-anchor=\"middle\" x=\"2786.5\" y=\"-7.8\" font-family=\"Helvetica,sans-Serif\" font-size=\"14.00\">value = 660931.291</text>\r\n",
       "</g>\r\n",
       "<!-- 35&#45;&gt;37 -->\r\n",
       "<g id=\"edge37\" class=\"edge\"><title>35&#45;&gt;37</title>\r\n",
       "<path fill=\"none\" stroke=\"black\" d=\"M2786.5,-73.9081C2786.5,-65.7377 2786.5,-56.6492 2786.5,-48.2981\"/>\r\n",
       "<polygon fill=\"black\" stroke=\"black\" points=\"2790,-48.2389 2786.5,-38.2389 2783,-48.2389 2790,-48.2389\"/>\r\n",
       "</g>\r\n",
       "<!-- 39 -->\r\n",
       "<g id=\"node40\" class=\"node\"><title>39</title>\r\n",
       "<path fill=\"#fdf6f1\" stroke=\"black\" d=\"M3007,-38C3007,-38 2888,-38 2888,-38 2882,-38 2876,-32 2876,-26 2876,-26 2876,-12 2876,-12 2876,-6 2882,-0 2888,-0 2888,-0 3007,-0 3007,-0 3013,-0 3019,-6 3019,-12 3019,-12 3019,-26 3019,-26 3019,-32 3013,-38 3007,-38\"/>\r\n",
       "<text text-anchor=\"middle\" x=\"2947.5\" y=\"-22.8\" font-family=\"Helvetica,sans-Serif\" font-size=\"14.00\">samples = 0.0%</text>\r\n",
       "<text text-anchor=\"middle\" x=\"2947.5\" y=\"-7.8\" font-family=\"Helvetica,sans-Serif\" font-size=\"14.00\">value = 712833.333</text>\r\n",
       "</g>\r\n",
       "<!-- 38&#45;&gt;39 -->\r\n",
       "<g id=\"edge39\" class=\"edge\"><title>38&#45;&gt;39</title>\r\n",
       "<path fill=\"none\" stroke=\"black\" d=\"M3006.49,-73.9081C2996.36,-64.6483 2984.94,-54.2093 2974.86,-45.0009\"/>\r\n",
       "<polygon fill=\"black\" stroke=\"black\" points=\"2977.2,-42.4009 2967.46,-38.2389 2972.48,-47.5684 2977.2,-42.4009\"/>\r\n",
       "</g>\r\n",
       "<!-- 40 -->\r\n",
       "<g id=\"node41\" class=\"node\"><title>40</title>\r\n",
       "<path fill=\"#fbeadf\" stroke=\"black\" d=\"M3177.5,-38C3177.5,-38 3049.5,-38 3049.5,-38 3043.5,-38 3037.5,-32 3037.5,-26 3037.5,-26 3037.5,-12 3037.5,-12 3037.5,-6 3043.5,-0 3049.5,-0 3049.5,-0 3177.5,-0 3177.5,-0 3183.5,-0 3189.5,-6 3189.5,-12 3189.5,-12 3189.5,-26 3189.5,-26 3189.5,-32 3183.5,-38 3177.5,-38\"/>\r\n",
       "<text text-anchor=\"middle\" x=\"3113.5\" y=\"-22.8\" font-family=\"Helvetica,sans-Serif\" font-size=\"14.00\">samples = 0.1%</text>\r\n",
       "<text text-anchor=\"middle\" x=\"3113.5\" y=\"-7.8\" font-family=\"Helvetica,sans-Serif\" font-size=\"14.00\">value = 1372727.273</text>\r\n",
       "</g>\r\n",
       "<!-- 38&#45;&gt;40 -->\r\n",
       "<g id=\"edge40\" class=\"edge\"><title>38&#45;&gt;40</title>\r\n",
       "<path fill=\"none\" stroke=\"black\" d=\"M3059.93,-73.9081C3068.95,-64.8298 3079.1,-54.6182 3088.12,-45.544\"/>\r\n",
       "<polygon fill=\"black\" stroke=\"black\" points=\"3090.81,-47.7993 3095.38,-38.2389 3085.84,-42.8652 3090.81,-47.7993\"/>\r\n",
       "</g>\r\n",
       "<!-- 42 -->\r\n",
       "<g id=\"node43\" class=\"node\"><title>42</title>\r\n",
       "<path fill=\"#fdf5ef\" stroke=\"black\" d=\"M3426,-127C3426,-127 3307,-127 3307,-127 3301,-127 3295,-121 3295,-115 3295,-115 3295,-86 3295,-86 3295,-80 3301,-74 3307,-74 3307,-74 3426,-74 3426,-74 3432,-74 3438,-80 3438,-86 3438,-86 3438,-115 3438,-115 3438,-121 3432,-127 3426,-127\"/>\r\n",
       "<text text-anchor=\"middle\" x=\"3366.5\" y=\"-111.8\" font-family=\"Helvetica,sans-Serif\" font-size=\"14.00\">yr_built &lt;= 1974.5</text>\r\n",
       "<text text-anchor=\"middle\" x=\"3366.5\" y=\"-96.8\" font-family=\"Helvetica,sans-Serif\" font-size=\"14.00\">samples = 7.0%</text>\r\n",
       "<text text-anchor=\"middle\" x=\"3366.5\" y=\"-81.8\" font-family=\"Helvetica,sans-Serif\" font-size=\"14.00\">value = 797622.359</text>\r\n",
       "</g>\r\n",
       "<!-- 41&#45;&gt;42 -->\r\n",
       "<g id=\"edge42\" class=\"edge\"><title>41&#45;&gt;42</title>\r\n",
       "<path fill=\"none\" stroke=\"black\" d=\"M3366.5,-162.868C3366.5,-154.886 3366.5,-145.932 3366.5,-137.384\"/>\r\n",
       "<polygon fill=\"black\" stroke=\"black\" points=\"3370,-137.25 3366.5,-127.25 3363,-137.25 3370,-137.25\"/>\r\n",
       "</g>\r\n",
       "<!-- 45 -->\r\n",
       "<g id=\"node46\" class=\"node\"><title>45</title>\r\n",
       "<path fill=\"#fcf0e7\" stroke=\"black\" d=\"M3679.5,-127C3679.5,-127 3551.5,-127 3551.5,-127 3545.5,-127 3539.5,-121 3539.5,-115 3539.5,-115 3539.5,-86 3539.5,-86 3539.5,-80 3545.5,-74 3551.5,-74 3551.5,-74 3679.5,-74 3679.5,-74 3685.5,-74 3691.5,-80 3691.5,-86 3691.5,-86 3691.5,-115 3691.5,-115 3691.5,-121 3685.5,-127 3679.5,-127\"/>\r\n",
       "<text text-anchor=\"middle\" x=\"3615.5\" y=\"-111.8\" font-family=\"Helvetica,sans-Serif\" font-size=\"14.00\">long &lt;= &#45;122.186</text>\r\n",
       "<text text-anchor=\"middle\" x=\"3615.5\" y=\"-96.8\" font-family=\"Helvetica,sans-Serif\" font-size=\"14.00\">samples = 6.1%</text>\r\n",
       "<text text-anchor=\"middle\" x=\"3615.5\" y=\"-81.8\" font-family=\"Helvetica,sans-Serif\" font-size=\"14.00\">value = 1081120.329</text>\r\n",
       "</g>\r\n",
       "<!-- 41&#45;&gt;45 -->\r\n",
       "<g id=\"edge45\" class=\"edge\"><title>41&#45;&gt;45</title>\r\n",
       "<path fill=\"none\" stroke=\"black\" d=\"M3439.53,-162.985C3468.79,-152.76 3502.66,-140.926 3532.82,-130.387\"/>\r\n",
       "<polygon fill=\"black\" stroke=\"black\" points=\"3534.19,-133.617 3542.48,-127.015 3531.88,-127.009 3534.19,-133.617\"/>\r\n",
       "</g>\r\n",
       "<!-- 43 -->\r\n",
       "<g id=\"node44\" class=\"node\"><title>43</title>\r\n",
       "<path fill=\"#fcf1e8\" stroke=\"black\" d=\"M3347.5,-38C3347.5,-38 3219.5,-38 3219.5,-38 3213.5,-38 3207.5,-32 3207.5,-26 3207.5,-26 3207.5,-12 3207.5,-12 3207.5,-6 3213.5,-0 3219.5,-0 3219.5,-0 3347.5,-0 3347.5,-0 3353.5,-0 3359.5,-6 3359.5,-12 3359.5,-12 3359.5,-26 3359.5,-26 3359.5,-32 3353.5,-38 3347.5,-38\"/>\r\n",
       "<text text-anchor=\"middle\" x=\"3283.5\" y=\"-22.8\" font-family=\"Helvetica,sans-Serif\" font-size=\"14.00\">samples = 1.5%</text>\r\n",
       "<text text-anchor=\"middle\" x=\"3283.5\" y=\"-7.8\" font-family=\"Helvetica,sans-Serif\" font-size=\"14.00\">value = 1033642.124</text>\r\n",
       "</g>\r\n",
       "<!-- 42&#45;&gt;43 -->\r\n",
       "<g id=\"edge43\" class=\"edge\"><title>42&#45;&gt;43</title>\r\n",
       "<path fill=\"none\" stroke=\"black\" d=\"M3339.78,-73.9081C3330.21,-64.739 3319.43,-54.4139 3309.88,-45.2721\"/>\r\n",
       "<polygon fill=\"black\" stroke=\"black\" points=\"3312.18,-42.6285 3302.54,-38.2389 3307.34,-47.6837 3312.18,-42.6285\"/>\r\n",
       "</g>\r\n",
       "<!-- 44 -->\r\n",
       "<g id=\"node45\" class=\"node\"><title>44</title>\r\n",
       "<path fill=\"#fdf6f1\" stroke=\"black\" d=\"M3509,-38C3509,-38 3390,-38 3390,-38 3384,-38 3378,-32 3378,-26 3378,-26 3378,-12 3378,-12 3378,-6 3384,-0 3390,-0 3390,-0 3509,-0 3509,-0 3515,-0 3521,-6 3521,-12 3521,-12 3521,-26 3521,-26 3521,-32 3515,-38 3509,-38\"/>\r\n",
       "<text text-anchor=\"middle\" x=\"3449.5\" y=\"-22.8\" font-family=\"Helvetica,sans-Serif\" font-size=\"14.00\">samples = 5.5%</text>\r\n",
       "<text text-anchor=\"middle\" x=\"3449.5\" y=\"-7.8\" font-family=\"Helvetica,sans-Serif\" font-size=\"14.00\">value = 733321.303</text>\r\n",
       "</g>\r\n",
       "<!-- 42&#45;&gt;44 -->\r\n",
       "<g id=\"edge44\" class=\"edge\"><title>42&#45;&gt;44</title>\r\n",
       "<path fill=\"none\" stroke=\"black\" d=\"M3393.22,-73.9081C3402.79,-64.739 3413.57,-54.4139 3423.12,-45.2721\"/>\r\n",
       "<polygon fill=\"black\" stroke=\"black\" points=\"3425.66,-47.6837 3430.46,-38.2389 3420.82,-42.6285 3425.66,-47.6837\"/>\r\n",
       "</g>\r\n",
       "<!-- 46 -->\r\n",
       "<g id=\"node47\" class=\"node\"><title>46</title>\r\n",
       "<path fill=\"#fbebdf\" stroke=\"black\" d=\"M3679.5,-38C3679.5,-38 3551.5,-38 3551.5,-38 3545.5,-38 3539.5,-32 3539.5,-26 3539.5,-26 3539.5,-12 3539.5,-12 3539.5,-6 3545.5,-0 3551.5,-0 3551.5,-0 3679.5,-0 3679.5,-0 3685.5,-0 3691.5,-6 3691.5,-12 3691.5,-12 3691.5,-26 3691.5,-26 3691.5,-32 3685.5,-38 3679.5,-38\"/>\r\n",
       "<text text-anchor=\"middle\" x=\"3615.5\" y=\"-22.8\" font-family=\"Helvetica,sans-Serif\" font-size=\"14.00\">samples = 2.5%</text>\r\n",
       "<text text-anchor=\"middle\" x=\"3615.5\" y=\"-7.8\" font-family=\"Helvetica,sans-Serif\" font-size=\"14.00\">value = 1349960.596</text>\r\n",
       "</g>\r\n",
       "<!-- 45&#45;&gt;46 -->\r\n",
       "<g id=\"edge46\" class=\"edge\"><title>45&#45;&gt;46</title>\r\n",
       "<path fill=\"none\" stroke=\"black\" d=\"M3615.5,-73.9081C3615.5,-65.7377 3615.5,-56.6492 3615.5,-48.2981\"/>\r\n",
       "<polygon fill=\"black\" stroke=\"black\" points=\"3619,-48.2389 3615.5,-38.2389 3612,-48.2389 3619,-48.2389\"/>\r\n",
       "</g>\r\n",
       "<!-- 47 -->\r\n",
       "<g id=\"node48\" class=\"node\"><title>47</title>\r\n",
       "<path fill=\"#fdf3ec\" stroke=\"black\" d=\"M3841,-38C3841,-38 3722,-38 3722,-38 3716,-38 3710,-32 3710,-26 3710,-26 3710,-12 3710,-12 3710,-6 3716,-0 3722,-0 3722,-0 3841,-0 3841,-0 3847,-0 3853,-6 3853,-12 3853,-12 3853,-26 3853,-26 3853,-32 3847,-38 3841,-38\"/>\r\n",
       "<text text-anchor=\"middle\" x=\"3781.5\" y=\"-22.8\" font-family=\"Helvetica,sans-Serif\" font-size=\"14.00\">samples = 3.6%</text>\r\n",
       "<text text-anchor=\"middle\" x=\"3781.5\" y=\"-7.8\" font-family=\"Helvetica,sans-Serif\" font-size=\"14.00\">value = 896319.443</text>\r\n",
       "</g>\r\n",
       "<!-- 45&#45;&gt;47 -->\r\n",
       "<g id=\"edge47\" class=\"edge\"><title>45&#45;&gt;47</title>\r\n",
       "<path fill=\"none\" stroke=\"black\" d=\"M3668.94,-73.9081C3690.06,-63.7919 3714.12,-52.2683 3734.56,-42.4794\"/>\r\n",
       "<polygon fill=\"black\" stroke=\"black\" points=\"3736.17,-45.5912 3743.67,-38.1151 3733.14,-39.2779 3736.17,-45.5912\"/>\r\n",
       "</g>\r\n",
       "<!-- 49 -->\r\n",
       "<g id=\"node50\" class=\"node\"><title>49</title>\r\n",
       "<path fill=\"#fae6d7\" stroke=\"black\" d=\"M4266.5,-216C4266.5,-216 4138.5,-216 4138.5,-216 4132.5,-216 4126.5,-210 4126.5,-204 4126.5,-204 4126.5,-175 4126.5,-175 4126.5,-169 4132.5,-163 4138.5,-163 4138.5,-163 4266.5,-163 4266.5,-163 4272.5,-163 4278.5,-169 4278.5,-175 4278.5,-175 4278.5,-204 4278.5,-204 4278.5,-210 4272.5,-216 4266.5,-216\"/>\r\n",
       "<text text-anchor=\"middle\" x=\"4202.5\" y=\"-200.8\" font-family=\"Helvetica,sans-Serif\" font-size=\"14.00\">long &lt;= &#45;122.2</text>\r\n",
       "<text text-anchor=\"middle\" x=\"4202.5\" y=\"-185.8\" font-family=\"Helvetica,sans-Serif\" font-size=\"14.00\">samples = 2.7%</text>\r\n",
       "<text text-anchor=\"middle\" x=\"4202.5\" y=\"-170.8\" font-family=\"Helvetica,sans-Serif\" font-size=\"14.00\">value = 1628971.368</text>\r\n",
       "</g>\r\n",
       "<!-- 48&#45;&gt;49 -->\r\n",
       "<g id=\"edge49\" class=\"edge\"><title>48&#45;&gt;49</title>\r\n",
       "<path fill=\"none\" stroke=\"black\" d=\"M4202.5,-251.868C4202.5,-243.886 4202.5,-234.932 4202.5,-226.384\"/>\r\n",
       "<polygon fill=\"black\" stroke=\"black\" points=\"4206,-226.25 4202.5,-216.25 4199,-226.25 4206,-226.25\"/>\r\n",
       "</g>\r\n",
       "<!-- 56 -->\r\n",
       "<g id=\"node57\" class=\"node\"><title>56</title>\r\n",
       "<path fill=\"#eda977\" stroke=\"black\" d=\"M4767.5,-216C4767.5,-216 4633.5,-216 4633.5,-216 4627.5,-216 4621.5,-210 4621.5,-204 4621.5,-204 4621.5,-175 4621.5,-175 4621.5,-169 4627.5,-163 4633.5,-163 4633.5,-163 4767.5,-163 4767.5,-163 4773.5,-163 4779.5,-169 4779.5,-175 4779.5,-175 4779.5,-204 4779.5,-204 4779.5,-210 4773.5,-216 4767.5,-216\"/>\r\n",
       "<text text-anchor=\"middle\" x=\"4700.5\" y=\"-200.8\" font-family=\"Helvetica,sans-Serif\" font-size=\"14.00\">sqft_lot15 &lt;= 61875.5</text>\r\n",
       "<text text-anchor=\"middle\" x=\"4700.5\" y=\"-185.8\" font-family=\"Helvetica,sans-Serif\" font-size=\"14.00\">samples = 0.1%</text>\r\n",
       "<text text-anchor=\"middle\" x=\"4700.5\" y=\"-170.8\" font-family=\"Helvetica,sans-Serif\" font-size=\"14.00\">value = 5027777.778</text>\r\n",
       "</g>\r\n",
       "<!-- 48&#45;&gt;56 -->\r\n",
       "<g id=\"edge56\" class=\"edge\"><title>48&#45;&gt;56</title>\r\n",
       "<path fill=\"none\" stroke=\"black\" d=\"M4278.68,-264.192C4368.28,-248.538 4516.81,-222.591 4611.59,-206.032\"/>\r\n",
       "<polygon fill=\"black\" stroke=\"black\" points=\"4612.2,-209.479 4621.45,-204.31 4611,-202.583 4612.2,-209.479\"/>\r\n",
       "</g>\r\n",
       "<!-- 50 -->\r\n",
       "<g id=\"node51\" class=\"node\"><title>50</title>\r\n",
       "<path fill=\"#f8decb\" stroke=\"black\" d=\"M4180,-127C4180,-127 4055,-127 4055,-127 4049,-127 4043,-121 4043,-115 4043,-115 4043,-86 4043,-86 4043,-80 4049,-74 4055,-74 4055,-74 4180,-74 4180,-74 4186,-74 4192,-80 4192,-86 4192,-86 4192,-115 4192,-115 4192,-121 4186,-127 4180,-127\"/>\r\n",
       "<text text-anchor=\"middle\" x=\"4117.5\" y=\"-111.8\" font-family=\"Helvetica,sans-Serif\" font-size=\"14.00\">sqft_living &lt;= 5005.0</text>\r\n",
       "<text text-anchor=\"middle\" x=\"4117.5\" y=\"-96.8\" font-family=\"Helvetica,sans-Serif\" font-size=\"14.00\">samples = 1.2%</text>\r\n",
       "<text text-anchor=\"middle\" x=\"4117.5\" y=\"-81.8\" font-family=\"Helvetica,sans-Serif\" font-size=\"14.00\">value = 2058659.95</text>\r\n",
       "</g>\r\n",
       "<!-- 49&#45;&gt;50 -->\r\n",
       "<g id=\"edge50\" class=\"edge\"><title>49&#45;&gt;50</title>\r\n",
       "<path fill=\"none\" stroke=\"black\" d=\"M4177.46,-162.868C4168.8,-154.008 4158.98,-143.953 4149.82,-134.582\"/>\r\n",
       "<polygon fill=\"black\" stroke=\"black\" points=\"4152.15,-131.957 4142.66,-127.25 4147.14,-136.849 4152.15,-131.957\"/>\r\n",
       "</g>\r\n",
       "<!-- 53 -->\r\n",
       "<g id=\"node54\" class=\"node\"><title>53</title>\r\n",
       "<path fill=\"#fbece1\" stroke=\"black\" d=\"M4351.5,-127C4351.5,-127 4223.5,-127 4223.5,-127 4217.5,-127 4211.5,-121 4211.5,-115 4211.5,-115 4211.5,-86 4211.5,-86 4211.5,-80 4217.5,-74 4223.5,-74 4223.5,-74 4351.5,-74 4351.5,-74 4357.5,-74 4363.5,-80 4363.5,-86 4363.5,-86 4363.5,-115 4363.5,-115 4363.5,-121 4357.5,-127 4351.5,-127\"/>\r\n",
       "<text text-anchor=\"middle\" x=\"4287.5\" y=\"-111.8\" font-family=\"Helvetica,sans-Serif\" font-size=\"14.00\">waterfront &lt;= 0.5</text>\r\n",
       "<text text-anchor=\"middle\" x=\"4287.5\" y=\"-96.8\" font-family=\"Helvetica,sans-Serif\" font-size=\"14.00\">samples = 1.5%</text>\r\n",
       "<text text-anchor=\"middle\" x=\"4287.5\" y=\"-81.8\" font-family=\"Helvetica,sans-Serif\" font-size=\"14.00\">value = 1304281.876</text>\r\n",
       "</g>\r\n",
       "<!-- 49&#45;&gt;53 -->\r\n",
       "<g id=\"edge53\" class=\"edge\"><title>49&#45;&gt;53</title>\r\n",
       "<path fill=\"none\" stroke=\"black\" d=\"M4227.54,-162.868C4236.2,-154.008 4246.02,-143.953 4255.18,-134.582\"/>\r\n",
       "<polygon fill=\"black\" stroke=\"black\" points=\"4257.86,-136.849 4262.34,-127.25 4252.85,-131.957 4257.86,-136.849\"/>\r\n",
       "</g>\r\n",
       "<!-- 51 -->\r\n",
       "<g id=\"node52\" class=\"node\"><title>51</title>\r\n",
       "<path fill=\"#f9e3d3\" stroke=\"black\" d=\"M4011.5,-38C4011.5,-38 3883.5,-38 3883.5,-38 3877.5,-38 3871.5,-32 3871.5,-26 3871.5,-26 3871.5,-12 3871.5,-12 3871.5,-6 3877.5,-0 3883.5,-0 3883.5,-0 4011.5,-0 4011.5,-0 4017.5,-0 4023.5,-6 4023.5,-12 4023.5,-12 4023.5,-26 4023.5,-26 4023.5,-32 4017.5,-38 4011.5,-38\"/>\r\n",
       "<text text-anchor=\"middle\" x=\"3947.5\" y=\"-22.8\" font-family=\"Helvetica,sans-Serif\" font-size=\"14.00\">samples = 0.7%</text>\r\n",
       "<text text-anchor=\"middle\" x=\"3947.5\" y=\"-7.8\" font-family=\"Helvetica,sans-Serif\" font-size=\"14.00\">value = 1776981.783</text>\r\n",
       "</g>\r\n",
       "<!-- 50&#45;&gt;51 -->\r\n",
       "<g id=\"edge51\" class=\"edge\"><title>50&#45;&gt;51</title>\r\n",
       "<path fill=\"none\" stroke=\"black\" d=\"M4062.78,-73.9081C4041.14,-63.7919 4016.5,-52.2683 3995.57,-42.4794\"/>\r\n",
       "<polygon fill=\"black\" stroke=\"black\" points=\"3996.78,-39.1809 3986.24,-38.1151 3993.81,-45.5218 3996.78,-39.1809\"/>\r\n",
       "</g>\r\n",
       "<!-- 52 -->\r\n",
       "<g id=\"node53\" class=\"node\"><title>52</title>\r\n",
       "<path fill=\"#f6d5bd\" stroke=\"black\" d=\"M4181.5,-38C4181.5,-38 4053.5,-38 4053.5,-38 4047.5,-38 4041.5,-32 4041.5,-26 4041.5,-26 4041.5,-12 4041.5,-12 4041.5,-6 4047.5,-0 4053.5,-0 4053.5,-0 4181.5,-0 4181.5,-0 4187.5,-0 4193.5,-6 4193.5,-12 4193.5,-12 4193.5,-26 4193.5,-26 4193.5,-32 4187.5,-38 4181.5,-38\"/>\r\n",
       "<text text-anchor=\"middle\" x=\"4117.5\" y=\"-22.8\" font-family=\"Helvetica,sans-Serif\" font-size=\"14.00\">samples = 0.4%</text>\r\n",
       "<text text-anchor=\"middle\" x=\"4117.5\" y=\"-7.8\" font-family=\"Helvetica,sans-Serif\" font-size=\"14.00\">value = 2563333.333</text>\r\n",
       "</g>\r\n",
       "<!-- 50&#45;&gt;52 -->\r\n",
       "<g id=\"edge52\" class=\"edge\"><title>50&#45;&gt;52</title>\r\n",
       "<path fill=\"none\" stroke=\"black\" d=\"M4117.5,-73.9081C4117.5,-65.7377 4117.5,-56.6492 4117.5,-48.2981\"/>\r\n",
       "<polygon fill=\"black\" stroke=\"black\" points=\"4121,-48.2389 4117.5,-38.2389 4114,-48.2389 4121,-48.2389\"/>\r\n",
       "</g>\r\n",
       "<!-- 54 -->\r\n",
       "<g id=\"node55\" class=\"node\"><title>54</title>\r\n",
       "<path fill=\"#fbede3\" stroke=\"black\" d=\"M4351.5,-38C4351.5,-38 4223.5,-38 4223.5,-38 4217.5,-38 4211.5,-32 4211.5,-26 4211.5,-26 4211.5,-12 4211.5,-12 4211.5,-6 4217.5,-0 4223.5,-0 4223.5,-0 4351.5,-0 4351.5,-0 4357.5,-0 4363.5,-6 4363.5,-12 4363.5,-12 4363.5,-26 4363.5,-26 4363.5,-32 4357.5,-38 4351.5,-38\"/>\r\n",
       "<text text-anchor=\"middle\" x=\"4287.5\" y=\"-22.8\" font-family=\"Helvetica,sans-Serif\" font-size=\"14.00\">samples = 1.5%</text>\r\n",
       "<text text-anchor=\"middle\" x=\"4287.5\" y=\"-7.8\" font-family=\"Helvetica,sans-Serif\" font-size=\"14.00\">value = 1236897.957</text>\r\n",
       "</g>\r\n",
       "<!-- 53&#45;&gt;54 -->\r\n",
       "<g id=\"edge54\" class=\"edge\"><title>53&#45;&gt;54</title>\r\n",
       "<path fill=\"none\" stroke=\"black\" d=\"M4287.5,-73.9081C4287.5,-65.7377 4287.5,-56.6492 4287.5,-48.2981\"/>\r\n",
       "<polygon fill=\"black\" stroke=\"black\" points=\"4291,-48.2389 4287.5,-38.2389 4284,-48.2389 4291,-48.2389\"/>\r\n",
       "</g>\r\n",
       "<!-- 55 -->\r\n",
       "<g id=\"node56\" class=\"node\"><title>55</title>\r\n",
       "<path fill=\"#f5d0b4\" stroke=\"black\" d=\"M4521.5,-38C4521.5,-38 4393.5,-38 4393.5,-38 4387.5,-38 4381.5,-32 4381.5,-26 4381.5,-26 4381.5,-12 4381.5,-12 4381.5,-6 4387.5,-0 4393.5,-0 4393.5,-0 4521.5,-0 4521.5,-0 4527.5,-0 4533.5,-6 4533.5,-12 4533.5,-12 4533.5,-26 4533.5,-26 4533.5,-32 4527.5,-38 4521.5,-38\"/>\r\n",
       "<text text-anchor=\"middle\" x=\"4457.5\" y=\"-22.8\" font-family=\"Helvetica,sans-Serif\" font-size=\"14.00\">samples = 0.1%</text>\r\n",
       "<text text-anchor=\"middle\" x=\"4457.5\" y=\"-7.8\" font-family=\"Helvetica,sans-Serif\" font-size=\"14.00\">value = 2866363.636</text>\r\n",
       "</g>\r\n",
       "<!-- 53&#45;&gt;55 -->\r\n",
       "<g id=\"edge55\" class=\"edge\"><title>53&#45;&gt;55</title>\r\n",
       "<path fill=\"none\" stroke=\"black\" d=\"M4342.22,-73.9081C4363.86,-63.7919 4388.5,-52.2683 4409.43,-42.4794\"/>\r\n",
       "<polygon fill=\"black\" stroke=\"black\" points=\"4411.19,-45.5218 4418.76,-38.1151 4408.22,-39.1809 4411.19,-45.5218\"/>\r\n",
       "</g>\r\n",
       "<!-- 57 -->\r\n",
       "<g id=\"node58\" class=\"node\"><title>57</title>\r\n",
       "<path fill=\"#eb9c63\" stroke=\"black\" d=\"M4764.5,-127C4764.5,-127 4636.5,-127 4636.5,-127 4630.5,-127 4624.5,-121 4624.5,-115 4624.5,-115 4624.5,-86 4624.5,-86 4624.5,-80 4630.5,-74 4636.5,-74 4636.5,-74 4764.5,-74 4764.5,-74 4770.5,-74 4776.5,-80 4776.5,-86 4776.5,-86 4776.5,-115 4776.5,-115 4776.5,-121 4770.5,-127 4764.5,-127\"/>\r\n",
       "<text text-anchor=\"middle\" x=\"4700.5\" y=\"-111.8\" font-family=\"Helvetica,sans-Serif\" font-size=\"14.00\">sqft_living &lt;= 9765.0</text>\r\n",
       "<text text-anchor=\"middle\" x=\"4700.5\" y=\"-96.8\" font-family=\"Helvetica,sans-Serif\" font-size=\"14.00\">samples = 0.0%</text>\r\n",
       "<text text-anchor=\"middle\" x=\"4700.5\" y=\"-81.8\" font-family=\"Helvetica,sans-Serif\" font-size=\"14.00\">value = 5725714.286</text>\r\n",
       "</g>\r\n",
       "<!-- 56&#45;&gt;57 -->\r\n",
       "<g id=\"edge57\" class=\"edge\"><title>56&#45;&gt;57</title>\r\n",
       "<path fill=\"none\" stroke=\"black\" d=\"M4700.5,-162.868C4700.5,-154.886 4700.5,-145.932 4700.5,-137.384\"/>\r\n",
       "<polygon fill=\"black\" stroke=\"black\" points=\"4704,-137.25 4700.5,-127.25 4697,-137.25 4704,-137.25\"/>\r\n",
       "</g>\r\n",
       "<!-- 60 -->\r\n",
       "<g id=\"node61\" class=\"node\"><title>60</title>\r\n",
       "<path fill=\"#f6d5bc\" stroke=\"black\" d=\"M4999,-127C4999,-127 4888,-127 4888,-127 4882,-127 4876,-121 4876,-115 4876,-115 4876,-86 4876,-86 4876,-80 4882,-74 4888,-74 4888,-74 4999,-74 4999,-74 5005,-74 5011,-80 5011,-86 5011,-86 5011,-115 5011,-115 5011,-121 5005,-127 4999,-127\"/>\r\n",
       "<text text-anchor=\"middle\" x=\"4943.5\" y=\"-111.8\" font-family=\"Helvetica,sans-Serif\" font-size=\"14.00\">lat &lt;= 47.698</text>\r\n",
       "<text text-anchor=\"middle\" x=\"4943.5\" y=\"-96.8\" font-family=\"Helvetica,sans-Serif\" font-size=\"14.00\">samples = 0.0%</text>\r\n",
       "<text text-anchor=\"middle\" x=\"4943.5\" y=\"-81.8\" font-family=\"Helvetica,sans-Serif\" font-size=\"14.00\">value = 2585000.0</text>\r\n",
       "</g>\r\n",
       "<!-- 56&#45;&gt;60 -->\r\n",
       "<g id=\"edge60\" class=\"edge\"><title>56&#45;&gt;60</title>\r\n",
       "<path fill=\"none\" stroke=\"black\" d=\"M4771.77,-162.985C4801.46,-152.353 4836.02,-139.981 4866.31,-129.134\"/>\r\n",
       "<polygon fill=\"black\" stroke=\"black\" points=\"4867.75,-132.336 4875.99,-125.67 4865.39,-125.746 4867.75,-132.336\"/>\r\n",
       "</g>\r\n",
       "<!-- 58 -->\r\n",
       "<g id=\"node59\" class=\"node\"><title>58</title>\r\n",
       "<path fill=\"#efb083\" stroke=\"black\" d=\"M4675,-38C4675,-38 4564,-38 4564,-38 4558,-38 4552,-32 4552,-26 4552,-26 4552,-12 4552,-12 4552,-6 4558,-0 4564,-0 4564,-0 4675,-0 4675,-0 4681,-0 4687,-6 4687,-12 4687,-12 4687,-26 4687,-26 4687,-32 4681,-38 4675,-38\"/>\r\n",
       "<text text-anchor=\"middle\" x=\"4619.5\" y=\"-22.8\" font-family=\"Helvetica,sans-Serif\" font-size=\"14.00\">samples = 0.0%</text>\r\n",
       "<text text-anchor=\"middle\" x=\"4619.5\" y=\"-7.8\" font-family=\"Helvetica,sans-Serif\" font-size=\"14.00\">value = 4607500.0</text>\r\n",
       "</g>\r\n",
       "<!-- 57&#45;&gt;58 -->\r\n",
       "<g id=\"edge58\" class=\"edge\"><title>57&#45;&gt;58</title>\r\n",
       "<path fill=\"none\" stroke=\"black\" d=\"M4674.43,-73.9081C4665.08,-64.739 4654.56,-54.4139 4645.25,-45.2721\"/>\r\n",
       "<polygon fill=\"black\" stroke=\"black\" points=\"4647.67,-42.7457 4638.08,-38.2389 4642.77,-47.7415 4647.67,-42.7457\"/>\r\n",
       "</g>\r\n",
       "<!-- 59 -->\r\n",
       "<g id=\"node60\" class=\"node\"><title>59</title>\r\n",
       "<path fill=\"#e58139\" stroke=\"black\" d=\"M4845.5,-38C4845.5,-38 4717.5,-38 4717.5,-38 4711.5,-38 4705.5,-32 4705.5,-26 4705.5,-26 4705.5,-12 4705.5,-12 4705.5,-6 4711.5,-0 4717.5,-0 4717.5,-0 4845.5,-0 4845.5,-0 4851.5,-0 4857.5,-6 4857.5,-12 4857.5,-12 4857.5,-26 4857.5,-26 4857.5,-32 4851.5,-38 4845.5,-38\"/>\r\n",
       "<text text-anchor=\"middle\" x=\"4781.5\" y=\"-22.8\" font-family=\"Helvetica,sans-Serif\" font-size=\"14.00\">samples = 0.0%</text>\r\n",
       "<text text-anchor=\"middle\" x=\"4781.5\" y=\"-7.8\" font-family=\"Helvetica,sans-Serif\" font-size=\"14.00\">value = 7216666.667</text>\r\n",
       "</g>\r\n",
       "<!-- 57&#45;&gt;59 -->\r\n",
       "<g id=\"edge59\" class=\"edge\"><title>57&#45;&gt;59</title>\r\n",
       "<path fill=\"none\" stroke=\"black\" d=\"M4726.57,-73.9081C4735.92,-64.739 4746.44,-54.4139 4755.75,-45.2721\"/>\r\n",
       "<polygon fill=\"black\" stroke=\"black\" points=\"4758.23,-47.7415 4762.92,-38.2389 4753.33,-42.7457 4758.23,-47.7415\"/>\r\n",
       "</g>\r\n",
       "<!-- 61 -->\r\n",
       "<g id=\"node62\" class=\"node\"><title>61</title>\r\n",
       "<path fill=\"#f7dac5\" stroke=\"black\" d=\"M4999,-38C4999,-38 4888,-38 4888,-38 4882,-38 4876,-32 4876,-26 4876,-26 4876,-12 4876,-12 4876,-6 4882,-0 4888,-0 4888,-0 4999,-0 4999,-0 5005,-0 5011,-6 5011,-12 5011,-12 5011,-26 5011,-26 5011,-32 5005,-38 4999,-38\"/>\r\n",
       "<text text-anchor=\"middle\" x=\"4943.5\" y=\"-22.8\" font-family=\"Helvetica,sans-Serif\" font-size=\"14.00\">samples = 0.0%</text>\r\n",
       "<text text-anchor=\"middle\" x=\"4943.5\" y=\"-7.8\" font-family=\"Helvetica,sans-Serif\" font-size=\"14.00\">value = 2280000.0</text>\r\n",
       "</g>\r\n",
       "<!-- 60&#45;&gt;61 -->\r\n",
       "<g id=\"edge61\" class=\"edge\"><title>60&#45;&gt;61</title>\r\n",
       "<path fill=\"none\" stroke=\"black\" d=\"M4943.5,-73.9081C4943.5,-65.7377 4943.5,-56.6492 4943.5,-48.2981\"/>\r\n",
       "<polygon fill=\"black\" stroke=\"black\" points=\"4947,-48.2389 4943.5,-38.2389 4940,-48.2389 4947,-48.2389\"/>\r\n",
       "</g>\r\n",
       "<!-- 62 -->\r\n",
       "<g id=\"node63\" class=\"node\"><title>62</title>\r\n",
       "<path fill=\"#f5cfb4\" stroke=\"black\" d=\"M5152,-38C5152,-38 5041,-38 5041,-38 5035,-38 5029,-32 5029,-26 5029,-26 5029,-12 5029,-12 5029,-6 5035,-0 5041,-0 5041,-0 5152,-0 5152,-0 5158,-0 5164,-6 5164,-12 5164,-12 5164,-26 5164,-26 5164,-32 5158,-38 5152,-38\"/>\r\n",
       "<text text-anchor=\"middle\" x=\"5096.5\" y=\"-22.8\" font-family=\"Helvetica,sans-Serif\" font-size=\"14.00\">samples = 0.0%</text>\r\n",
       "<text text-anchor=\"middle\" x=\"5096.5\" y=\"-7.8\" font-family=\"Helvetica,sans-Serif\" font-size=\"14.00\">value = 2890000.0</text>\r\n",
       "</g>\r\n",
       "<!-- 60&#45;&gt;62 -->\r\n",
       "<g id=\"edge62\" class=\"edge\"><title>60&#45;&gt;62</title>\r\n",
       "<path fill=\"none\" stroke=\"black\" d=\"M4992.75,-73.9081C5011.97,-63.922 5033.83,-52.5646 5052.51,-42.8581\"/>\r\n",
       "<polygon fill=\"black\" stroke=\"black\" points=\"5054.14,-45.9555 5061.4,-38.2389 5050.91,-39.744 5054.14,-45.9555\"/>\r\n",
       "</g>\r\n",
       "</g>\r\n",
       "</svg>\r\n"
      ],
      "text/plain": [
       "<graphviz.files.Source at 0x2019f7b1400>"
      ]
     },
     "execution_count": 35,
     "metadata": {},
     "output_type": "execute_result"
    }
   ],
   "source": [
    "graph = graphviz.Source(dot_data)\n",
    "graph"
   ]
  },
  {
   "cell_type": "code",
   "execution_count": 36,
   "metadata": {
    "colab": {
     "base_uri": "https://localhost:8080/",
     "height": 540
    },
    "id": "SIujJnUf8-30",
    "outputId": "d1a44123-1ddd-45d1-f889-4cbadee2c066"
   },
   "outputs": [
    {
     "data": {
      "text/html": [
       "<div>\n",
       "<style scoped>\n",
       "    .dataframe tbody tr th:only-of-type {\n",
       "        vertical-align: middle;\n",
       "    }\n",
       "\n",
       "    .dataframe tbody tr th {\n",
       "        vertical-align: top;\n",
       "    }\n",
       "\n",
       "    .dataframe thead th {\n",
       "        text-align: right;\n",
       "    }\n",
       "</style>\n",
       "<table border=\"1\" class=\"dataframe\">\n",
       "  <thead>\n",
       "    <tr style=\"text-align: right;\">\n",
       "      <th></th>\n",
       "      <th>bedrooms</th>\n",
       "      <th>bathrooms</th>\n",
       "      <th>sqft_living</th>\n",
       "      <th>sqft_lot</th>\n",
       "      <th>floors</th>\n",
       "      <th>waterfront</th>\n",
       "      <th>view</th>\n",
       "      <th>condition</th>\n",
       "      <th>grade</th>\n",
       "      <th>sqft_above</th>\n",
       "      <th>...</th>\n",
       "      <th>zipcode lat</th>\n",
       "      <th>zipcode long</th>\n",
       "      <th>zipcode sqft_living15</th>\n",
       "      <th>zipcode sqft_lot15</th>\n",
       "      <th>lat long</th>\n",
       "      <th>lat sqft_living15</th>\n",
       "      <th>lat sqft_lot15</th>\n",
       "      <th>long sqft_living15</th>\n",
       "      <th>long sqft_lot15</th>\n",
       "      <th>sqft_living15 sqft_lot15</th>\n",
       "    </tr>\n",
       "  </thead>\n",
       "  <tbody>\n",
       "    <tr>\n",
       "      <th>0</th>\n",
       "      <td>3.0</td>\n",
       "      <td>1.00</td>\n",
       "      <td>1570.0</td>\n",
       "      <td>5510.0</td>\n",
       "      <td>1.0</td>\n",
       "      <td>0.0</td>\n",
       "      <td>0.0</td>\n",
       "      <td>4.0</td>\n",
       "      <td>7.0</td>\n",
       "      <td>1070.0</td>\n",
       "      <td>...</td>\n",
       "      <td>4.679516e+06</td>\n",
       "      <td>-1.200133e+07</td>\n",
       "      <td>173663550.0</td>\n",
       "      <td>6.259737e+08</td>\n",
       "      <td>-5833.906850</td>\n",
       "      <td>84418.734</td>\n",
       "      <td>3.042890e+05</td>\n",
       "      <td>-216504.63</td>\n",
       "      <td>-780395.220</td>\n",
       "      <td>11292600.0</td>\n",
       "    </tr>\n",
       "    <tr>\n",
       "      <th>1</th>\n",
       "      <td>3.0</td>\n",
       "      <td>2.50</td>\n",
       "      <td>1780.0</td>\n",
       "      <td>11000.0</td>\n",
       "      <td>1.0</td>\n",
       "      <td>0.0</td>\n",
       "      <td>0.0</td>\n",
       "      <td>4.0</td>\n",
       "      <td>8.0</td>\n",
       "      <td>1210.0</td>\n",
       "      <td>...</td>\n",
       "      <td>4.660911e+06</td>\n",
       "      <td>-1.197133e+07</td>\n",
       "      <td>226393860.0</td>\n",
       "      <td>9.506582e+08</td>\n",
       "      <td>-5809.088853</td>\n",
       "      <td>109857.594</td>\n",
       "      <td>4.613068e+05</td>\n",
       "      <td>-282164.19</td>\n",
       "      <td>-1184845.300</td>\n",
       "      <td>22407000.0</td>\n",
       "    </tr>\n",
       "    <tr>\n",
       "      <th>2</th>\n",
       "      <td>3.0</td>\n",
       "      <td>1.50</td>\n",
       "      <td>1090.0</td>\n",
       "      <td>9862.0</td>\n",
       "      <td>1.0</td>\n",
       "      <td>0.0</td>\n",
       "      <td>0.0</td>\n",
       "      <td>3.0</td>\n",
       "      <td>8.0</td>\n",
       "      <td>1090.0</td>\n",
       "      <td>...</td>\n",
       "      <td>4.670833e+06</td>\n",
       "      <td>-1.196856e+07</td>\n",
       "      <td>167706540.0</td>\n",
       "      <td>9.672058e+08</td>\n",
       "      <td>-5812.037722</td>\n",
       "      <td>81439.776</td>\n",
       "      <td>4.696837e+05</td>\n",
       "      <td>-208681.56</td>\n",
       "      <td>-1203519.032</td>\n",
       "      <td>16864020.0</td>\n",
       "    </tr>\n",
       "    <tr>\n",
       "      <th>3</th>\n",
       "      <td>4.0</td>\n",
       "      <td>2.50</td>\n",
       "      <td>2210.0</td>\n",
       "      <td>7079.0</td>\n",
       "      <td>2.0</td>\n",
       "      <td>0.0</td>\n",
       "      <td>0.0</td>\n",
       "      <td>3.0</td>\n",
       "      <td>8.0</td>\n",
       "      <td>2210.0</td>\n",
       "      <td>...</td>\n",
       "      <td>4.648689e+06</td>\n",
       "      <td>-1.197772e+07</td>\n",
       "      <td>193121070.0</td>\n",
       "      <td>6.862170e+08</td>\n",
       "      <td>-5793.991170</td>\n",
       "      <td>93418.582</td>\n",
       "      <td>3.319442e+05</td>\n",
       "      <td>-240700.51</td>\n",
       "      <td>-855281.000</td>\n",
       "      <td>13790000.0</td>\n",
       "    </tr>\n",
       "    <tr>\n",
       "      <th>4</th>\n",
       "      <td>3.0</td>\n",
       "      <td>2.50</td>\n",
       "      <td>1800.0</td>\n",
       "      <td>4763.0</td>\n",
       "      <td>2.0</td>\n",
       "      <td>0.0</td>\n",
       "      <td>0.0</td>\n",
       "      <td>3.0</td>\n",
       "      <td>7.0</td>\n",
       "      <td>1240.0</td>\n",
       "      <td>...</td>\n",
       "      <td>4.674978e+06</td>\n",
       "      <td>-1.200604e+07</td>\n",
       "      <td>175633010.0</td>\n",
       "      <td>4.673408e+08</td>\n",
       "      <td>-5830.059852</td>\n",
       "      <td>85286.340</td>\n",
       "      <td>2.269379e+05</td>\n",
       "      <td>-219027.98</td>\n",
       "      <td>-582810.206</td>\n",
       "      <td>8525770.0</td>\n",
       "    </tr>\n",
       "    <tr>\n",
       "      <th>...</th>\n",
       "      <td>...</td>\n",
       "      <td>...</td>\n",
       "      <td>...</td>\n",
       "      <td>...</td>\n",
       "      <td>...</td>\n",
       "      <td>...</td>\n",
       "      <td>...</td>\n",
       "      <td>...</td>\n",
       "      <td>...</td>\n",
       "      <td>...</td>\n",
       "      <td>...</td>\n",
       "      <td>...</td>\n",
       "      <td>...</td>\n",
       "      <td>...</td>\n",
       "      <td>...</td>\n",
       "      <td>...</td>\n",
       "      <td>...</td>\n",
       "      <td>...</td>\n",
       "      <td>...</td>\n",
       "      <td>...</td>\n",
       "      <td>...</td>\n",
       "    </tr>\n",
       "    <tr>\n",
       "      <th>17285</th>\n",
       "      <td>5.0</td>\n",
       "      <td>5.00</td>\n",
       "      <td>3960.0</td>\n",
       "      <td>94089.0</td>\n",
       "      <td>2.0</td>\n",
       "      <td>0.0</td>\n",
       "      <td>0.0</td>\n",
       "      <td>3.0</td>\n",
       "      <td>10.0</td>\n",
       "      <td>3960.0</td>\n",
       "      <td>...</td>\n",
       "      <td>4.645040e+06</td>\n",
       "      <td>-1.196171e+07</td>\n",
       "      <td>219605120.0</td>\n",
       "      <td>6.320314e+09</td>\n",
       "      <td>-5780.881180</td>\n",
       "      <td>106131.200</td>\n",
       "      <td>3.054494e+06</td>\n",
       "      <td>-273304.64</td>\n",
       "      <td>-7865805.148</td>\n",
       "      <td>144408320.0</td>\n",
       "    </tr>\n",
       "    <tr>\n",
       "      <th>17286</th>\n",
       "      <td>2.0</td>\n",
       "      <td>2.50</td>\n",
       "      <td>1400.0</td>\n",
       "      <td>1262.0</td>\n",
       "      <td>2.0</td>\n",
       "      <td>0.0</td>\n",
       "      <td>0.0</td>\n",
       "      <td>3.0</td>\n",
       "      <td>8.0</td>\n",
       "      <td>1160.0</td>\n",
       "      <td>...</td>\n",
       "      <td>4.663390e+06</td>\n",
       "      <td>-1.200317e+07</td>\n",
       "      <td>103992360.0</td>\n",
       "      <td>1.495135e+08</td>\n",
       "      <td>-5815.761836</td>\n",
       "      <td>50386.252</td>\n",
       "      <td>7.244212e+04</td>\n",
       "      <td>-129689.94</td>\n",
       "      <td>-186459.876</td>\n",
       "      <td>1615440.0</td>\n",
       "    </tr>\n",
       "    <tr>\n",
       "      <th>17287</th>\n",
       "      <td>3.0</td>\n",
       "      <td>2.25</td>\n",
       "      <td>2360.0</td>\n",
       "      <td>14950.0</td>\n",
       "      <td>1.0</td>\n",
       "      <td>0.0</td>\n",
       "      <td>0.0</td>\n",
       "      <td>4.0</td>\n",
       "      <td>9.0</td>\n",
       "      <td>2360.0</td>\n",
       "      <td>...</td>\n",
       "      <td>4.645779e+06</td>\n",
       "      <td>-1.197661e+07</td>\n",
       "      <td>266674240.0</td>\n",
       "      <td>1.410628e+09</td>\n",
       "      <td>-5788.530125</td>\n",
       "      <td>128888.832</td>\n",
       "      <td>6.817840e+05</td>\n",
       "      <td>-332269.76</td>\n",
       "      <td>-1757609.304</td>\n",
       "      <td>39135360.0</td>\n",
       "    </tr>\n",
       "    <tr>\n",
       "      <th>17288</th>\n",
       "      <td>4.0</td>\n",
       "      <td>2.00</td>\n",
       "      <td>2370.0</td>\n",
       "      <td>76665.0</td>\n",
       "      <td>2.0</td>\n",
       "      <td>0.0</td>\n",
       "      <td>0.0</td>\n",
       "      <td>4.0</td>\n",
       "      <td>8.0</td>\n",
       "      <td>2370.0</td>\n",
       "      <td>...</td>\n",
       "      <td>4.633791e+06</td>\n",
       "      <td>-1.198346e+07</td>\n",
       "      <td>206782110.0</td>\n",
       "      <td>1.894751e+09</td>\n",
       "      <td>-5781.730185</td>\n",
       "      <td>99767.341</td>\n",
       "      <td>9.141715e+05</td>\n",
       "      <td>-258008.69</td>\n",
       "      <td>-2364142.186</td>\n",
       "      <td>40794740.0</td>\n",
       "    </tr>\n",
       "    <tr>\n",
       "      <th>17289</th>\n",
       "      <td>4.0</td>\n",
       "      <td>2.25</td>\n",
       "      <td>2380.0</td>\n",
       "      <td>16236.0</td>\n",
       "      <td>1.0</td>\n",
       "      <td>0.0</td>\n",
       "      <td>0.0</td>\n",
       "      <td>3.0</td>\n",
       "      <td>7.0</td>\n",
       "      <td>1540.0</td>\n",
       "      <td>...</td>\n",
       "      <td>4.666416e+06</td>\n",
       "      <td>-1.196874e+07</td>\n",
       "      <td>218557840.0</td>\n",
       "      <td>8.747214e+08</td>\n",
       "      <td>-5814.450712</td>\n",
       "      <td>106176.098</td>\n",
       "      <td>4.249425e+05</td>\n",
       "      <td>-272327.60</td>\n",
       "      <td>-1089921.000</td>\n",
       "      <td>19902750.0</td>\n",
       "    </tr>\n",
       "  </tbody>\n",
       "</table>\n",
       "<p>17290 rows × 171 columns</p>\n",
       "</div>"
      ],
      "text/plain": [
       "       bedrooms  bathrooms  sqft_living  sqft_lot  floors  waterfront  view  \\\n",
       "0           3.0       1.00       1570.0    5510.0     1.0         0.0   0.0   \n",
       "1           3.0       2.50       1780.0   11000.0     1.0         0.0   0.0   \n",
       "2           3.0       1.50       1090.0    9862.0     1.0         0.0   0.0   \n",
       "3           4.0       2.50       2210.0    7079.0     2.0         0.0   0.0   \n",
       "4           3.0       2.50       1800.0    4763.0     2.0         0.0   0.0   \n",
       "...         ...        ...          ...       ...     ...         ...   ...   \n",
       "17285       5.0       5.00       3960.0   94089.0     2.0         0.0   0.0   \n",
       "17286       2.0       2.50       1400.0    1262.0     2.0         0.0   0.0   \n",
       "17287       3.0       2.25       2360.0   14950.0     1.0         0.0   0.0   \n",
       "17288       4.0       2.00       2370.0   76665.0     2.0         0.0   0.0   \n",
       "17289       4.0       2.25       2380.0   16236.0     1.0         0.0   0.0   \n",
       "\n",
       "       condition  grade  sqft_above  ...   zipcode lat  zipcode long  \\\n",
       "0            4.0    7.0      1070.0  ...  4.679516e+06 -1.200133e+07   \n",
       "1            4.0    8.0      1210.0  ...  4.660911e+06 -1.197133e+07   \n",
       "2            3.0    8.0      1090.0  ...  4.670833e+06 -1.196856e+07   \n",
       "3            3.0    8.0      2210.0  ...  4.648689e+06 -1.197772e+07   \n",
       "4            3.0    7.0      1240.0  ...  4.674978e+06 -1.200604e+07   \n",
       "...          ...    ...         ...  ...           ...           ...   \n",
       "17285        3.0   10.0      3960.0  ...  4.645040e+06 -1.196171e+07   \n",
       "17286        3.0    8.0      1160.0  ...  4.663390e+06 -1.200317e+07   \n",
       "17287        4.0    9.0      2360.0  ...  4.645779e+06 -1.197661e+07   \n",
       "17288        4.0    8.0      2370.0  ...  4.633791e+06 -1.198346e+07   \n",
       "17289        3.0    7.0      1540.0  ...  4.666416e+06 -1.196874e+07   \n",
       "\n",
       "       zipcode sqft_living15  zipcode sqft_lot15     lat long  \\\n",
       "0                173663550.0        6.259737e+08 -5833.906850   \n",
       "1                226393860.0        9.506582e+08 -5809.088853   \n",
       "2                167706540.0        9.672058e+08 -5812.037722   \n",
       "3                193121070.0        6.862170e+08 -5793.991170   \n",
       "4                175633010.0        4.673408e+08 -5830.059852   \n",
       "...                      ...                 ...          ...   \n",
       "17285            219605120.0        6.320314e+09 -5780.881180   \n",
       "17286            103992360.0        1.495135e+08 -5815.761836   \n",
       "17287            266674240.0        1.410628e+09 -5788.530125   \n",
       "17288            206782110.0        1.894751e+09 -5781.730185   \n",
       "17289            218557840.0        8.747214e+08 -5814.450712   \n",
       "\n",
       "       lat sqft_living15  lat sqft_lot15  long sqft_living15  long sqft_lot15  \\\n",
       "0              84418.734    3.042890e+05          -216504.63      -780395.220   \n",
       "1             109857.594    4.613068e+05          -282164.19     -1184845.300   \n",
       "2              81439.776    4.696837e+05          -208681.56     -1203519.032   \n",
       "3              93418.582    3.319442e+05          -240700.51      -855281.000   \n",
       "4              85286.340    2.269379e+05          -219027.98      -582810.206   \n",
       "...                  ...             ...                 ...              ...   \n",
       "17285         106131.200    3.054494e+06          -273304.64     -7865805.148   \n",
       "17286          50386.252    7.244212e+04          -129689.94      -186459.876   \n",
       "17287         128888.832    6.817840e+05          -332269.76     -1757609.304   \n",
       "17288          99767.341    9.141715e+05          -258008.69     -2364142.186   \n",
       "17289         106176.098    4.249425e+05          -272327.60     -1089921.000   \n",
       "\n",
       "       sqft_living15 sqft_lot15  \n",
       "0                    11292600.0  \n",
       "1                    22407000.0  \n",
       "2                    16864020.0  \n",
       "3                    13790000.0  \n",
       "4                     8525770.0  \n",
       "...                         ...  \n",
       "17285               144408320.0  \n",
       "17286                 1615440.0  \n",
       "17287                39135360.0  \n",
       "17288                40794740.0  \n",
       "17289                19902750.0  \n",
       "\n",
       "[17290 rows x 171 columns]"
      ]
     },
     "execution_count": 36,
     "metadata": {},
     "output_type": "execute_result"
    }
   ],
   "source": [
    "# Working FE with specific features only \n",
    "poly=PolynomialFeatures(2,interaction_only=True,include_bias=False)\n",
    "Xe_train = poly.fit_transform(X_train)\n",
    "Xe_test = poly.fit_transform(X_test)\n",
    "cols = poly.get_feature_names(X_train.columns)\n",
    "Xe_train = pd.DataFrame(Xe_train,columns=cols)\n",
    "Xe_test = pd.DataFrame(Xe_test,columns=cols)\n",
    "Xe_train\n"
   ]
  },
  {
   "cell_type": "code",
   "execution_count": 37,
   "metadata": {
    "colab": {
     "base_uri": "https://localhost:8080/"
    },
    "id": "EX_BQdrA_NlN",
    "outputId": "0351c5f9-8b79-4960-e0d0-1e2f740f84cd"
   },
   "outputs": [
    {
     "data": {
      "text/plain": [
       "(17290, 171)"
      ]
     },
     "execution_count": 37,
     "metadata": {},
     "output_type": "execute_result"
    }
   ],
   "source": [
    "Xe_train.shape\n"
   ]
  },
  {
   "cell_type": "code",
   "execution_count": 61,
   "metadata": {
    "id": "PAMzYzVsn01K"
   },
   "outputs": [],
   "source": [
    "# Random Forests Regressor \n",
    "grid = {'n_estimators':np.arange(90,110,10)}\n",
    "\n",
    "rf = RandomForestRegressor(n_estimators = 90)\n",
    "rfCV = GridSearchCV(rf,param_grid=grid,return_train_score=True,n_jobs=-1)"
   ]
  },
  {
   "cell_type": "code",
   "execution_count": 62,
   "metadata": {},
   "outputs": [
    {
     "data": {
      "text/plain": [
       "RandomForestRegressor(n_estimators=90)"
      ]
     },
     "execution_count": 62,
     "metadata": {},
     "output_type": "execute_result"
    }
   ],
   "source": [
    "rf.fit(X_train,y_train)"
   ]
  },
  {
   "cell_type": "code",
   "execution_count": 39,
   "metadata": {
    "id": "l_Gcoe5grBDC"
   },
   "outputs": [
    {
     "data": {
      "text/plain": [
       "GridSearchCV(estimator=RandomForestRegressor(), n_jobs=-1,\n",
       "             param_grid={'n_estimators': array([ 90, 100])},\n",
       "             return_train_score=True)"
      ]
     },
     "execution_count": 39,
     "metadata": {},
     "output_type": "execute_result"
    }
   ],
   "source": [
    "\n",
    "rfCV.fit(Xe_train,y_train)"
   ]
  },
  {
   "cell_type": "code",
   "execution_count": 40,
   "metadata": {},
   "outputs": [
    {
     "name": "stdout",
     "output_type": "stream",
     "text": [
      "best number of trees {'n_estimators': 90}\n"
     ]
    }
   ],
   "source": [
    "print('best number of trees',rfCV.best_params_)"
   ]
  },
  {
   "cell_type": "code",
   "execution_count": 41,
   "metadata": {},
   "outputs": [
    {
     "name": "stdout",
     "output_type": "stream",
     "text": [
      "validation R2 0.8510698154211969\n"
     ]
    }
   ],
   "source": [
    "print('validation R2', rfCV.best_score_)"
   ]
  },
  {
   "cell_type": "code",
   "execution_count": 42,
   "metadata": {},
   "outputs": [
    {
     "data": {
      "text/html": [
       "<div>\n",
       "<style scoped>\n",
       "    .dataframe tbody tr th:only-of-type {\n",
       "        vertical-align: middle;\n",
       "    }\n",
       "\n",
       "    .dataframe tbody tr th {\n",
       "        vertical-align: top;\n",
       "    }\n",
       "\n",
       "    .dataframe thead th {\n",
       "        text-align: right;\n",
       "    }\n",
       "</style>\n",
       "<table border=\"1\" class=\"dataframe\">\n",
       "  <thead>\n",
       "    <tr style=\"text-align: right;\">\n",
       "      <th></th>\n",
       "      <th>trees</th>\n",
       "      <th>Train R2</th>\n",
       "      <th>Valid R2</th>\n",
       "    </tr>\n",
       "  </thead>\n",
       "  <tbody>\n",
       "    <tr>\n",
       "      <th>0</th>\n",
       "      <td>90</td>\n",
       "      <td>0.980374</td>\n",
       "      <td>0.851070</td>\n",
       "    </tr>\n",
       "    <tr>\n",
       "      <th>1</th>\n",
       "      <td>100</td>\n",
       "      <td>0.980224</td>\n",
       "      <td>0.850549</td>\n",
       "    </tr>\n",
       "  </tbody>\n",
       "</table>\n",
       "</div>"
      ],
      "text/plain": [
       "   trees  Train R2  Valid R2\n",
       "0     90  0.980374  0.851070\n",
       "1    100  0.980224  0.850549"
      ]
     },
     "execution_count": 42,
     "metadata": {},
     "output_type": "execute_result"
    }
   ],
   "source": [
    "results = pd.DataFrame()\n",
    "results['trees'] = grid['n_estimators']\n",
    "results['Train R2'] = rfCV.cv_results_['mean_train_score']\n",
    "results['Valid R2'] = rfCV.cv_results_['mean_test_score']\n",
    "results"
   ]
  },
  {
   "cell_type": "code",
   "execution_count": 43,
   "metadata": {},
   "outputs": [
    {
     "data": {
      "text/plain": [
       "<AxesSubplot:xlabel='trees'>"
      ]
     },
     "execution_count": 43,
     "metadata": {},
     "output_type": "execute_result"
    },
    {
     "data": {
      "image/png": "[encoded data removed]",
      "text/plain": [
       "<Figure size 432x288 with 1 Axes>"
      ]
     },
     "metadata": {
      "needs_background": "light"
     },
     "output_type": "display_data"
    }
   ],
   "source": [
    "plot1 = results.plot.line(x='trees',y='Train R2')\n",
    "results.plot.line(x='trees',y='Valid R2',ax=plot1)"
   ]
  },
  {
   "cell_type": "code",
   "execution_count": 63,
   "metadata": {},
   "outputs": [
    {
     "data": {
      "text/plain": [
       "sqft_living      0.308999\n",
       "grade            0.272964\n",
       "lat              0.160412\n",
       "long             0.069479\n",
       "waterfront       0.032518\n",
       "sqft_living15    0.032508\n",
       "yr_built         0.026301\n",
       "sqft_above       0.021691\n",
       "sqft_lot         0.013964\n",
       "zipcode          0.013894\n",
       "sqft_lot15       0.012566\n",
       "view             0.012294\n",
       "bathrooms        0.006950\n",
       "sqft_basement    0.005378\n",
       "condition        0.003279\n",
       "bedrooms         0.002776\n",
       "yr_renovated     0.002137\n",
       "floors           0.001888\n",
       "dtype: float64"
      ]
     },
     "execution_count": 63,
     "metadata": {},
     "output_type": "execute_result"
    }
   ],
   "source": [
    "feature_importance = pd.Series(rf.feature_importances_,index=X_train.columns)\n",
    "feature_importance.sort_values(ascending=False)"
   ]
  },
  {
   "cell_type": "code",
   "execution_count": 64,
   "metadata": {},
   "outputs": [
    {
     "data": {
      "text/plain": [
       "<AxesSubplot:>"
      ]
     },
     "execution_count": 64,
     "metadata": {},
     "output_type": "execute_result"
    },
    {
     "data": {
      "image/png": "[encoded data removed]",
      "text/plain": [
       "<Figure size 432x288 with 1 Axes>"
      ]
     },
     "metadata": {
      "needs_background": "light"
     },
     "output_type": "display_data"
    }
   ],
   "source": [
    "feature_importance.sort_values().plot.barh(color='teal')"
   ]
  },
  {
   "cell_type": "code",
   "execution_count": 75,
   "metadata": {},
   "outputs": [
    {
     "data": {
      "text/plain": [
       "long                    0.026764\n",
       "lat                     0.024205\n",
       "zipcode                 0.004277\n",
       "bedrooms sqft_living    0.002509\n",
       "yr_built                0.001859\n",
       "sqft_living             0.001515\n",
       "bedrooms bathrooms      0.000838\n",
       "sqft_living15           0.000686\n",
       "sqft_above              0.000584\n",
       "sqft_lot                0.000366\n",
       "sqft_lot15              0.000347\n",
       "bathrooms               0.000224\n",
       "waterfront              0.000183\n",
       "sqft_basement           0.000144\n",
       "yr_renovated            0.000117\n",
       "view                    0.000087\n",
       "bedrooms                0.000068\n",
       "floors                  0.000065\n",
       "grade                   0.000052\n",
       "condition               0.000031\n",
       "dtype: float64"
      ]
     },
     "execution_count": 75,
     "metadata": {},
     "output_type": "execute_result"
    }
   ],
   "source": [
    "#rf.fit(Xe_train,y_train)\n",
    "feature_importance = pd.Series(rf.feature_importances_,index=Xe_train.columns).head(20)\n",
    "feature_importance.sort_values(ascending=False)"
   ]
  },
  {
   "cell_type": "code",
   "execution_count": 76,
   "metadata": {},
   "outputs": [
    {
     "data": {
      "text/plain": [
       "<AxesSubplot:>"
      ]
     },
     "execution_count": 76,
     "metadata": {},
     "output_type": "execute_result"
    },
    {
     "data": {
      "image/png": "[encoded data removed]",
      "text/plain": [
       "<Figure size 432x288 with 1 Axes>"
      ]
     },
     "metadata": {
      "needs_background": "light"
     },
     "output_type": "display_data"
    }
   ],
   "source": [
    "feature_importance.sort_values().plot.barh(color='teal')"
   ]
  },
  {
   "cell_type": "code",
   "execution_count": 44,
   "metadata": {},
   "outputs": [
    {
     "name": "stderr",
     "output_type": "stream",
     "text": [
      "C:\\Users\\mehraa\\anaconda3\\lib\\site-packages\\sklearn\\linear_model\\_ridge.py:147: LinAlgWarning: Ill-conditioned matrix (rcond=2.38272e-20): result may not be accurate.\n",
      "  return linalg.solve(A, Xy, sym_pos=True,\n",
      "C:\\Users\\mehraa\\anaconda3\\lib\\site-packages\\sklearn\\linear_model\\_ridge.py:147: LinAlgWarning: Ill-conditioned matrix (rcond=2.48557e-20): result may not be accurate.\n",
      "  return linalg.solve(A, Xy, sym_pos=True,\n",
      "C:\\Users\\mehraa\\anaconda3\\lib\\site-packages\\sklearn\\linear_model\\_ridge.py:147: LinAlgWarning: Ill-conditioned matrix (rcond=1.81439e-20): result may not be accurate.\n",
      "  return linalg.solve(A, Xy, sym_pos=True,\n",
      "C:\\Users\\mehraa\\anaconda3\\lib\\site-packages\\sklearn\\linear_model\\_ridge.py:147: LinAlgWarning: Ill-conditioned matrix (rcond=2.34576e-20): result may not be accurate.\n",
      "  return linalg.solve(A, Xy, sym_pos=True,\n",
      "C:\\Users\\mehraa\\anaconda3\\lib\\site-packages\\sklearn\\linear_model\\_ridge.py:147: LinAlgWarning: Ill-conditioned matrix (rcond=3.21844e-20): result may not be accurate.\n",
      "  return linalg.solve(A, Xy, sym_pos=True,\n"
     ]
    },
    {
     "data": {
      "text/plain": [
       "GridSearchCV(estimator=Ridge(),\n",
       "             param_grid={'alpha': [0.0001, 0.001, 0.01, 0.1, 1, 10, 100, 1000,\n",
       "                                   10000, 100000]},\n",
       "             return_train_score=True)"
      ]
     },
     "execution_count": 44,
     "metadata": {},
     "output_type": "execute_result"
    }
   ],
   "source": [
    "#ridge and Lasso \n",
    "grid = {'alpha':[0.0001,0.001,0.01,0.1,1,10,100,1000,10000,100000]}\n",
    "ridge = Ridge()\n",
    "ridgeCV = GridSearchCV(ridge,param_grid=grid,return_train_score=True)\n",
    "ridgeCV.fit(Xe_train,y_train)"
   ]
  },
  {
   "cell_type": "code",
   "execution_count": 45,
   "metadata": {},
   "outputs": [
    {
     "data": {
      "text/plain": [
       "{'alpha': 0.0001}"
      ]
     },
     "execution_count": 45,
     "metadata": {},
     "output_type": "execute_result"
    }
   ],
   "source": [
    "ridgeCV.best_params_"
   ]
  },
  {
   "cell_type": "code",
   "execution_count": 46,
   "metadata": {},
   "outputs": [
    {
     "data": {
      "text/html": [
       "<div>\n",
       "<style scoped>\n",
       "    .dataframe tbody tr th:only-of-type {\n",
       "        vertical-align: middle;\n",
       "    }\n",
       "\n",
       "    .dataframe tbody tr th {\n",
       "        vertical-align: top;\n",
       "    }\n",
       "\n",
       "    .dataframe thead th {\n",
       "        text-align: right;\n",
       "    }\n",
       "</style>\n",
       "<table border=\"1\" class=\"dataframe\">\n",
       "  <thead>\n",
       "    <tr style=\"text-align: right;\">\n",
       "      <th></th>\n",
       "      <th>alpha</th>\n",
       "      <th>Train R2</th>\n",
       "      <th>Valid R2</th>\n",
       "    </tr>\n",
       "  </thead>\n",
       "  <tbody>\n",
       "    <tr>\n",
       "      <th>0</th>\n",
       "      <td>-4.0</td>\n",
       "      <td>0.820365</td>\n",
       "      <td>0.792822</td>\n",
       "    </tr>\n",
       "    <tr>\n",
       "      <th>1</th>\n",
       "      <td>-3.0</td>\n",
       "      <td>0.819382</td>\n",
       "      <td>0.791818</td>\n",
       "    </tr>\n",
       "    <tr>\n",
       "      <th>2</th>\n",
       "      <td>-2.0</td>\n",
       "      <td>0.818417</td>\n",
       "      <td>0.790855</td>\n",
       "    </tr>\n",
       "    <tr>\n",
       "      <th>3</th>\n",
       "      <td>-1.0</td>\n",
       "      <td>0.818171</td>\n",
       "      <td>0.790590</td>\n",
       "    </tr>\n",
       "    <tr>\n",
       "      <th>4</th>\n",
       "      <td>0.0</td>\n",
       "      <td>0.817681</td>\n",
       "      <td>0.789873</td>\n",
       "    </tr>\n",
       "    <tr>\n",
       "      <th>5</th>\n",
       "      <td>1.0</td>\n",
       "      <td>0.815797</td>\n",
       "      <td>0.788360</td>\n",
       "    </tr>\n",
       "    <tr>\n",
       "      <th>6</th>\n",
       "      <td>2.0</td>\n",
       "      <td>0.813468</td>\n",
       "      <td>0.787658</td>\n",
       "    </tr>\n",
       "    <tr>\n",
       "      <th>7</th>\n",
       "      <td>3.0</td>\n",
       "      <td>0.810274</td>\n",
       "      <td>0.785776</td>\n",
       "    </tr>\n",
       "    <tr>\n",
       "      <th>8</th>\n",
       "      <td>4.0</td>\n",
       "      <td>0.807210</td>\n",
       "      <td>0.783659</td>\n",
       "    </tr>\n",
       "    <tr>\n",
       "      <th>9</th>\n",
       "      <td>5.0</td>\n",
       "      <td>0.805808</td>\n",
       "      <td>0.782641</td>\n",
       "    </tr>\n",
       "  </tbody>\n",
       "</table>\n",
       "</div>"
      ],
      "text/plain": [
       "   alpha  Train R2  Valid R2\n",
       "0   -4.0  0.820365  0.792822\n",
       "1   -3.0  0.819382  0.791818\n",
       "2   -2.0  0.818417  0.790855\n",
       "3   -1.0  0.818171  0.790590\n",
       "4    0.0  0.817681  0.789873\n",
       "5    1.0  0.815797  0.788360\n",
       "6    2.0  0.813468  0.787658\n",
       "7    3.0  0.810274  0.785776\n",
       "8    4.0  0.807210  0.783659\n",
       "9    5.0  0.805808  0.782641"
      ]
     },
     "execution_count": 46,
     "metadata": {},
     "output_type": "execute_result"
    }
   ],
   "source": [
    "results = pd.DataFrame()\n",
    "results['alpha'] = np.log10(grid['alpha'])\n",
    "results['Train R2'] = ridgeCV.cv_results_['mean_train_score']\n",
    "results['Valid R2'] = ridgeCV.cv_results_['mean_test_score']\n",
    "results"
   ]
  },
  {
   "cell_type": "code",
   "execution_count": 47,
   "metadata": {},
   "outputs": [
    {
     "data": {
      "text/plain": [
       "<AxesSubplot:xlabel='alpha'>"
      ]
     },
     "execution_count": 47,
     "metadata": {},
     "output_type": "execute_result"
    },
    {
     "data": {
      "image/png": "[encoded data removed]",
      "text/plain": [
       "<Figure size 432x288 with 1 Axes>"
      ]
     },
     "metadata": {
      "needs_background": "light"
     },
     "output_type": "display_data"
    }
   ],
   "source": [
    "plot1 = results.plot.line(x='alpha',y='Train R2')\n",
    "results.plot.line(x='alpha',y='Valid R2',ax=plot1)"
   ]
  },
  {
   "cell_type": "code",
   "execution_count": 48,
   "metadata": {},
   "outputs": [
    {
     "data": {
      "text/plain": [
       "floors              -5.760074e+07\n",
       "bathrooms           -2.321931e+07\n",
       "grade               -1.823316e+07\n",
       "lat long            -1.146352e+06\n",
       "sqft_living grade   -4.927433e+05\n",
       "                         ...     \n",
       "condition            7.424945e+06\n",
       "bedrooms             1.496426e+07\n",
       "long                 2.034515e+07\n",
       "waterfront           3.529478e+07\n",
       "lat                  5.444456e+07\n",
       "Length: 171, dtype: float64"
      ]
     },
     "execution_count": 48,
     "metadata": {},
     "output_type": "execute_result"
    }
   ],
   "source": [
    "coef = pd.Series(ridgeCV.best_estimator_.coef_,index=Xe_train.columns)\n",
    "coef.sort_values()"
   ]
  },
  {
   "cell_type": "code",
   "execution_count": 80,
   "metadata": {},
   "outputs": [
    {
     "name": "stderr",
     "output_type": "stream",
     "text": [
      "C:\\Users\\mehraa\\anaconda3\\lib\\site-packages\\sklearn\\linear_model\\_coordinate_descent.py:530: ConvergenceWarning: Objective did not converge. You might want to increase the number of iterations. Duality gap: 197257067642261.94, tolerance: 178133856304.13672\n",
      "  model = cd_fast.enet_coordinate_descent(\n",
      "C:\\Users\\mehraa\\anaconda3\\lib\\site-packages\\sklearn\\linear_model\\_coordinate_descent.py:530: ConvergenceWarning: Objective did not converge. You might want to increase the number of iterations. Duality gap: 201622987418079.16, tolerance: 200601636410.698\n",
      "  model = cd_fast.enet_coordinate_descent(\n",
      "C:\\Users\\mehraa\\anaconda3\\lib\\site-packages\\sklearn\\linear_model\\_coordinate_descent.py:530: ConvergenceWarning: Objective did not converge. You might want to increase the number of iterations. Duality gap: 199343284740662.03, tolerance: 186824072267.357\n",
      "  model = cd_fast.enet_coordinate_descent(\n",
      "C:\\Users\\mehraa\\anaconda3\\lib\\site-packages\\sklearn\\linear_model\\_coordinate_descent.py:530: ConvergenceWarning: Objective did not converge. You might want to increase the number of iterations. Duality gap: 208468260295311.28, tolerance: 196874322898.4431\n",
      "  model = cd_fast.enet_coordinate_descent(\n",
      "C:\\Users\\mehraa\\anaconda3\\lib\\site-packages\\sklearn\\linear_model\\_coordinate_descent.py:530: ConvergenceWarning: Objective did not converge. You might want to increase the number of iterations. Duality gap: 205735053704768.28, tolerance: 198017456688.53616\n",
      "  model = cd_fast.enet_coordinate_descent(\n",
      "C:\\Users\\mehraa\\anaconda3\\lib\\site-packages\\sklearn\\linear_model\\_coordinate_descent.py:530: ConvergenceWarning: Objective did not converge. You might want to increase the number of iterations. Duality gap: 197257092066012.78, tolerance: 178133856304.13672\n",
      "  model = cd_fast.enet_coordinate_descent(\n",
      "C:\\Users\\mehraa\\anaconda3\\lib\\site-packages\\sklearn\\linear_model\\_coordinate_descent.py:530: ConvergenceWarning: Objective did not converge. You might want to increase the number of iterations. Duality gap: 201623006613267.0, tolerance: 200601636410.698\n",
      "  model = cd_fast.enet_coordinate_descent(\n",
      "C:\\Users\\mehraa\\anaconda3\\lib\\site-packages\\sklearn\\linear_model\\_coordinate_descent.py:530: ConvergenceWarning: Objective did not converge. You might want to increase the number of iterations. Duality gap: 199343307709081.9, tolerance: 186824072267.357\n",
      "  model = cd_fast.enet_coordinate_descent(\n",
      "C:\\Users\\mehraa\\anaconda3\\lib\\site-packages\\sklearn\\linear_model\\_coordinate_descent.py:530: ConvergenceWarning: Objective did not converge. You might want to increase the number of iterations. Duality gap: 208468281296559.22, tolerance: 196874322898.4431\n",
      "  model = cd_fast.enet_coordinate_descent(\n",
      "C:\\Users\\mehraa\\anaconda3\\lib\\site-packages\\sklearn\\linear_model\\_coordinate_descent.py:530: ConvergenceWarning: Objective did not converge. You might want to increase the number of iterations. Duality gap: 205735070310027.1, tolerance: 198017456688.53616\n",
      "  model = cd_fast.enet_coordinate_descent(\n",
      "C:\\Users\\mehraa\\anaconda3\\lib\\site-packages\\sklearn\\linear_model\\_coordinate_descent.py:530: ConvergenceWarning: Objective did not converge. You might want to increase the number of iterations. Duality gap: 197257336100821.94, tolerance: 178133856304.13672\n",
      "  model = cd_fast.enet_coordinate_descent(\n",
      "C:\\Users\\mehraa\\anaconda3\\lib\\site-packages\\sklearn\\linear_model\\_coordinate_descent.py:530: ConvergenceWarning: Objective did not converge. You might want to increase the number of iterations. Duality gap: 201623198361259.56, tolerance: 200601636410.698\n",
      "  model = cd_fast.enet_coordinate_descent(\n",
      "C:\\Users\\mehraa\\anaconda3\\lib\\site-packages\\sklearn\\linear_model\\_coordinate_descent.py:530: ConvergenceWarning: Objective did not converge. You might want to increase the number of iterations. Duality gap: 199343537185838.9, tolerance: 186824072267.357\n",
      "  model = cd_fast.enet_coordinate_descent(\n",
      "C:\\Users\\mehraa\\anaconda3\\lib\\site-packages\\sklearn\\linear_model\\_coordinate_descent.py:530: ConvergenceWarning: Objective did not converge. You might want to increase the number of iterations. Duality gap: 208468491113370.28, tolerance: 196874322898.4431\n",
      "  model = cd_fast.enet_coordinate_descent(\n",
      "C:\\Users\\mehraa\\anaconda3\\lib\\site-packages\\sklearn\\linear_model\\_coordinate_descent.py:530: ConvergenceWarning: Objective did not converge. You might want to increase the number of iterations. Duality gap: 205735236134419.53, tolerance: 198017456688.53616\n",
      "  model = cd_fast.enet_coordinate_descent(\n",
      "C:\\Users\\mehraa\\anaconda3\\lib\\site-packages\\sklearn\\linear_model\\_coordinate_descent.py:530: ConvergenceWarning: Objective did not converge. You might want to increase the number of iterations. Duality gap: 197259755944017.06, tolerance: 178133856304.13672\n",
      "  model = cd_fast.enet_coordinate_descent(\n",
      "C:\\Users\\mehraa\\anaconda3\\lib\\site-packages\\sklearn\\linear_model\\_coordinate_descent.py:530: ConvergenceWarning: Objective did not converge. You might want to increase the number of iterations. Duality gap: 201625095453858.44, tolerance: 200601636410.698\n",
      "  model = cd_fast.enet_coordinate_descent(\n",
      "C:\\Users\\mehraa\\anaconda3\\lib\\site-packages\\sklearn\\linear_model\\_coordinate_descent.py:530: ConvergenceWarning: Objective did not converge. You might want to increase the number of iterations. Duality gap: 199345811110060.88, tolerance: 186824072267.357\n",
      "  model = cd_fast.enet_coordinate_descent(\n",
      "C:\\Users\\mehraa\\anaconda3\\lib\\site-packages\\sklearn\\linear_model\\_coordinate_descent.py:530: ConvergenceWarning: Objective did not converge. You might want to increase the number of iterations. Duality gap: 208470569370703.78, tolerance: 196874322898.4431\n",
      "  model = cd_fast.enet_coordinate_descent(\n",
      "C:\\Users\\mehraa\\anaconda3\\lib\\site-packages\\sklearn\\linear_model\\_coordinate_descent.py:530: ConvergenceWarning: Objective did not converge. You might want to increase the number of iterations. Duality gap: 205736874471011.84, tolerance: 198017456688.53616\n",
      "  model = cd_fast.enet_coordinate_descent(\n",
      "C:\\Users\\mehraa\\anaconda3\\lib\\site-packages\\sklearn\\linear_model\\_coordinate_descent.py:530: ConvergenceWarning: Objective did not converge. You might want to increase the number of iterations. Duality gap: 197281919232902.62, tolerance: 178133856304.13672\n",
      "  model = cd_fast.enet_coordinate_descent(\n",
      "C:\\Users\\mehraa\\anaconda3\\lib\\site-packages\\sklearn\\linear_model\\_coordinate_descent.py:530: ConvergenceWarning: Objective did not converge. You might want to increase the number of iterations. Duality gap: 201642025171726.2, tolerance: 200601636410.698\n",
      "  model = cd_fast.enet_coordinate_descent(\n",
      "C:\\Users\\mehraa\\anaconda3\\lib\\site-packages\\sklearn\\linear_model\\_coordinate_descent.py:530: ConvergenceWarning: Objective did not converge. You might want to increase the number of iterations. Duality gap: 199366458707713.94, tolerance: 186824072267.357\n",
      "  model = cd_fast.enet_coordinate_descent(\n",
      "C:\\Users\\mehraa\\anaconda3\\lib\\site-packages\\sklearn\\linear_model\\_coordinate_descent.py:530: ConvergenceWarning: Objective did not converge. You might want to increase the number of iterations. Duality gap: 208489356040908.1, tolerance: 196874322898.4431\n",
      "  model = cd_fast.enet_coordinate_descent(\n",
      "C:\\Users\\mehraa\\anaconda3\\lib\\site-packages\\sklearn\\linear_model\\_coordinate_descent.py:530: ConvergenceWarning: Objective did not converge. You might want to increase the number of iterations. Duality gap: 205751255391861.84, tolerance: 198017456688.53616\n",
      "  model = cd_fast.enet_coordinate_descent(\n",
      "C:\\Users\\mehraa\\anaconda3\\lib\\site-packages\\sklearn\\linear_model\\_coordinate_descent.py:530: ConvergenceWarning: Objective did not converge. You might want to increase the number of iterations. Duality gap: 197383426825792.38, tolerance: 178133856304.13672\n",
      "  model = cd_fast.enet_coordinate_descent(\n",
      "C:\\Users\\mehraa\\anaconda3\\lib\\site-packages\\sklearn\\linear_model\\_coordinate_descent.py:530: ConvergenceWarning: Objective did not converge. You might want to increase the number of iterations. Duality gap: 201775450181386.75, tolerance: 200601636410.698\n",
      "  model = cd_fast.enet_coordinate_descent(\n",
      "C:\\Users\\mehraa\\anaconda3\\lib\\site-packages\\sklearn\\linear_model\\_coordinate_descent.py:530: ConvergenceWarning: Objective did not converge. You might want to increase the number of iterations. Duality gap: 199499904966154.7, tolerance: 186824072267.357\n",
      "  model = cd_fast.enet_coordinate_descent(\n"
     ]
    },
    {
     "name": "stderr",
     "output_type": "stream",
     "text": [
      "C:\\Users\\mehraa\\anaconda3\\lib\\site-packages\\sklearn\\linear_model\\_coordinate_descent.py:530: ConvergenceWarning: Objective did not converge. You might want to increase the number of iterations. Duality gap: 208596541926436.06, tolerance: 196874322898.4431\n",
      "  model = cd_fast.enet_coordinate_descent(\n",
      "C:\\Users\\mehraa\\anaconda3\\lib\\site-packages\\sklearn\\linear_model\\_coordinate_descent.py:530: ConvergenceWarning: Objective did not converge. You might want to increase the number of iterations. Duality gap: 205857541615784.44, tolerance: 198017456688.53616\n",
      "  model = cd_fast.enet_coordinate_descent(\n",
      "C:\\Users\\mehraa\\anaconda3\\lib\\site-packages\\sklearn\\linear_model\\_coordinate_descent.py:530: ConvergenceWarning: Objective did not converge. You might want to increase the number of iterations. Duality gap: 198239048209639.4, tolerance: 178133856304.13672\n",
      "  model = cd_fast.enet_coordinate_descent(\n",
      "C:\\Users\\mehraa\\anaconda3\\lib\\site-packages\\sklearn\\linear_model\\_coordinate_descent.py:530: ConvergenceWarning: Objective did not converge. You might want to increase the number of iterations. Duality gap: 202520090681435.38, tolerance: 200601636410.698\n",
      "  model = cd_fast.enet_coordinate_descent(\n",
      "C:\\Users\\mehraa\\anaconda3\\lib\\site-packages\\sklearn\\linear_model\\_coordinate_descent.py:530: ConvergenceWarning: Objective did not converge. You might want to increase the number of iterations. Duality gap: 200275053905108.38, tolerance: 186824072267.357\n",
      "  model = cd_fast.enet_coordinate_descent(\n",
      "C:\\Users\\mehraa\\anaconda3\\lib\\site-packages\\sklearn\\linear_model\\_coordinate_descent.py:530: ConvergenceWarning: Objective did not converge. You might want to increase the number of iterations. Duality gap: 209215226959544.72, tolerance: 196874322898.4431\n",
      "  model = cd_fast.enet_coordinate_descent(\n",
      "C:\\Users\\mehraa\\anaconda3\\lib\\site-packages\\sklearn\\linear_model\\_coordinate_descent.py:530: ConvergenceWarning: Objective did not converge. You might want to increase the number of iterations. Duality gap: 206520081484218.25, tolerance: 198017456688.53616\n",
      "  model = cd_fast.enet_coordinate_descent(\n",
      "C:\\Users\\mehraa\\anaconda3\\lib\\site-packages\\sklearn\\linear_model\\_coordinate_descent.py:530: ConvergenceWarning: Objective did not converge. You might want to increase the number of iterations. Duality gap: 199327766537226.25, tolerance: 178133856304.13672\n",
      "  model = cd_fast.enet_coordinate_descent(\n",
      "C:\\Users\\mehraa\\anaconda3\\lib\\site-packages\\sklearn\\linear_model\\_coordinate_descent.py:530: ConvergenceWarning: Objective did not converge. You might want to increase the number of iterations. Duality gap: 203751506868967.97, tolerance: 200601636410.698\n",
      "  model = cd_fast.enet_coordinate_descent(\n",
      "C:\\Users\\mehraa\\anaconda3\\lib\\site-packages\\sklearn\\linear_model\\_coordinate_descent.py:530: ConvergenceWarning: Objective did not converge. You might want to increase the number of iterations. Duality gap: 201539022480091.62, tolerance: 186824072267.357\n",
      "  model = cd_fast.enet_coordinate_descent(\n",
      "C:\\Users\\mehraa\\anaconda3\\lib\\site-packages\\sklearn\\linear_model\\_coordinate_descent.py:530: ConvergenceWarning: Objective did not converge. You might want to increase the number of iterations. Duality gap: 210318036026313.94, tolerance: 196874322898.4431\n",
      "  model = cd_fast.enet_coordinate_descent(\n",
      "C:\\Users\\mehraa\\anaconda3\\lib\\site-packages\\sklearn\\linear_model\\_coordinate_descent.py:530: ConvergenceWarning: Objective did not converge. You might want to increase the number of iterations. Duality gap: 207514972801784.4, tolerance: 198017456688.53616\n",
      "  model = cd_fast.enet_coordinate_descent(\n",
      "C:\\Users\\mehraa\\anaconda3\\lib\\site-packages\\sklearn\\linear_model\\_coordinate_descent.py:530: ConvergenceWarning: Objective did not converge. You might want to increase the number of iterations. Duality gap: 199865859363193.94, tolerance: 178133856304.13672\n",
      "  model = cd_fast.enet_coordinate_descent(\n",
      "C:\\Users\\mehraa\\anaconda3\\lib\\site-packages\\sklearn\\linear_model\\_coordinate_descent.py:530: ConvergenceWarning: Objective did not converge. You might want to increase the number of iterations. Duality gap: 204404380770184.94, tolerance: 200601636410.698\n",
      "  model = cd_fast.enet_coordinate_descent(\n",
      "C:\\Users\\mehraa\\anaconda3\\lib\\site-packages\\sklearn\\linear_model\\_coordinate_descent.py:530: ConvergenceWarning: Objective did not converge. You might want to increase the number of iterations. Duality gap: 202139894132554.25, tolerance: 186824072267.357\n",
      "  model = cd_fast.enet_coordinate_descent(\n",
      "C:\\Users\\mehraa\\anaconda3\\lib\\site-packages\\sklearn\\linear_model\\_coordinate_descent.py:530: ConvergenceWarning: Objective did not converge. You might want to increase the number of iterations. Duality gap: 210991529696409.56, tolerance: 196874322898.4431\n",
      "  model = cd_fast.enet_coordinate_descent(\n",
      "C:\\Users\\mehraa\\anaconda3\\lib\\site-packages\\sklearn\\linear_model\\_coordinate_descent.py:530: ConvergenceWarning: Objective did not converge. You might want to increase the number of iterations. Duality gap: 207943513019919.9, tolerance: 198017456688.53616\n",
      "  model = cd_fast.enet_coordinate_descent(\n",
      "C:\\Users\\mehraa\\anaconda3\\lib\\site-packages\\sklearn\\linear_model\\_coordinate_descent.py:530: ConvergenceWarning: Objective did not converge. You might want to increase the number of iterations. Duality gap: 202271128142887.72, tolerance: 178133856304.13672\n",
      "  model = cd_fast.enet_coordinate_descent(\n",
      "C:\\Users\\mehraa\\anaconda3\\lib\\site-packages\\sklearn\\linear_model\\_coordinate_descent.py:530: ConvergenceWarning: Objective did not converge. You might want to increase the number of iterations. Duality gap: 206996130774675.8, tolerance: 200601636410.698\n",
      "  model = cd_fast.enet_coordinate_descent(\n",
      "C:\\Users\\mehraa\\anaconda3\\lib\\site-packages\\sklearn\\linear_model\\_coordinate_descent.py:530: ConvergenceWarning: Objective did not converge. You might want to increase the number of iterations. Duality gap: 204736071365808.9, tolerance: 186824072267.357\n",
      "  model = cd_fast.enet_coordinate_descent(\n",
      "C:\\Users\\mehraa\\anaconda3\\lib\\site-packages\\sklearn\\linear_model\\_coordinate_descent.py:530: ConvergenceWarning: Objective did not converge. You might want to increase the number of iterations. Duality gap: 213484931352035.12, tolerance: 196874322898.4431\n",
      "  model = cd_fast.enet_coordinate_descent(\n",
      "C:\\Users\\mehraa\\anaconda3\\lib\\site-packages\\sklearn\\linear_model\\_coordinate_descent.py:530: ConvergenceWarning: Objective did not converge. You might want to increase the number of iterations. Duality gap: 210449566464488.25, tolerance: 198017456688.53616\n",
      "  model = cd_fast.enet_coordinate_descent(\n",
      "C:\\Users\\mehraa\\anaconda3\\lib\\site-packages\\sklearn\\linear_model\\_coordinate_descent.py:530: ConvergenceWarning: Objective did not converge. You might want to increase the number of iterations. Duality gap: 257486832540663.84, tolerance: 240120828240.29507\n",
      "  model = cd_fast.enet_coordinate_descent(\n"
     ]
    },
    {
     "data": {
      "text/plain": [
       "GridSearchCV(estimator=Lasso(),\n",
       "             param_grid={'alpha': [0.0001, 0.001, 0.01, 0.1, 1, 10, 100, 1000,\n",
       "                                   10000, 100000]},\n",
       "             return_train_score=True)"
      ]
     },
     "execution_count": 80,
     "metadata": {},
     "output_type": "execute_result"
    }
   ],
   "source": [
    "grid = {'alpha':[0.0001,0.001,0.01,0.1,1,10,100,1000,10000,100000]}\n",
    "lasso = Lasso()\n",
    "lassoCV = GridSearchCV(lasso,param_grid=grid,return_train_score=True)\n",
    "lassoCV.fit(Xe_train,y_train)"
   ]
  },
  {
   "cell_type": "code",
   "execution_count": 81,
   "metadata": {},
   "outputs": [
    {
     "data": {
      "text/plain": [
       "{'alpha': 1000}"
      ]
     },
     "execution_count": 81,
     "metadata": {},
     "output_type": "execute_result"
    }
   ],
   "source": [
    "lassoCV.best_params_"
   ]
  },
  {
   "cell_type": "code",
   "execution_count": 82,
   "metadata": {},
   "outputs": [
    {
     "data": {
      "text/html": [
       "<div>\n",
       "<style scoped>\n",
       "    .dataframe tbody tr th:only-of-type {\n",
       "        vertical-align: middle;\n",
       "    }\n",
       "\n",
       "    .dataframe tbody tr th {\n",
       "        vertical-align: top;\n",
       "    }\n",
       "\n",
       "    .dataframe thead th {\n",
       "        text-align: right;\n",
       "    }\n",
       "</style>\n",
       "<table border=\"1\" class=\"dataframe\">\n",
       "  <thead>\n",
       "    <tr style=\"text-align: right;\">\n",
       "      <th></th>\n",
       "      <th>alpha</th>\n",
       "      <th>Train R2</th>\n",
       "      <th>Valid R2</th>\n",
       "    </tr>\n",
       "  </thead>\n",
       "  <tbody>\n",
       "    <tr>\n",
       "      <th>0</th>\n",
       "      <td>-4.0</td>\n",
       "      <td>0.788907</td>\n",
       "      <td>0.760441</td>\n",
       "    </tr>\n",
       "    <tr>\n",
       "      <th>1</th>\n",
       "      <td>-3.0</td>\n",
       "      <td>0.788907</td>\n",
       "      <td>0.760442</td>\n",
       "    </tr>\n",
       "    <tr>\n",
       "      <th>2</th>\n",
       "      <td>-2.0</td>\n",
       "      <td>0.788907</td>\n",
       "      <td>0.760442</td>\n",
       "    </tr>\n",
       "    <tr>\n",
       "      <th>3</th>\n",
       "      <td>-1.0</td>\n",
       "      <td>0.788908</td>\n",
       "      <td>0.760449</td>\n",
       "    </tr>\n",
       "    <tr>\n",
       "      <th>4</th>\n",
       "      <td>0.0</td>\n",
       "      <td>0.788912</td>\n",
       "      <td>0.760519</td>\n",
       "    </tr>\n",
       "    <tr>\n",
       "      <th>5</th>\n",
       "      <td>1.0</td>\n",
       "      <td>0.788907</td>\n",
       "      <td>0.760812</td>\n",
       "    </tr>\n",
       "    <tr>\n",
       "      <th>6</th>\n",
       "      <td>2.0</td>\n",
       "      <td>0.788749</td>\n",
       "      <td>0.762560</td>\n",
       "    </tr>\n",
       "    <tr>\n",
       "      <th>7</th>\n",
       "      <td>3.0</td>\n",
       "      <td>0.787506</td>\n",
       "      <td>0.762664</td>\n",
       "    </tr>\n",
       "    <tr>\n",
       "      <th>8</th>\n",
       "      <td>4.0</td>\n",
       "      <td>0.786551</td>\n",
       "      <td>0.762615</td>\n",
       "    </tr>\n",
       "    <tr>\n",
       "      <th>9</th>\n",
       "      <td>5.0</td>\n",
       "      <td>0.786106</td>\n",
       "      <td>0.762330</td>\n",
       "    </tr>\n",
       "  </tbody>\n",
       "</table>\n",
       "</div>"
      ],
      "text/plain": [
       "   alpha  Train R2  Valid R2\n",
       "0   -4.0  0.788907  0.760441\n",
       "1   -3.0  0.788907  0.760442\n",
       "2   -2.0  0.788907  0.760442\n",
       "3   -1.0  0.788908  0.760449\n",
       "4    0.0  0.788912  0.760519\n",
       "5    1.0  0.788907  0.760812\n",
       "6    2.0  0.788749  0.762560\n",
       "7    3.0  0.787506  0.762664\n",
       "8    4.0  0.786551  0.762615\n",
       "9    5.0  0.786106  0.762330"
      ]
     },
     "execution_count": 82,
     "metadata": {},
     "output_type": "execute_result"
    }
   ],
   "source": [
    "results = pd.DataFrame()\n",
    "results['alpha'] = np.log10(grid['alpha'])\n",
    "results['Train R2'] = lassoCV.cv_results_['mean_train_score']\n",
    "results['Valid R2'] = lassoCV.cv_results_['mean_test_score']\n",
    "results"
   ]
  },
  {
   "cell_type": "code",
   "execution_count": 83,
   "metadata": {},
   "outputs": [
    {
     "data": {
      "text/plain": [
       "<AxesSubplot:xlabel='alpha'>"
      ]
     },
     "execution_count": 83,
     "metadata": {},
     "output_type": "execute_result"
    },
    {
     "data": {
      "image/png": "[encoded data removed]",
      "text/plain": [
       "<Figure size 432x288 with 1 Axes>"
      ]
     },
     "metadata": {
      "needs_background": "light"
     },
     "output_type": "display_data"
    }
   ],
   "source": [
    "plot1 = results.plot.line(x='alpha',y='Train R2')\n",
    "results.plot.line(x='alpha',y='Valid R2',ax=plot1)"
   ]
  },
  {
   "cell_type": "code",
   "execution_count": 84,
   "metadata": {},
   "outputs": [
    {
     "data": {
      "text/plain": [
       "bathrooms condition    -6836.800599\n",
       "bedrooms bathrooms     -5871.279162\n",
       "zipcode                 -970.254022\n",
       "condition yr_built      -134.502176\n",
       "grade yr_built           -54.476860\n",
       "                           ...     \n",
       "grade lat                794.562949\n",
       "view grade              1159.362224\n",
       "bedrooms floors         2018.810619\n",
       "bathrooms view          5706.576687\n",
       "bathrooms grade        12152.539674\n",
       "Length: 171, dtype: float64"
      ]
     },
     "execution_count": 84,
     "metadata": {},
     "output_type": "execute_result"
    }
   ],
   "source": [
    "coef = pd.Series(lassoCV.best_estimator_.coef_,index=Xe_train.columns)\n",
    "coef.sort_values()"
   ]
  },
  {
   "cell_type": "code",
   "execution_count": 54,
   "metadata": {},
   "outputs": [
    {
     "name": "stderr",
     "output_type": "stream",
     "text": [
      "C:\\Users\\mehraa\\anaconda3\\lib\\site-packages\\sklearn\\linear_model\\_coordinate_descent.py:530: ConvergenceWarning: Objective did not converge. You might want to increase the number of iterations. Duality gap: 239264714686871.88, tolerance: 178133856304.13672\n",
      "  model = cd_fast.enet_coordinate_descent(\n",
      "C:\\Users\\mehraa\\anaconda3\\lib\\site-packages\\sklearn\\linear_model\\_coordinate_descent.py:530: ConvergenceWarning: Objective did not converge. You might want to increase the number of iterations. Duality gap: 269525572579139.72, tolerance: 200601636410.698\n",
      "  model = cd_fast.enet_coordinate_descent(\n",
      "C:\\Users\\mehraa\\anaconda3\\lib\\site-packages\\sklearn\\linear_model\\_coordinate_descent.py:530: ConvergenceWarning: Objective did not converge. You might want to increase the number of iterations. Duality gap: 255611283083629.34, tolerance: 186824072267.357\n",
      "  model = cd_fast.enet_coordinate_descent(\n",
      "C:\\Users\\mehraa\\anaconda3\\lib\\site-packages\\sklearn\\linear_model\\_coordinate_descent.py:530: ConvergenceWarning: Objective did not converge. You might want to increase the number of iterations. Duality gap: 272451053824549.7, tolerance: 196874322898.4431\n",
      "  model = cd_fast.enet_coordinate_descent(\n",
      "C:\\Users\\mehraa\\anaconda3\\lib\\site-packages\\sklearn\\linear_model\\_coordinate_descent.py:530: ConvergenceWarning: Objective did not converge. You might want to increase the number of iterations. Duality gap: 272744774388511.4, tolerance: 198017456688.53616\n",
      "  model = cd_fast.enet_coordinate_descent(\n",
      "C:\\Users\\mehraa\\anaconda3\\lib\\site-packages\\sklearn\\linear_model\\_coordinate_descent.py:530: ConvergenceWarning: Objective did not converge. You might want to increase the number of iterations. Duality gap: 239264001799424.4, tolerance: 178133856304.13672\n",
      "  model = cd_fast.enet_coordinate_descent(\n",
      "C:\\Users\\mehraa\\anaconda3\\lib\\site-packages\\sklearn\\linear_model\\_coordinate_descent.py:530: ConvergenceWarning: Objective did not converge. You might want to increase the number of iterations. Duality gap: 269520926766303.5, tolerance: 200601636410.698\n",
      "  model = cd_fast.enet_coordinate_descent(\n",
      "C:\\Users\\mehraa\\anaconda3\\lib\\site-packages\\sklearn\\linear_model\\_coordinate_descent.py:530: ConvergenceWarning: Objective did not converge. You might want to increase the number of iterations. Duality gap: 255612799870414.5, tolerance: 186824072267.357\n",
      "  model = cd_fast.enet_coordinate_descent(\n",
      "C:\\Users\\mehraa\\anaconda3\\lib\\site-packages\\sklearn\\linear_model\\_coordinate_descent.py:530: ConvergenceWarning: Objective did not converge. You might want to increase the number of iterations. Duality gap: 272452587141813.75, tolerance: 196874322898.4431\n",
      "  model = cd_fast.enet_coordinate_descent(\n",
      "C:\\Users\\mehraa\\anaconda3\\lib\\site-packages\\sklearn\\linear_model\\_coordinate_descent.py:530: ConvergenceWarning: Objective did not converge. You might want to increase the number of iterations. Duality gap: 272747273397903.75, tolerance: 198017456688.53616\n",
      "  model = cd_fast.enet_coordinate_descent(\n",
      "C:\\Users\\mehraa\\anaconda3\\lib\\site-packages\\sklearn\\linear_model\\_coordinate_descent.py:530: ConvergenceWarning: Objective did not converge. You might want to increase the number of iterations. Duality gap: 239263996644023.62, tolerance: 178133856304.13672\n",
      "  model = cd_fast.enet_coordinate_descent(\n",
      "C:\\Users\\mehraa\\anaconda3\\lib\\site-packages\\sklearn\\linear_model\\_coordinate_descent.py:530: ConvergenceWarning: Objective did not converge. You might want to increase the number of iterations. Duality gap: 269521025557233.22, tolerance: 200601636410.698\n",
      "  model = cd_fast.enet_coordinate_descent(\n",
      "C:\\Users\\mehraa\\anaconda3\\lib\\site-packages\\sklearn\\linear_model\\_coordinate_descent.py:530: ConvergenceWarning: Objective did not converge. You might want to increase the number of iterations. Duality gap: 255613311571087.66, tolerance: 186824072267.357\n",
      "  model = cd_fast.enet_coordinate_descent(\n",
      "C:\\Users\\mehraa\\anaconda3\\lib\\site-packages\\sklearn\\linear_model\\_coordinate_descent.py:530: ConvergenceWarning: Objective did not converge. You might want to increase the number of iterations. Duality gap: 272453215780703.3, tolerance: 196874322898.4431\n",
      "  model = cd_fast.enet_coordinate_descent(\n",
      "C:\\Users\\mehraa\\anaconda3\\lib\\site-packages\\sklearn\\linear_model\\_coordinate_descent.py:530: ConvergenceWarning: Objective did not converge. You might want to increase the number of iterations. Duality gap: 272747723619104.75, tolerance: 198017456688.53616\n",
      "  model = cd_fast.enet_coordinate_descent(\n",
      "C:\\Users\\mehraa\\anaconda3\\lib\\site-packages\\sklearn\\linear_model\\_coordinate_descent.py:530: ConvergenceWarning: Objective did not converge. You might want to increase the number of iterations. Duality gap: 239265986833461.9, tolerance: 178133856304.13672\n",
      "  model = cd_fast.enet_coordinate_descent(\n",
      "C:\\Users\\mehraa\\anaconda3\\lib\\site-packages\\sklearn\\linear_model\\_coordinate_descent.py:530: ConvergenceWarning: Objective did not converge. You might want to increase the number of iterations. Duality gap: 269523084861563.8, tolerance: 200601636410.698\n",
      "  model = cd_fast.enet_coordinate_descent(\n",
      "C:\\Users\\mehraa\\anaconda3\\lib\\site-packages\\sklearn\\linear_model\\_coordinate_descent.py:530: ConvergenceWarning: Objective did not converge. You might want to increase the number of iterations. Duality gap: 255615290602618.78, tolerance: 186824072267.357\n",
      "  model = cd_fast.enet_coordinate_descent(\n",
      "C:\\Users\\mehraa\\anaconda3\\lib\\site-packages\\sklearn\\linear_model\\_coordinate_descent.py:530: ConvergenceWarning: Objective did not converge. You might want to increase the number of iterations. Duality gap: 272455275360057.94, tolerance: 196874322898.4431\n",
      "  model = cd_fast.enet_coordinate_descent(\n",
      "C:\\Users\\mehraa\\anaconda3\\lib\\site-packages\\sklearn\\linear_model\\_coordinate_descent.py:530: ConvergenceWarning: Objective did not converge. You might want to increase the number of iterations. Duality gap: 272749753756167.75, tolerance: 198017456688.53616\n",
      "  model = cd_fast.enet_coordinate_descent(\n",
      "C:\\Users\\mehraa\\anaconda3\\lib\\site-packages\\sklearn\\linear_model\\_coordinate_descent.py:530: ConvergenceWarning: Objective did not converge. You might want to increase the number of iterations. Duality gap: 239286153069332.78, tolerance: 178133856304.13672\n",
      "  model = cd_fast.enet_coordinate_descent(\n",
      "C:\\Users\\mehraa\\anaconda3\\lib\\site-packages\\sklearn\\linear_model\\_coordinate_descent.py:530: ConvergenceWarning: Objective did not converge. You might want to increase the number of iterations. Duality gap: 269543797820053.75, tolerance: 200601636410.698\n",
      "  model = cd_fast.enet_coordinate_descent(\n",
      "C:\\Users\\mehraa\\anaconda3\\lib\\site-packages\\sklearn\\linear_model\\_coordinate_descent.py:530: ConvergenceWarning: Objective did not converge. You might want to increase the number of iterations. Duality gap: 255634952589682.5, tolerance: 186824072267.357\n",
      "  model = cd_fast.enet_coordinate_descent(\n",
      "C:\\Users\\mehraa\\anaconda3\\lib\\site-packages\\sklearn\\linear_model\\_coordinate_descent.py:530: ConvergenceWarning: Objective did not converge. You might want to increase the number of iterations. Duality gap: 272475290135327.78, tolerance: 196874322898.4431\n",
      "  model = cd_fast.enet_coordinate_descent(\n",
      "C:\\Users\\mehraa\\anaconda3\\lib\\site-packages\\sklearn\\linear_model\\_coordinate_descent.py:530: ConvergenceWarning: Objective did not converge. You might want to increase the number of iterations. Duality gap: 272769754877231.8, tolerance: 198017456688.53616\n",
      "  model = cd_fast.enet_coordinate_descent(\n",
      "C:\\Users\\mehraa\\anaconda3\\lib\\site-packages\\sklearn\\linear_model\\_coordinate_descent.py:530: ConvergenceWarning: Objective did not converge. You might want to increase the number of iterations. Duality gap: 239487646082170.62, tolerance: 178133856304.13672\n",
      "  model = cd_fast.enet_coordinate_descent(\n",
      "C:\\Users\\mehraa\\anaconda3\\lib\\site-packages\\sklearn\\linear_model\\_coordinate_descent.py:530: ConvergenceWarning: Objective did not converge. You might want to increase the number of iterations. Duality gap: 269750751308678.0, tolerance: 200601636410.698\n",
      "  model = cd_fast.enet_coordinate_descent(\n",
      "C:\\Users\\mehraa\\anaconda3\\lib\\site-packages\\sklearn\\linear_model\\_coordinate_descent.py:530: ConvergenceWarning: Objective did not converge. You might want to increase the number of iterations. Duality gap: 255831387030246.3, tolerance: 186824072267.357\n",
      "  model = cd_fast.enet_coordinate_descent(\n"
     ]
    },
    {
     "name": "stderr",
     "output_type": "stream",
     "text": [
      "C:\\Users\\mehraa\\anaconda3\\lib\\site-packages\\sklearn\\linear_model\\_coordinate_descent.py:530: ConvergenceWarning: Objective did not converge. You might want to increase the number of iterations. Duality gap: 272675239829138.7, tolerance: 196874322898.4431\n",
      "  model = cd_fast.enet_coordinate_descent(\n",
      "C:\\Users\\mehraa\\anaconda3\\lib\\site-packages\\sklearn\\linear_model\\_coordinate_descent.py:530: ConvergenceWarning: Objective did not converge. You might want to increase the number of iterations. Duality gap: 272969554106826.78, tolerance: 198017456688.53616\n",
      "  model = cd_fast.enet_coordinate_descent(\n",
      "C:\\Users\\mehraa\\anaconda3\\lib\\site-packages\\sklearn\\linear_model\\_coordinate_descent.py:530: ConvergenceWarning: Objective did not converge. You might want to increase the number of iterations. Duality gap: 241484253195656.1, tolerance: 178133856304.13672\n",
      "  model = cd_fast.enet_coordinate_descent(\n",
      "C:\\Users\\mehraa\\anaconda3\\lib\\site-packages\\sklearn\\linear_model\\_coordinate_descent.py:530: ConvergenceWarning: Objective did not converge. You might want to increase the number of iterations. Duality gap: 271801817563416.94, tolerance: 200601636410.698\n",
      "  model = cd_fast.enet_coordinate_descent(\n",
      "C:\\Users\\mehraa\\anaconda3\\lib\\site-packages\\sklearn\\linear_model\\_coordinate_descent.py:530: ConvergenceWarning: Objective did not converge. You might want to increase the number of iterations. Duality gap: 257776970981032.34, tolerance: 186824072267.357\n",
      "  model = cd_fast.enet_coordinate_descent(\n",
      "C:\\Users\\mehraa\\anaconda3\\lib\\site-packages\\sklearn\\linear_model\\_coordinate_descent.py:530: ConvergenceWarning: Objective did not converge. You might want to increase the number of iterations. Duality gap: 274656917525993.56, tolerance: 196874322898.4431\n",
      "  model = cd_fast.enet_coordinate_descent(\n",
      "C:\\Users\\mehraa\\anaconda3\\lib\\site-packages\\sklearn\\linear_model\\_coordinate_descent.py:530: ConvergenceWarning: Objective did not converge. You might want to increase the number of iterations. Duality gap: 274949483351554.12, tolerance: 198017456688.53616\n",
      "  model = cd_fast.enet_coordinate_descent(\n",
      "C:\\Users\\mehraa\\anaconda3\\lib\\site-packages\\sklearn\\linear_model\\_coordinate_descent.py:530: ConvergenceWarning: Objective did not converge. You might want to increase the number of iterations. Duality gap: 259618081298930.62, tolerance: 178133856304.13672\n",
      "  model = cd_fast.enet_coordinate_descent(\n",
      "C:\\Users\\mehraa\\anaconda3\\lib\\site-packages\\sklearn\\linear_model\\_coordinate_descent.py:530: ConvergenceWarning: Objective did not converge. You might want to increase the number of iterations. Duality gap: 290465564351762.56, tolerance: 200601636410.698\n",
      "  model = cd_fast.enet_coordinate_descent(\n",
      "C:\\Users\\mehraa\\anaconda3\\lib\\site-packages\\sklearn\\linear_model\\_coordinate_descent.py:530: ConvergenceWarning: Objective did not converge. You might want to increase the number of iterations. Duality gap: 275356602911171.56, tolerance: 186824072267.357\n",
      "  model = cd_fast.enet_coordinate_descent(\n",
      "C:\\Users\\mehraa\\anaconda3\\lib\\site-packages\\sklearn\\linear_model\\_coordinate_descent.py:530: ConvergenceWarning: Objective did not converge. You might want to increase the number of iterations. Duality gap: 292692179748334.56, tolerance: 196874322898.4431\n",
      "  model = cd_fast.enet_coordinate_descent(\n",
      "C:\\Users\\mehraa\\anaconda3\\lib\\site-packages\\sklearn\\linear_model\\_coordinate_descent.py:530: ConvergenceWarning: Objective did not converge. You might want to increase the number of iterations. Duality gap: 292942355119626.5, tolerance: 198017456688.53616\n",
      "  model = cd_fast.enet_coordinate_descent(\n",
      "C:\\Users\\mehraa\\anaconda3\\lib\\site-packages\\sklearn\\linear_model\\_coordinate_descent.py:530: ConvergenceWarning: Objective did not converge. You might want to increase the number of iterations. Duality gap: 327263342013382.4, tolerance: 178133856304.13672\n",
      "  model = cd_fast.enet_coordinate_descent(\n",
      "C:\\Users\\mehraa\\anaconda3\\lib\\site-packages\\sklearn\\linear_model\\_coordinate_descent.py:530: ConvergenceWarning: Objective did not converge. You might want to increase the number of iterations. Duality gap: 362833533875291.06, tolerance: 200601636410.698\n",
      "  model = cd_fast.enet_coordinate_descent(\n",
      "C:\\Users\\mehraa\\anaconda3\\lib\\site-packages\\sklearn\\linear_model\\_coordinate_descent.py:530: ConvergenceWarning: Objective did not converge. You might want to increase the number of iterations. Duality gap: 342245473600188.0, tolerance: 186824072267.357\n",
      "  model = cd_fast.enet_coordinate_descent(\n",
      "C:\\Users\\mehraa\\anaconda3\\lib\\site-packages\\sklearn\\linear_model\\_coordinate_descent.py:530: ConvergenceWarning: Objective did not converge. You might want to increase the number of iterations. Duality gap: 360110476382640.56, tolerance: 196874322898.4431\n",
      "  model = cd_fast.enet_coordinate_descent(\n",
      "C:\\Users\\mehraa\\anaconda3\\lib\\site-packages\\sklearn\\linear_model\\_coordinate_descent.py:530: ConvergenceWarning: Objective did not converge. You might want to increase the number of iterations. Duality gap: 362273933170908.0, tolerance: 198017456688.53616\n",
      "  model = cd_fast.enet_coordinate_descent(\n",
      "C:\\Users\\mehraa\\anaconda3\\lib\\site-packages\\sklearn\\linear_model\\_coordinate_descent.py:530: ConvergenceWarning: Objective did not converge. You might want to increase the number of iterations. Duality gap: 328237685382037.06, tolerance: 240120828240.29507\n",
      "  model = cd_fast.enet_coordinate_descent(\n"
     ]
    },
    {
     "data": {
      "text/plain": [
       "GridSearchCV(estimator=Lasso(),\n",
       "             param_grid={'alpha': [0.0001, 0.001, 0.01, 0.1, 1, 10, 100, 1000,\n",
       "                                   10000, 100000]},\n",
       "             return_train_score=True)"
      ]
     },
     "execution_count": 54,
     "metadata": {},
     "output_type": "execute_result"
    }
   ],
   "source": [
    "grid = {'alpha':[0.0001,0.001,0.01,0.1,1,10,100,1000,10000,100000]}\n",
    "lasso = Lasso()\n",
    "lassoCV = GridSearchCV(lasso,param_grid=grid,return_train_score=True)\n",
    "lassoCV.fit(X_train,y_train)"
   ]
  },
  {
   "cell_type": "code",
   "execution_count": 55,
   "metadata": {},
   "outputs": [
    {
     "data": {
      "text/plain": [
       "{'alpha': 10}"
      ]
     },
     "execution_count": 55,
     "metadata": {},
     "output_type": "execute_result"
    }
   ],
   "source": [
    "lassoCV.best_params_"
   ]
  },
  {
   "cell_type": "code",
   "execution_count": 56,
   "metadata": {},
   "outputs": [
    {
     "data": {
      "text/html": [
       "<div>\n",
       "<style scoped>\n",
       "    .dataframe tbody tr th:only-of-type {\n",
       "        vertical-align: middle;\n",
       "    }\n",
       "\n",
       "    .dataframe tbody tr th {\n",
       "        vertical-align: top;\n",
       "    }\n",
       "\n",
       "    .dataframe thead th {\n",
       "        text-align: right;\n",
       "    }\n",
       "</style>\n",
       "<table border=\"1\" class=\"dataframe\">\n",
       "  <thead>\n",
       "    <tr style=\"text-align: right;\">\n",
       "      <th></th>\n",
       "      <th>alpha</th>\n",
       "      <th>Train R2</th>\n",
       "      <th>Valid R2</th>\n",
       "    </tr>\n",
       "  </thead>\n",
       "  <tbody>\n",
       "    <tr>\n",
       "      <th>0</th>\n",
       "      <td>-4.0</td>\n",
       "      <td>0.701084</td>\n",
       "      <td>0.696174</td>\n",
       "    </tr>\n",
       "    <tr>\n",
       "      <th>1</th>\n",
       "      <td>-3.0</td>\n",
       "      <td>0.701084</td>\n",
       "      <td>0.696174</td>\n",
       "    </tr>\n",
       "    <tr>\n",
       "      <th>2</th>\n",
       "      <td>-2.0</td>\n",
       "      <td>0.701084</td>\n",
       "      <td>0.696174</td>\n",
       "    </tr>\n",
       "    <tr>\n",
       "      <th>3</th>\n",
       "      <td>-1.0</td>\n",
       "      <td>0.701084</td>\n",
       "      <td>0.696174</td>\n",
       "    </tr>\n",
       "    <tr>\n",
       "      <th>4</th>\n",
       "      <td>0.0</td>\n",
       "      <td>0.701084</td>\n",
       "      <td>0.696174</td>\n",
       "    </tr>\n",
       "    <tr>\n",
       "      <th>5</th>\n",
       "      <td>1.0</td>\n",
       "      <td>0.701084</td>\n",
       "      <td>0.696176</td>\n",
       "    </tr>\n",
       "    <tr>\n",
       "      <th>6</th>\n",
       "      <td>2.0</td>\n",
       "      <td>0.701063</td>\n",
       "      <td>0.696172</td>\n",
       "    </tr>\n",
       "    <tr>\n",
       "      <th>7</th>\n",
       "      <td>3.0</td>\n",
       "      <td>0.698938</td>\n",
       "      <td>0.694166</td>\n",
       "    </tr>\n",
       "    <tr>\n",
       "      <th>8</th>\n",
       "      <td>4.0</td>\n",
       "      <td>0.629599</td>\n",
       "      <td>0.623981</td>\n",
       "    </tr>\n",
       "    <tr>\n",
       "      <th>9</th>\n",
       "      <td>5.0</td>\n",
       "      <td>0.547221</td>\n",
       "      <td>0.540568</td>\n",
       "    </tr>\n",
       "  </tbody>\n",
       "</table>\n",
       "</div>"
      ],
      "text/plain": [
       "   alpha  Train R2  Valid R2\n",
       "0   -4.0  0.701084  0.696174\n",
       "1   -3.0  0.701084  0.696174\n",
       "2   -2.0  0.701084  0.696174\n",
       "3   -1.0  0.701084  0.696174\n",
       "4    0.0  0.701084  0.696174\n",
       "5    1.0  0.701084  0.696176\n",
       "6    2.0  0.701063  0.696172\n",
       "7    3.0  0.698938  0.694166\n",
       "8    4.0  0.629599  0.623981\n",
       "9    5.0  0.547221  0.540568"
      ]
     },
     "execution_count": 56,
     "metadata": {},
     "output_type": "execute_result"
    }
   ],
   "source": [
    "results = pd.DataFrame()\n",
    "results['alpha'] = np.log10(grid['alpha'])\n",
    "results['Train R2'] = lassoCV.cv_results_['mean_train_score']\n",
    "results['Valid R2'] = lassoCV.cv_results_['mean_test_score']\n",
    "results"
   ]
  },
  {
   "cell_type": "code",
   "execution_count": 58,
   "metadata": {},
   "outputs": [
    {
     "data": {
      "text/plain": [
       "long            -221713.969530\n",
       "bedrooms         -34690.448809\n",
       "yr_built          -2610.550672\n",
       "zipcode            -566.181057\n",
       "sqft_basement      -135.610792\n",
       "sqft_above         -102.658559\n",
       "sqft_lot15           -0.467977\n",
       "sqft_lot              0.175375\n",
       "yr_renovated         20.128781\n",
       "sqft_living15        24.211726\n",
       "sqft_living         288.167312\n",
       "floors             7414.373009\n",
       "condition         26161.181627\n",
       "bathrooms         39420.941851\n",
       "view              52852.008996\n",
       "grade             93710.088516\n",
       "lat              604305.480674\n",
       "waterfront       604347.088538\n",
       "dtype: float64"
      ]
     },
     "execution_count": 58,
     "metadata": {},
     "output_type": "execute_result"
    }
   ],
   "source": [
    "coef = pd.Series(lassoCV.best_estimator_.coef_,index=X_train.columns)\n",
    "coef.sort_values()"
   ]
  },
  {
   "cell_type": "code",
   "execution_count": 59,
   "metadata": {
    "scrolled": true
   },
   "outputs": [
    {
     "data": {
      "text/plain": [
       "<AxesSubplot:>"
      ]
     },
     "execution_count": 59,
     "metadata": {},
     "output_type": "execute_result"
    },
    {
     "data": {
      "image/png": "[encoded data removed]",
      "text/plain": [
       "<Figure size 432x288 with 1 Axes>"
      ]
     },
     "metadata": {
      "needs_background": "light"
     },
     "output_type": "display_data"
    }
   ],
   "source": [
    "coef.sort_values().plot.barh(color='teal')"
   ]
  },
  {
   "cell_type": "code",
   "execution_count": 123,
   "metadata": {},
   "outputs": [],
   "source": [
    "def Prediction(loc,model):\n",
    "    call = Xe_test.loc[loc].to_numpy().reshape(1,-1)\n",
    "    value = pd.DataFrame(call)\n",
    "    target = y_test.iloc[loc]\n",
    "    result = model.predict(value)\n",
    "    print(\"Predicted Price\", result )\n",
    "    print(\"Actual Price\", target)"
   ]
  },
  {
   "cell_type": "code",
   "execution_count": 125,
   "metadata": {},
   "outputs": [
    {
     "name": "stdout",
     "output_type": "stream",
     "text": [
      "Predicted Price [760508.53333333]\n",
      "Actual Price 687000.0\n"
     ]
    }
   ],
   "source": [
    "Prediction(45,rf)"
   ]
  }
 ],
 "metadata": {
  "colab": {
   "collapsed_sections": [],
   "name": "Kings County Project.ipynb",
   "provenance": []
  },
  "kernelspec": {
   "display_name": "Python 3 (ipykernel)",
   "language": "python",
   "name": "python3"
  },
  "language_info": {
   "codemirror_mode": {
    "name": "ipython",
    "version": 3
   },
   "file_extension": ".py",
   "mimetype": "text/x-python",
   "name": "python",
   "nbconvert_exporter": "python",
   "pygments_lexer": "ipython3",
   "version": "3.9.7"
  }
 },
 "nbformat": 4,
 "nbformat_minor": 1
}
